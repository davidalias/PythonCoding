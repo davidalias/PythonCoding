{
 "cells": [
  {
   "cell_type": "markdown",
   "id": "2c53e47e",
   "metadata": {},
   "source": [
    "A decorator is a function that modifies another function"
   ]
  },
  {
   "cell_type": "markdown",
   "id": "42ba38e1",
   "metadata": {},
   "source": [
    "@property decorator -> Used for various methods inside of class. The idea is that we can treat a method as if it's an attribute."
   ]
  },
  {
   "cell_type": "code",
   "execution_count": 2,
   "id": "99d8281d",
   "metadata": {},
   "outputs": [],
   "source": [
    "class Circle:\n",
    "    def __init__(self, radius):\n",
    "        self._radius = radius #private attribute\n",
    "\n",
    "    @property\n",
    "    def radius(self):\n",
    "        return self._radius\n",
    "    \n",
    "    @radius.setter\n",
    "    def radius(self,value):\n",
    "        if value >= 0:\n",
    "            self._radius = value\n",
    "        else:\n",
    "            raise ValueError(\"Radius must be positive\")\n",
    "        \n",
    "    @property\n",
    "    def diameter(self):\n",
    "        return self._radius * 2"
   ]
  },
  {
   "cell_type": "code",
   "execution_count": 3,
   "id": "235d3475",
   "metadata": {},
   "outputs": [
    {
     "name": "stdout",
     "output_type": "stream",
     "text": [
      "5\n",
      "10\n",
      "10\n",
      "20\n"
     ]
    }
   ],
   "source": [
    "#Usage\n",
    "c = Circle(5)\n",
    "print(c.radius)\n",
    "print(c.diameter)\n",
    "c.radius = 10\n",
    "print(c.radius)\n",
    "print(c.diameter)"
   ]
  },
  {
   "cell_type": "code",
   "execution_count": null,
   "id": "70fc8e0a",
   "metadata": {},
   "outputs": [],
   "source": []
  }
 ],
 "metadata": {
  "kernelspec": {
   "display_name": "Python 3",
   "language": "python",
   "name": "python3"
  },
  "language_info": {
   "codemirror_mode": {
    "name": "ipython",
    "version": 3
   },
   "file_extension": ".py",
   "mimetype": "text/x-python",
   "name": "python",
   "nbconvert_exporter": "python",
   "pygments_lexer": "ipython3",
   "version": "3.13.5"
  }
 },
 "nbformat": 4,
 "nbformat_minor": 5
}
