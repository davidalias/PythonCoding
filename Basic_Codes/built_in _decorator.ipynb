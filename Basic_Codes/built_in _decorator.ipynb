{
 "cells": [
  {
   "cell_type": "markdown",
   "id": "2c53e47e",
   "metadata": {},
   "source": [
    "A decorator is a function that modifies another function"
   ]
  },
  {
   "cell_type": "markdown",
   "id": "42ba38e1",
   "metadata": {},
   "source": [
    "@property decorator -> Used for various methods inside of class. The idea is that we can treat a method as if it's an attribute."
   ]
  },
  {
   "cell_type": "code",
   "execution_count": 3,
   "id": "99d8281d",
   "metadata": {},
   "outputs": [],
   "source": [
    "class Circle:\n",
    "    def __init__(self, radius):\n",
    "        self._radius = radius #private attribute\n",
    "\n",
    "    @property\n",
    "    def radius(self): #name of the property is the method name and use it as setter or deleter to write custom setter or deleter methos\n",
    "        print(\"called me\")\n",
    "        return self._radius\n",
    "    \n",
    "    @radius.setter\n",
    "    def radius(self,value):\n",
    "        if value >= 0:\n",
    "            self._radius = value\n",
    "        else:\n",
    "            raise ValueError(\"Radius must be positive\")\n",
    "        \n",
    "    @property\n",
    "    def diameter(self):\n",
    "        return self._radius * 2\n",
    "    \n",
    "    @radius.deleter\n",
    "    def radius(self):\n",
    "        print('deleted')\n",
    "        del self._radius"
   ]
  },
  {
   "cell_type": "code",
   "execution_count": 4,
   "id": "235d3475",
   "metadata": {},
   "outputs": [
    {
     "name": "stdout",
     "output_type": "stream",
     "text": [
      "called me\n",
      "5\n",
      "10\n",
      "called me\n",
      "10\n",
      "20\n",
      "deleted\n"
     ]
    }
   ],
   "source": [
    "#Usage\n",
    "c = Circle(5)\n",
    "print(c.radius)\n",
    "print(c.diameter)\n",
    "c.radius = 10\n",
    "print(c.radius)\n",
    "print(c.diameter)\n",
    "del c.radius"
   ]
  },
  {
   "cell_type": "markdown",
   "id": "70fc8e0a",
   "metadata": {},
   "source": [
    "@staticmethod is used to denote a method inside of a class as static. Something that belongs to the class and not to the instance of the class."
   ]
  },
  {
   "cell_type": "code",
   "execution_count": null,
   "id": "11161972",
   "metadata": {},
   "outputs": [],
   "source": [
    "class Math:\n",
    "    @staticmethod #no need to add 'self', allowing these methods to be used as static methods\n",
    "    def add(x,y):\n",
    "        return x+y\n",
    "    \n",
    "    @staticmethod #use this decorator when you need a static method\n",
    "    def multiply(x, y):\n",
    "        return x*y"
   ]
  },
  {
   "cell_type": "code",
   "execution_count": 6,
   "id": "c201c9e0",
   "metadata": {},
   "outputs": [
    {
     "name": "stdout",
     "output_type": "stream",
     "text": [
      "8\n",
      "72\n"
     ]
    }
   ],
   "source": [
    "#Usage \n",
    "print(Math.add(3,5))\n",
    "print(Math.multiply(9,8))"
   ]
  },
  {
   "cell_type": "code",
   "execution_count": 7,
   "id": "8f9ef21d",
   "metadata": {},
   "outputs": [],
   "source": [
    "m =Math()\n"
   ]
  },
  {
   "cell_type": "code",
   "execution_count": 8,
   "id": "4eae3899",
   "metadata": {},
   "outputs": [
    {
     "data": {
      "text/plain": [
       "15"
      ]
     },
     "execution_count": 8,
     "metadata": {},
     "output_type": "execute_result"
    }
   ],
   "source": [
    "m.add(7,8)"
   ]
  },
  {
   "cell_type": "code",
   "execution_count": null,
   "id": "acca9af7",
   "metadata": {},
   "outputs": [],
   "source": []
  },
  {
   "cell_type": "code",
   "execution_count": 9,
   "id": "a5cc9447",
   "metadata": {},
   "outputs": [
    {
     "ename": "NameError",
     "evalue": "name 'radius' is not defined",
     "output_type": "error",
     "traceback": [
      "\u001b[31m---------------------------------------------------------------------------\u001b[39m",
      "\u001b[31mNameError\u001b[39m                                 Traceback (most recent call last)",
      "\u001b[36mCell\u001b[39m\u001b[36m \u001b[39m\u001b[32mIn[9]\u001b[39m\u001b[32m, line 1\u001b[39m\n\u001b[32m----> \u001b[39m\u001b[32m1\u001b[39m \u001b[38;5;28;43;01mclass\u001b[39;49;00m\u001b[38;5;250;43m \u001b[39;49m\u001b[34;43;01mCircle\u001b[39;49;00m\u001b[43m:\u001b[49m\n\u001b[32m      2\u001b[39m \u001b[43m    \u001b[49m\u001b[38;5;28;43;01mdef\u001b[39;49;00m\u001b[38;5;250;43m \u001b[39;49m\u001b[34;43m__init__\u001b[39;49m\u001b[43m(\u001b[49m\u001b[38;5;28;43mself\u001b[39;49m\u001b[43m,\u001b[49m\u001b[43m \u001b[49m\u001b[43mradius\u001b[49m\u001b[43m)\u001b[49m\u001b[43m:\u001b[49m\n\u001b[32m      3\u001b[39m \u001b[43m        \u001b[49m\u001b[38;5;28;43mself\u001b[39;49m\u001b[43m.\u001b[49m\u001b[43m_radius\u001b[49m\u001b[43m \u001b[49m\u001b[43m=\u001b[49m\u001b[43m \u001b[49m\u001b[43mradius\u001b[49m\u001b[43m \u001b[49m\u001b[38;5;66;43;03m#private attribute\u001b[39;49;00m\n",
      "\u001b[36mCell\u001b[39m\u001b[36m \u001b[39m\u001b[32mIn[9]\u001b[39m\u001b[32m, line 6\u001b[39m, in \u001b[36mCircle\u001b[39m\u001b[34m()\u001b[39m\n\u001b[32m      2\u001b[39m \u001b[38;5;28;01mdef\u001b[39;00m\u001b[38;5;250m \u001b[39m\u001b[34m__init__\u001b[39m(\u001b[38;5;28mself\u001b[39m, radius):\n\u001b[32m      3\u001b[39m     \u001b[38;5;28mself\u001b[39m._radius = radius \u001b[38;5;66;03m#private attribute\u001b[39;00m\n\u001b[32m----> \u001b[39m\u001b[32m6\u001b[39m \u001b[38;5;129m@radius\u001b[39m.setter\n\u001b[32m      7\u001b[39m \u001b[38;5;28;01mdef\u001b[39;00m\u001b[38;5;250m \u001b[39m\u001b[34mradius\u001b[39m(\u001b[38;5;28mself\u001b[39m,value):\n\u001b[32m      8\u001b[39m     \u001b[38;5;28;01mif\u001b[39;00m value >= \u001b[32m0\u001b[39m:\n\u001b[32m      9\u001b[39m         \u001b[38;5;28mself\u001b[39m._radius = value\n",
      "\u001b[31mNameError\u001b[39m: name 'radius' is not defined"
     ]
    }
   ],
   "source": [
    "class Circle:\n",
    "    def __init__(self, radius):\n",
    "        self._radius = radius #private attribute\n",
    "\n",
    "    \n",
    "    @radius.setter\n",
    "    def radius(self,value):\n",
    "        if value >= 0:\n",
    "            self._radius = value\n",
    "        else:\n",
    "            raise ValueError(\"Radius must be positive\")"
   ]
  },
  {
   "cell_type": "code",
   "execution_count": 10,
   "id": "0ddbbcd8",
   "metadata": {},
   "outputs": [],
   "source": [
    "class Circle:\n",
    "    def __init__(self, radius):\n",
    "        self._radius = radius #private attribute\n",
    "\n",
    "    @property\n",
    "    def radius(self): #name of the property is the method name and use it as setter or deleter to write custom setter or deleter methos\n",
    "        print(\"called me\")\n",
    "        return self._radius\n",
    "    \n",
    "    @radius.setter\n",
    "    def radius(self,value):\n",
    "        if value >= 0:\n",
    "            self._radius = value\n",
    "        else:\n",
    "            raise ValueError(\"Radius must be positive\")"
   ]
  },
  {
   "cell_type": "code",
   "execution_count": null,
   "id": "8d438eea",
   "metadata": {},
   "outputs": [],
   "source": []
  },
  {
   "cell_type": "markdown",
   "id": "ab2c4ab8",
   "metadata": {},
   "source": [
    "@classmethod decorator used for methods inside of a class. Transforms the argument inside the method to be the name or instance of the class"
   ]
  },
  {
   "cell_type": "code",
   "execution_count": 1,
   "id": "0beec71c",
   "metadata": {},
   "outputs": [],
   "source": [
    "class Person:\n",
    "    species =\"Homo sapiens\"\n",
    "\n",
    "    @classmethod\n",
    "    def get_species(cls):\n",
    "        print(cls)\n",
    "        return cls.species"
   ]
  },
  {
   "cell_type": "code",
   "execution_count": 2,
   "id": "b97676c3",
   "metadata": {},
   "outputs": [
    {
     "name": "stdout",
     "output_type": "stream",
     "text": [
      "<class '__main__.Person'>\n",
      "Homo sapiens\n"
     ]
    }
   ],
   "source": [
    "#usage\n",
    "print(Person.get_species())"
   ]
  },
  {
   "cell_type": "markdown",
   "id": "87796cfb",
   "metadata": {},
   "source": [
    "Use classmethod decorator to access class attribute.\n",
    "use staticmethod decorator if the function is independent and doesn't need to access anything associated with the class"
   ]
  },
  {
   "cell_type": "markdown",
   "id": "bcb7329f",
   "metadata": {},
   "source": [
    "@dataclass"
   ]
  },
  {
   "cell_type": "code",
   "execution_count": 1,
   "id": "04e9dc75",
   "metadata": {},
   "outputs": [],
   "source": [
    "from dataclasses import dataclass"
   ]
  },
  {
   "cell_type": "code",
   "execution_count": 4,
   "id": "c85f41f1",
   "metadata": {},
   "outputs": [],
   "source": [
    "@dataclass\n",
    "class Product:\n",
    "    name: str\n",
    "    price: float\n",
    "    quantity: int = 0\n",
    "\n",
    "    def total_cost(self) -> float:\n",
    "        return self.price * self.quantity"
   ]
  },
  {
   "cell_type": "code",
   "execution_count": 7,
   "id": "1eadafca",
   "metadata": {},
   "outputs": [],
   "source": [
    "p1 = Product(name=\"Laptop\", price = 1000.0, quantity=3)\n",
    "p2 = Product(name=\"Laptop\", price = 1000.0, quantity=3)\n",
    "p3 = Product(name = \"Smartphone\", price=500.0, quantity=2)"
   ]
  },
  {
   "cell_type": "code",
   "execution_count": 8,
   "id": "aba14ad0",
   "metadata": {},
   "outputs": [
    {
     "name": "stdout",
     "output_type": "stream",
     "text": [
      "Product(name='Laptop', price=1000.0, quantity=3)\n",
      "3000.0\n",
      "True\n",
      "False\n"
     ]
    }
   ],
   "source": [
    "print(p1)\n",
    "print(p1.total_cost())\n",
    "print(p1 == p2)\n",
    "print(p1 == p3)"
   ]
  },
  {
   "cell_type": "code",
   "execution_count": null,
   "id": "0dcfd947",
   "metadata": {},
   "outputs": [],
   "source": []
  },
  {
   "cell_type": "code",
   "execution_count": 6,
   "id": "f9b5033e",
   "metadata": {},
   "outputs": [],
   "source": [
    "@dataclass\n",
    "class User:\n",
    "    id: int\n",
    "    email: str\n",
    "    features: list[dict[str,bool]]"
   ]
  },
  {
   "cell_type": "code",
   "execution_count": 7,
   "id": "19119580",
   "metadata": {},
   "outputs": [],
   "source": [
    "user = User(1, \"abc@gmail.com\", [{\"ab\":True}])"
   ]
  },
  {
   "cell_type": "code",
   "execution_count": 8,
   "id": "cad6bf4d",
   "metadata": {},
   "outputs": [
    {
     "name": "stdout",
     "output_type": "stream",
     "text": [
      "User(id=1, email='abc@gmail.com', features=[{'ab': True}])\n"
     ]
    }
   ],
   "source": [
    "print(user)"
   ]
  },
  {
   "cell_type": "code",
   "execution_count": 10,
   "id": "33109379",
   "metadata": {},
   "outputs": [
    {
     "name": "stdout",
     "output_type": "stream",
     "text": [
      "1\n",
      "[{'ab': True}]\n"
     ]
    }
   ],
   "source": [
    "print(user.id)\n",
    "print(user.features)"
   ]
  },
  {
   "cell_type": "code",
   "execution_count": 14,
   "id": "faeb58d8",
   "metadata": {},
   "outputs": [],
   "source": [
    "from typing import Optional"
   ]
  },
  {
   "cell_type": "code",
   "execution_count": 16,
   "id": "87d7c225",
   "metadata": {},
   "outputs": [],
   "source": [
    "@dataclass\n",
    "class User:\n",
    "    id: int\n",
    "    email: str\n",
    "    features: list[dict[str,bool]]"
   ]
  },
  {
   "cell_type": "markdown",
   "id": "a4d2e095",
   "metadata": {},
   "source": [
    "Positional Arguments"
   ]
  },
  {
   "cell_type": "code",
   "execution_count": null,
   "id": "7f58ee99",
   "metadata": {},
   "outputs": [
    {
     "name": "stdout",
     "output_type": "stream",
     "text": [
      "[1, 2, 3, 4]\n",
      "1 2 3 4\n"
     ]
    }
   ],
   "source": [
    "nums = [1,2,3,4]\n",
    "print(nums)\n",
    "print(*nums) #hacking"
   ]
  },
  {
   "cell_type": "code",
   "execution_count": null,
   "id": "7c7ef897",
   "metadata": {},
   "outputs": [],
   "source": [
    "def order_pizza(size, *toppings): # *toppings represents hacked\n",
    "    print(f\"Ordered a {size} pizza\")\n",
    "    print(toppings) #toppings represents unhacked, that is, inside tuple"
   ]
  },
  {
   "cell_type": "code",
   "execution_count": 19,
   "id": "9e4b8992",
   "metadata": {},
   "outputs": [
    {
     "name": "stdout",
     "output_type": "stream",
     "text": [
      "Ordered a large pizza\n",
      "('barbeque', 'olives')\n"
     ]
    }
   ],
   "source": [
    "order_pizza(\"large\", \"barbeque\", \"olives\")"
   ]
  },
  {
   "cell_type": "code",
   "execution_count": 20,
   "id": "2b1470ec",
   "metadata": {},
   "outputs": [],
   "source": [
    "def order_pizza(size, *toppings): # *toppings represents hacked\n",
    "    print(f\"Ordered a {size} pizza with the following toppings:\")\n",
    "    for topping in toppings:\n",
    "        print(f\"- {topping}\")"
   ]
  },
  {
   "cell_type": "code",
   "execution_count": 21,
   "id": "8fc07fb3",
   "metadata": {},
   "outputs": [
    {
     "name": "stdout",
     "output_type": "stream",
     "text": [
      "Ordered a large pizza with the following toppings:\n",
      "- barbeque\n",
      "- olives\n"
     ]
    }
   ],
   "source": [
    "order_pizza(\"large\", \"barbeque\", \"olives\")"
   ]
  },
  {
   "cell_type": "markdown",
   "id": "1973c2f4",
   "metadata": {},
   "source": [
    "Key word arguments"
   ]
  },
  {
   "cell_type": "code",
   "execution_count": null,
   "id": "4194fd59",
   "metadata": {},
   "outputs": [],
   "source": [
    "def order_pizza(size, *toppings, **details): \n",
    "    print(f\"Ordered a {size} pizza with the following toppings:\")\n",
    "    for topping in toppings:\n",
    "        print(f\"- {topping}\")\n",
    "\n",
    "    print(details)# keyword arguments converted to dictionary"
   ]
  },
  {
   "cell_type": "code",
   "execution_count": 24,
   "id": "b77a676a",
   "metadata": {},
   "outputs": [
    {
     "name": "stdout",
     "output_type": "stream",
     "text": [
      "Ordered a large pizza with the following toppings:\n",
      "- barbeque\n",
      "- olives\n",
      "{'delivery': True, 'tip': 5}\n"
     ]
    }
   ],
   "source": [
    "order_pizza(\"large\", \"barbeque\", \"olives\", delivery = True, tip = 5)"
   ]
  },
  {
   "cell_type": "code",
   "execution_count": 25,
   "id": "5ccf6d36",
   "metadata": {},
   "outputs": [],
   "source": [
    "def order_pizza(size, *toppings, **details): \n",
    "    print(f\"Ordered a {size} pizza with the following toppings:\")\n",
    "    for topping in toppings:\n",
    "        print(f\"- {topping}\")\n",
    "    \n",
    "    for key, value in details.items():\n",
    "        print(f\"{key}:{value}\")"
   ]
  },
  {
   "cell_type": "code",
   "execution_count": 26,
   "id": "d535d791",
   "metadata": {},
   "outputs": [
    {
     "name": "stdout",
     "output_type": "stream",
     "text": [
      "Ordered a large pizza with the following toppings:\n",
      "- barbeque\n",
      "- olives\n",
      "delivery:True\n",
      "tip:5\n"
     ]
    }
   ],
   "source": [
    "order_pizza(\"large\", \"barbeque\", \"olives\", delivery = True, tip = 5)"
   ]
  },
  {
   "cell_type": "code",
   "execution_count": null,
   "id": "8723f27b",
   "metadata": {},
   "outputs": [],
   "source": []
  }
 ],
 "metadata": {
  "kernelspec": {
   "display_name": "Python 3",
   "language": "python",
   "name": "python3"
  },
  "language_info": {
   "codemirror_mode": {
    "name": "ipython",
    "version": 3
   },
   "file_extension": ".py",
   "mimetype": "text/x-python",
   "name": "python",
   "nbconvert_exporter": "python",
   "pygments_lexer": "ipython3",
   "version": "3.13.5"
  }
 },
 "nbformat": 4,
 "nbformat_minor": 5
}
