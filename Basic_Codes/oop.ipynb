{
 "cells": [
  {
   "cell_type": "code",
   "execution_count": 1,
   "id": "6386e0ed-4e4b-4627-bc4c-6c51c0995adb",
   "metadata": {},
   "outputs": [],
   "source": [
    "mylist = [1,2,3,4]"
   ]
  },
  {
   "cell_type": "code",
   "execution_count": 3,
   "id": "d384705a-2bf8-419e-8127-a6a0da1376ff",
   "metadata": {},
   "outputs": [],
   "source": [
    "myset = set()"
   ]
  },
  {
   "cell_type": "code",
   "execution_count": 5,
   "id": "bdf69b38-0390-41da-9ff7-b38760ae798b",
   "metadata": {},
   "outputs": [
    {
     "data": {
      "text/plain": [
       "[1, 2, 3, 4]"
      ]
     },
     "execution_count": 5,
     "metadata": {},
     "output_type": "execute_result"
    }
   ],
   "source": [
    "mylist"
   ]
  },
  {
   "cell_type": "code",
   "execution_count": 7,
   "id": "e783358f-8ce8-4f28-88cc-7826f4a530d6",
   "metadata": {},
   "outputs": [
    {
     "data": {
      "text/plain": [
       "list"
      ]
     },
     "execution_count": 7,
     "metadata": {},
     "output_type": "execute_result"
    }
   ],
   "source": [
    "type(mylist)"
   ]
  },
  {
   "cell_type": "code",
   "execution_count": 11,
   "id": "20502882-c4f9-4097-9a08-cae7feef5a98",
   "metadata": {},
   "outputs": [
    {
     "data": {
      "text/plain": [
       "set"
      ]
     },
     "execution_count": 11,
     "metadata": {},
     "output_type": "execute_result"
    }
   ],
   "source": [
    "type(myset)"
   ]
  },
  {
   "cell_type": "code",
   "execution_count": 13,
   "id": "5853b8f3-4b4d-4056-aa64-277deb2eed99",
   "metadata": {},
   "outputs": [],
   "source": [
    "class Sample():\n",
    "    pass"
   ]
  },
  {
   "cell_type": "code",
   "execution_count": 15,
   "id": "7d1e406f-bfac-440f-b686-d5e6358bb43a",
   "metadata": {},
   "outputs": [],
   "source": [
    "my_sample = Sample()"
   ]
  },
  {
   "cell_type": "code",
   "execution_count": 17,
   "id": "80dcdf17-2993-48b8-a87a-80cf9fdc2730",
   "metadata": {},
   "outputs": [
    {
     "data": {
      "text/plain": [
       "__main__.Sample"
      ]
     },
     "execution_count": 17,
     "metadata": {},
     "output_type": "execute_result"
    }
   ],
   "source": [
    "type(my_sample)"
   ]
  },
  {
   "cell_type": "code",
   "execution_count": 37,
   "id": "e2d22a9a-b74f-452f-b37f-d66a3eb405c0",
   "metadata": {},
   "outputs": [],
   "source": [
    "class Dog():\n",
    "    def __init__(self,breed):  #method\n",
    "        self.breed = breed   #Attribute->characteristic of an object\n",
    "        #We take in the argument and assign it with self.attribute"
   ]
  },
  {
   "cell_type": "code",
   "execution_count": 33,
   "id": "4f850ddb-e2e2-4101-b060-5aa02c2abab6",
   "metadata": {},
   "outputs": [],
   "source": [
    "my_dog = Dog(breed = \"Lab\")"
   ]
  },
  {
   "cell_type": "code",
   "execution_count": 35,
   "id": "52f381d9-5a2a-4cb7-9176-68e9185145a5",
   "metadata": {},
   "outputs": [
    {
     "data": {
      "text/plain": [
       "__main__.Dog"
      ]
     },
     "execution_count": 35,
     "metadata": {},
     "output_type": "execute_result"
    }
   ],
   "source": [
    "type(my_dog)"
   ]
  },
  {
   "cell_type": "code",
   "execution_count": 39,
   "id": "f3b42f14-5c10-45d4-a601-75c9e0894fd5",
   "metadata": {},
   "outputs": [
    {
     "data": {
      "text/plain": [
       "'Lab'"
      ]
     },
     "execution_count": 39,
     "metadata": {},
     "output_type": "execute_result"
    }
   ],
   "source": [
    "my_dog.breed"
   ]
  },
  {
   "cell_type": "code",
   "execution_count": 41,
   "id": "aba3b1db-f57b-4b70-814d-118d560eeb89",
   "metadata": {},
   "outputs": [],
   "source": [
    "class Dog1():\n",
    "    def __init__(self,mybreed):\n",
    "        self.myattribute = mybreed"
   ]
  },
  {
   "cell_type": "code",
   "execution_count": 43,
   "id": "a52e704b-1857-4e2e-9432-a82842b77ad9",
   "metadata": {},
   "outputs": [],
   "source": [
    "my_dog1 = Dog1(mybreed = \"Huskie\")"
   ]
  },
  {
   "cell_type": "code",
   "execution_count": 45,
   "id": "24625b17-7030-4531-9544-c1607e73172f",
   "metadata": {},
   "outputs": [
    {
     "data": {
      "text/plain": [
       "'Huskie'"
      ]
     },
     "execution_count": 45,
     "metadata": {},
     "output_type": "execute_result"
    }
   ],
   "source": [
    "my_dog1.myattribute"
   ]
  },
  {
   "cell_type": "code",
   "execution_count": 47,
   "id": "de4227b1-83a4-4529-8ea4-89f1b6fa966f",
   "metadata": {},
   "outputs": [
    {
     "data": {
      "text/plain": [
       "__main__.Dog1"
      ]
     },
     "execution_count": 47,
     "metadata": {},
     "output_type": "execute_result"
    }
   ],
   "source": [
    "type(my_dog1)"
   ]
  },
  {
   "cell_type": "code",
   "execution_count": 55,
   "id": "7b75c551-e365-4111-840d-200f66263ad5",
   "metadata": {},
   "outputs": [],
   "source": [
    "class Dog2():\n",
    "    #class object attribute is same for all instances of a class\n",
    "    species = \"mammal\"\n",
    "    def __init__(self,mybreed):\n",
    "        self.mybreed = mybreed"
   ]
  },
  {
   "cell_type": "code",
   "execution_count": 57,
   "id": "ce7d8cb8-3c4e-4d99-8caf-7dc0aeab10c7",
   "metadata": {},
   "outputs": [],
   "source": [
    "mydog2 = Dog2(mybreed = \"lab\")\n"
   ]
  },
  {
   "cell_type": "code",
   "execution_count": 60,
   "id": "fe36535f-d2cb-481e-aed8-b91568594982",
   "metadata": {},
   "outputs": [
    {
     "data": {
      "text/plain": [
       "'mammal'"
      ]
     },
     "execution_count": 60,
     "metadata": {},
     "output_type": "execute_result"
    }
   ],
   "source": [
    "mydog2.species"
   ]
  },
  {
   "cell_type": "code",
   "execution_count": 109,
   "id": "46141a8a-54c7-43ef-9dc1-5ec1e7150ad2",
   "metadata": {},
   "outputs": [],
   "source": [
    "class Dog3():\n",
    "    species = 'mammal'\n",
    "    def __init__(self, breed, name):\n",
    "        self.breed = breed\n",
    "        self.name = name\n",
    "\n",
    "    #Operations/Actions --> methods\n",
    "    def bark(self):  \n",
    "        print(f\"WOOF! My name is {self.name}\")"
   ]
  },
  {
   "cell_type": "code",
   "execution_count": 95,
   "id": "b85115fd-c432-4193-a012-4e5e5f666983",
   "metadata": {},
   "outputs": [],
   "source": [
    "mydog3 = Dog3(\"Lab\",\"idk\")"
   ]
  },
  {
   "cell_type": "code",
   "execution_count": 97,
   "id": "1dcbd78e-5f65-40c4-88c0-d773bd5a187a",
   "metadata": {},
   "outputs": [
    {
     "data": {
      "text/plain": [
       "'idk'"
      ]
     },
     "execution_count": 97,
     "metadata": {},
     "output_type": "execute_result"
    }
   ],
   "source": [
    "mydog3.name"
   ]
  },
  {
   "cell_type": "code",
   "execution_count": 99,
   "id": "018e25dc-dc87-4296-b623-dcd0563dd062",
   "metadata": {},
   "outputs": [
    {
     "data": {
      "text/plain": [
       "__main__.Dog3"
      ]
     },
     "execution_count": 99,
     "metadata": {},
     "output_type": "execute_result"
    }
   ],
   "source": [
    "type(mydog3)"
   ]
  },
  {
   "cell_type": "code",
   "execution_count": 101,
   "id": "4f5c81cb-58a5-4bd8-9266-01230149f832",
   "metadata": {},
   "outputs": [
    {
     "name": "stdout",
     "output_type": "stream",
     "text": [
      "WOOF! My name is idk\n"
     ]
    }
   ],
   "source": [
    "mydog3.bark()"
   ]
  },
  {
   "cell_type": "code",
   "execution_count": null,
   "id": "170c6ea9-c26e-4688-83c9-b0c93e9508e7",
   "metadata": {},
   "outputs": [],
   "source": []
  },
  {
   "cell_type": "code",
   "execution_count": 103,
   "id": "838d53ec-603b-40f1-b6c7-8f5a7d842ae7",
   "metadata": {},
   "outputs": [],
   "source": [
    "class Dog4():\n",
    "    species = 'mammal'\n",
    "    def __init__(self, breed, name):\n",
    "        self.breed = breed\n",
    "        self.name = name\n",
    "\n",
    "    def bark(self,age):\n",
    "        print(f\"WOOF! My name is {self.name} and I am {age} years old\")"
   ]
  },
  {
   "cell_type": "code",
   "execution_count": 105,
   "id": "f4bc1d64-6514-4b14-841b-33c7f183195f",
   "metadata": {},
   "outputs": [],
   "source": [
    "mydog4 = Dog4(\"lab\",'idk')"
   ]
  },
  {
   "cell_type": "code",
   "execution_count": 107,
   "id": "e127ce67-7243-4346-a86f-34426d7aaabd",
   "metadata": {},
   "outputs": [
    {
     "name": "stdout",
     "output_type": "stream",
     "text": [
      "WOOF! My name is idk and I am 3 years old\n"
     ]
    }
   ],
   "source": [
    "mydog4.bark(3)"
   ]
  },
  {
   "cell_type": "code",
   "execution_count": null,
   "id": "bbfbf80d-8726-4de0-9722-d7c183ebdf6c",
   "metadata": {},
   "outputs": [],
   "source": []
  },
  {
   "cell_type": "code",
   "execution_count": null,
   "id": "568d53ff-4185-4ebf-8a01-31ac83a45fd0",
   "metadata": {},
   "outputs": [],
   "source": []
  },
  {
   "cell_type": "code",
   "execution_count": null,
   "id": "f5aabeb3-f123-43aa-83ba-2b1cc8c16618",
   "metadata": {},
   "outputs": [],
   "source": []
  },
  {
   "cell_type": "code",
   "execution_count": 114,
   "id": "3074fba5-e3da-4950-a767-80d6b13335d4",
   "metadata": {},
   "outputs": [],
   "source": [
    "class Circle():\n",
    "    pi = 3.14 # class object attribute\n",
    "    def __init__(self,radius = 1):\n",
    "        self.radius = radius\n",
    "        self.area = radius*radius*self.pi  #self.pi can also be written as Circle.pi\n",
    "\n",
    "    def get_circumference(self):\n",
    "        return (2*self.pi*self.radius) #self.pi can also be written as Circle.pi"
   ]
  },
  {
   "cell_type": "code",
   "execution_count": 116,
   "id": "b3176265-9366-4826-8eb2-64f8461d89bd",
   "metadata": {},
   "outputs": [],
   "source": [
    "mycircle = Circle(10)"
   ]
  },
  {
   "cell_type": "code",
   "execution_count": 118,
   "id": "eefef4af-327a-43f2-b1f2-2d65fa0bb92a",
   "metadata": {},
   "outputs": [
    {
     "data": {
      "text/plain": [
       "3.14"
      ]
     },
     "execution_count": 118,
     "metadata": {},
     "output_type": "execute_result"
    }
   ],
   "source": [
    "mycircle.pi"
   ]
  },
  {
   "cell_type": "code",
   "execution_count": 120,
   "id": "fa8e407a-26d3-4e80-876c-2c82f18aab7e",
   "metadata": {},
   "outputs": [
    {
     "data": {
      "text/plain": [
       "10"
      ]
     },
     "execution_count": 120,
     "metadata": {},
     "output_type": "execute_result"
    }
   ],
   "source": [
    "mycircle.radius"
   ]
  },
  {
   "cell_type": "code",
   "execution_count": 122,
   "id": "9d7cf419-03aa-42f3-85a5-4425f0b8e8e6",
   "metadata": {},
   "outputs": [
    {
     "data": {
      "text/plain": [
       "314.0"
      ]
     },
     "execution_count": 122,
     "metadata": {},
     "output_type": "execute_result"
    }
   ],
   "source": [
    "mycircle.area"
   ]
  },
  {
   "cell_type": "code",
   "execution_count": 126,
   "id": "df4766f1-eb6a-4c21-a523-776feb939ea7",
   "metadata": {},
   "outputs": [
    {
     "data": {
      "text/plain": [
       "62.800000000000004"
      ]
     },
     "execution_count": 126,
     "metadata": {},
     "output_type": "execute_result"
    }
   ],
   "source": [
    "mycircle.get_circumference()"
   ]
  },
  {
   "cell_type": "code",
   "execution_count": null,
   "id": "092b74cb-d825-4d83-a7be-eb1664dc0299",
   "metadata": {},
   "outputs": [],
   "source": []
  },
  {
   "cell_type": "code",
   "execution_count": null,
   "id": "b637fe5d-4104-4659-8040-7970753c075c",
   "metadata": {},
   "outputs": [],
   "source": []
  },
  {
   "cell_type": "code",
   "execution_count": null,
   "id": "da01e452-5c68-40f5-a3e9-7f581ea8967e",
   "metadata": {},
   "outputs": [],
   "source": []
  },
  {
   "cell_type": "code",
   "execution_count": null,
   "id": "aec2b046-87c9-4658-b942-917d78f440b2",
   "metadata": {},
   "outputs": [],
   "source": []
  }
 ],
 "metadata": {
  "kernelspec": {
   "display_name": "Python 3 (ipykernel)",
   "language": "python",
   "name": "python3"
  },
  "language_info": {
   "codemirror_mode": {
    "name": "ipython",
    "version": 3
   },
   "file_extension": ".py",
   "mimetype": "text/x-python",
   "name": "python",
   "nbconvert_exporter": "python",
   "pygments_lexer": "ipython3",
   "version": "3.12.3"
  }
 },
 "nbformat": 4,
 "nbformat_minor": 5
}
