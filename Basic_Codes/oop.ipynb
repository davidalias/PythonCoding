{
 "cells": [
  {
   "cell_type": "code",
   "execution_count": 1,
   "id": "6386e0ed-4e4b-4627-bc4c-6c51c0995adb",
   "metadata": {},
   "outputs": [],
   "source": [
    "mylist = [1,2,3,4]"
   ]
  },
  {
   "cell_type": "code",
   "execution_count": 3,
   "id": "d384705a-2bf8-419e-8127-a6a0da1376ff",
   "metadata": {},
   "outputs": [],
   "source": [
    "myset = set()"
   ]
  },
  {
   "cell_type": "code",
   "execution_count": 5,
   "id": "bdf69b38-0390-41da-9ff7-b38760ae798b",
   "metadata": {},
   "outputs": [
    {
     "data": {
      "text/plain": [
       "[1, 2, 3, 4]"
      ]
     },
     "execution_count": 5,
     "metadata": {},
     "output_type": "execute_result"
    }
   ],
   "source": [
    "mylist"
   ]
  },
  {
   "cell_type": "code",
   "execution_count": 7,
   "id": "e783358f-8ce8-4f28-88cc-7826f4a530d6",
   "metadata": {},
   "outputs": [
    {
     "data": {
      "text/plain": [
       "list"
      ]
     },
     "execution_count": 7,
     "metadata": {},
     "output_type": "execute_result"
    }
   ],
   "source": [
    "type(mylist)"
   ]
  },
  {
   "cell_type": "code",
   "execution_count": 11,
   "id": "20502882-c4f9-4097-9a08-cae7feef5a98",
   "metadata": {},
   "outputs": [
    {
     "data": {
      "text/plain": [
       "set"
      ]
     },
     "execution_count": 11,
     "metadata": {},
     "output_type": "execute_result"
    }
   ],
   "source": [
    "type(myset)"
   ]
  },
  {
   "cell_type": "code",
   "execution_count": 13,
   "id": "5853b8f3-4b4d-4056-aa64-277deb2eed99",
   "metadata": {},
   "outputs": [],
   "source": [
    "class Sample():\n",
    "    pass"
   ]
  },
  {
   "cell_type": "code",
   "execution_count": 15,
   "id": "7d1e406f-bfac-440f-b686-d5e6358bb43a",
   "metadata": {},
   "outputs": [],
   "source": [
    "my_sample = Sample()"
   ]
  },
  {
   "cell_type": "code",
   "execution_count": 17,
   "id": "80dcdf17-2993-48b8-a87a-80cf9fdc2730",
   "metadata": {},
   "outputs": [
    {
     "data": {
      "text/plain": [
       "__main__.Sample"
      ]
     },
     "execution_count": 17,
     "metadata": {},
     "output_type": "execute_result"
    }
   ],
   "source": [
    "type(my_sample)"
   ]
  },
  {
   "cell_type": "code",
   "execution_count": 37,
   "id": "e2d22a9a-b74f-452f-b37f-d66a3eb405c0",
   "metadata": {},
   "outputs": [],
   "source": [
    "class Dog():\n",
    "    def __init__(self,breed):  #method\n",
    "        self.breed = breed   #Attribute->characteristic of an object\n",
    "        #We take in the argument and assign it with self.attribute"
   ]
  },
  {
   "cell_type": "code",
   "execution_count": 33,
   "id": "4f850ddb-e2e2-4101-b060-5aa02c2abab6",
   "metadata": {},
   "outputs": [],
   "source": [
    "my_dog = Dog(breed = \"Lab\")"
   ]
  },
  {
   "cell_type": "code",
   "execution_count": 35,
   "id": "52f381d9-5a2a-4cb7-9176-68e9185145a5",
   "metadata": {},
   "outputs": [
    {
     "data": {
      "text/plain": [
       "__main__.Dog"
      ]
     },
     "execution_count": 35,
     "metadata": {},
     "output_type": "execute_result"
    }
   ],
   "source": [
    "type(my_dog)"
   ]
  },
  {
   "cell_type": "code",
   "execution_count": 39,
   "id": "f3b42f14-5c10-45d4-a601-75c9e0894fd5",
   "metadata": {},
   "outputs": [
    {
     "data": {
      "text/plain": [
       "'Lab'"
      ]
     },
     "execution_count": 39,
     "metadata": {},
     "output_type": "execute_result"
    }
   ],
   "source": [
    "my_dog.breed"
   ]
  },
  {
   "cell_type": "code",
   "execution_count": 41,
   "id": "aba3b1db-f57b-4b70-814d-118d560eeb89",
   "metadata": {},
   "outputs": [],
   "source": [
    "class Dog1():\n",
    "    def __init__(self,mybreed):\n",
    "        self.myattribute = mybreed"
   ]
  },
  {
   "cell_type": "code",
   "execution_count": 43,
   "id": "a52e704b-1857-4e2e-9432-a82842b77ad9",
   "metadata": {},
   "outputs": [],
   "source": [
    "my_dog1 = Dog1(mybreed = \"Huskie\")"
   ]
  },
  {
   "cell_type": "code",
   "execution_count": 45,
   "id": "24625b17-7030-4531-9544-c1607e73172f",
   "metadata": {},
   "outputs": [
    {
     "data": {
      "text/plain": [
       "'Huskie'"
      ]
     },
     "execution_count": 45,
     "metadata": {},
     "output_type": "execute_result"
    }
   ],
   "source": [
    "my_dog1.myattribute"
   ]
  },
  {
   "cell_type": "code",
   "execution_count": 47,
   "id": "de4227b1-83a4-4529-8ea4-89f1b6fa966f",
   "metadata": {},
   "outputs": [
    {
     "data": {
      "text/plain": [
       "__main__.Dog1"
      ]
     },
     "execution_count": 47,
     "metadata": {},
     "output_type": "execute_result"
    }
   ],
   "source": [
    "type(my_dog1)"
   ]
  },
  {
   "cell_type": "code",
   "execution_count": 55,
   "id": "7b75c551-e365-4111-840d-200f66263ad5",
   "metadata": {},
   "outputs": [],
   "source": [
    "class Dog2():\n",
    "    #class object attribute is same for all instances of a class\n",
    "    species = \"mammal\"\n",
    "    def __init__(self,mybreed):\n",
    "        self.mybreed = mybreed"
   ]
  },
  {
   "cell_type": "code",
   "execution_count": 57,
   "id": "ce7d8cb8-3c4e-4d99-8caf-7dc0aeab10c7",
   "metadata": {},
   "outputs": [],
   "source": [
    "mydog2 = Dog2(mybreed = \"lab\")\n"
   ]
  },
  {
   "cell_type": "code",
   "execution_count": 60,
   "id": "fe36535f-d2cb-481e-aed8-b91568594982",
   "metadata": {},
   "outputs": [
    {
     "data": {
      "text/plain": [
       "'mammal'"
      ]
     },
     "execution_count": 60,
     "metadata": {},
     "output_type": "execute_result"
    }
   ],
   "source": [
    "mydog2.species"
   ]
  },
  {
   "cell_type": "code",
   "execution_count": 109,
   "id": "46141a8a-54c7-43ef-9dc1-5ec1e7150ad2",
   "metadata": {},
   "outputs": [],
   "source": [
    "class Dog3():\n",
    "    species = 'mammal'\n",
    "    def __init__(self, breed, name):\n",
    "        self.breed = breed\n",
    "        self.name = name\n",
    "\n",
    "    #Operations/Actions --> methods\n",
    "    def bark(self):  \n",
    "        print(f\"WOOF! My name is {self.name}\")"
   ]
  },
  {
   "cell_type": "code",
   "execution_count": 95,
   "id": "b85115fd-c432-4193-a012-4e5e5f666983",
   "metadata": {},
   "outputs": [],
   "source": [
    "mydog3 = Dog3(\"Lab\",\"idk\")"
   ]
  },
  {
   "cell_type": "code",
   "execution_count": 97,
   "id": "1dcbd78e-5f65-40c4-88c0-d773bd5a187a",
   "metadata": {},
   "outputs": [
    {
     "data": {
      "text/plain": [
       "'idk'"
      ]
     },
     "execution_count": 97,
     "metadata": {},
     "output_type": "execute_result"
    }
   ],
   "source": [
    "mydog3.name"
   ]
  },
  {
   "cell_type": "code",
   "execution_count": 99,
   "id": "018e25dc-dc87-4296-b623-dcd0563dd062",
   "metadata": {},
   "outputs": [
    {
     "data": {
      "text/plain": [
       "__main__.Dog3"
      ]
     },
     "execution_count": 99,
     "metadata": {},
     "output_type": "execute_result"
    }
   ],
   "source": [
    "type(mydog3)"
   ]
  },
  {
   "cell_type": "code",
   "execution_count": 101,
   "id": "4f5c81cb-58a5-4bd8-9266-01230149f832",
   "metadata": {},
   "outputs": [
    {
     "name": "stdout",
     "output_type": "stream",
     "text": [
      "WOOF! My name is idk\n"
     ]
    }
   ],
   "source": [
    "mydog3.bark()"
   ]
  },
  {
   "cell_type": "code",
   "execution_count": null,
   "id": "170c6ea9-c26e-4688-83c9-b0c93e9508e7",
   "metadata": {},
   "outputs": [],
   "source": []
  },
  {
   "cell_type": "code",
   "execution_count": 103,
   "id": "838d53ec-603b-40f1-b6c7-8f5a7d842ae7",
   "metadata": {},
   "outputs": [],
   "source": [
    "class Dog4():\n",
    "    species = 'mammal'\n",
    "    def __init__(self, breed, name):\n",
    "        self.breed = breed\n",
    "        self.name = name\n",
    "\n",
    "    def bark(self,age):\n",
    "        print(f\"WOOF! My name is {self.name} and I am {age} years old\")"
   ]
  },
  {
   "cell_type": "code",
   "execution_count": 105,
   "id": "f4bc1d64-6514-4b14-841b-33c7f183195f",
   "metadata": {},
   "outputs": [],
   "source": [
    "mydog4 = Dog4(\"lab\",'idk')"
   ]
  },
  {
   "cell_type": "code",
   "execution_count": 107,
   "id": "e127ce67-7243-4346-a86f-34426d7aaabd",
   "metadata": {},
   "outputs": [
    {
     "name": "stdout",
     "output_type": "stream",
     "text": [
      "WOOF! My name is idk and I am 3 years old\n"
     ]
    }
   ],
   "source": [
    "mydog4.bark(3)"
   ]
  },
  {
   "cell_type": "code",
   "execution_count": null,
   "id": "bbfbf80d-8726-4de0-9722-d7c183ebdf6c",
   "metadata": {},
   "outputs": [],
   "source": []
  },
  {
   "cell_type": "code",
   "execution_count": null,
   "id": "568d53ff-4185-4ebf-8a01-31ac83a45fd0",
   "metadata": {},
   "outputs": [],
   "source": []
  },
  {
   "cell_type": "code",
   "execution_count": null,
   "id": "f5aabeb3-f123-43aa-83ba-2b1cc8c16618",
   "metadata": {},
   "outputs": [],
   "source": []
  },
  {
   "cell_type": "code",
   "execution_count": 114,
   "id": "3074fba5-e3da-4950-a767-80d6b13335d4",
   "metadata": {},
   "outputs": [],
   "source": [
    "class Circle():\n",
    "    pi = 3.14 # class object attribute\n",
    "    def __init__(self,radius = 1):\n",
    "        self.radius = radius\n",
    "        self.area = radius*radius*self.pi  #self.pi can also be written as Circle.pi\n",
    "\n",
    "    def get_circumference(self):\n",
    "        return (2*self.pi*self.radius) #self.pi can also be written as Circle.pi"
   ]
  },
  {
   "cell_type": "code",
   "execution_count": 116,
   "id": "b3176265-9366-4826-8eb2-64f8461d89bd",
   "metadata": {},
   "outputs": [],
   "source": [
    "mycircle = Circle(10)"
   ]
  },
  {
   "cell_type": "code",
   "execution_count": 118,
   "id": "eefef4af-327a-43f2-b1f2-2d65fa0bb92a",
   "metadata": {},
   "outputs": [
    {
     "data": {
      "text/plain": [
       "3.14"
      ]
     },
     "execution_count": 118,
     "metadata": {},
     "output_type": "execute_result"
    }
   ],
   "source": [
    "mycircle.pi"
   ]
  },
  {
   "cell_type": "code",
   "execution_count": 120,
   "id": "fa8e407a-26d3-4e80-876c-2c82f18aab7e",
   "metadata": {},
   "outputs": [
    {
     "data": {
      "text/plain": [
       "10"
      ]
     },
     "execution_count": 120,
     "metadata": {},
     "output_type": "execute_result"
    }
   ],
   "source": [
    "mycircle.radius"
   ]
  },
  {
   "cell_type": "code",
   "execution_count": 122,
   "id": "9d7cf419-03aa-42f3-85a5-4425f0b8e8e6",
   "metadata": {},
   "outputs": [
    {
     "data": {
      "text/plain": [
       "314.0"
      ]
     },
     "execution_count": 122,
     "metadata": {},
     "output_type": "execute_result"
    }
   ],
   "source": [
    "mycircle.area"
   ]
  },
  {
   "cell_type": "code",
   "execution_count": 126,
   "id": "df4766f1-eb6a-4c21-a523-776feb939ea7",
   "metadata": {},
   "outputs": [
    {
     "data": {
      "text/plain": [
       "62.800000000000004"
      ]
     },
     "execution_count": 126,
     "metadata": {},
     "output_type": "execute_result"
    }
   ],
   "source": [
    "mycircle.get_circumference()"
   ]
  },
  {
   "cell_type": "code",
   "execution_count": null,
   "id": "092b74cb-d825-4d83-a7be-eb1664dc0299",
   "metadata": {},
   "outputs": [],
   "source": []
  },
  {
   "cell_type": "code",
   "execution_count": null,
   "id": "b637fe5d-4104-4659-8040-7970753c075c",
   "metadata": {},
   "outputs": [],
   "source": []
  },
  {
   "cell_type": "code",
   "execution_count": null,
   "id": "da01e452-5c68-40f5-a3e9-7f581ea8967e",
   "metadata": {},
   "outputs": [],
   "source": []
  },
  {
   "cell_type": "markdown",
   "id": "9d878787-95ba-4803-af8b-f4c8d228f57c",
   "metadata": {},
   "source": [
    "**##Inheritance**"
   ]
  },
  {
   "cell_type": "code",
   "execution_count": 4,
   "id": "5172a384-4328-47bb-80d4-f9962c271b86",
   "metadata": {},
   "outputs": [],
   "source": [
    "class Animal():\n",
    "    def __init__(self):\n",
    "        print(\"Animal Created\")\n",
    "    "
   ]
  },
  {
   "cell_type": "code",
   "execution_count": 6,
   "id": "cb2d9d7a-24bd-4c5e-8d90-863246e7ce65",
   "metadata": {},
   "outputs": [
    {
     "name": "stdout",
     "output_type": "stream",
     "text": [
      "Animal Created\n"
     ]
    }
   ],
   "source": [
    "myanimal1 = Animal()"
   ]
  },
  {
   "cell_type": "code",
   "execution_count": 20,
   "id": "27ff34a1-9b45-4863-8aee-2a3fe777a93f",
   "metadata": {},
   "outputs": [],
   "source": [
    "#Base Class\n",
    "class Animal():\n",
    "    def __init__(self):\n",
    "        print(\"Animal Created\")\n",
    "\n",
    "    def get_animal(self):\n",
    "        print(\"I am an animal\")\n",
    "\n",
    "    def get_eating(self):\n",
    "        print(\"I am eating\")"
   ]
  },
  {
   "cell_type": "code",
   "execution_count": 10,
   "id": "5a3f0712-8a77-4580-95f3-e8414339398a",
   "metadata": {},
   "outputs": [
    {
     "name": "stdout",
     "output_type": "stream",
     "text": [
      "Animal Created\n"
     ]
    }
   ],
   "source": [
    "myanimal2 = Animal()"
   ]
  },
  {
   "cell_type": "code",
   "execution_count": 14,
   "id": "17428556-666a-4131-a16e-7e190e22dc2e",
   "metadata": {},
   "outputs": [
    {
     "name": "stdout",
     "output_type": "stream",
     "text": [
      "I am an animal\n"
     ]
    }
   ],
   "source": [
    "myanimal2.get_animal()"
   ]
  },
  {
   "cell_type": "code",
   "execution_count": 18,
   "id": "7045c700-eee0-4341-97df-14033a9ebedd",
   "metadata": {},
   "outputs": [
    {
     "name": "stdout",
     "output_type": "stream",
     "text": [
      "I am eating\n"
     ]
    }
   ],
   "source": [
    "myanimal2.get_eating()"
   ]
  },
  {
   "cell_type": "code",
   "execution_count": 22,
   "id": "19e3fe9d-2ab5-459f-aefa-976d6dc4238f",
   "metadata": {},
   "outputs": [],
   "source": [
    "#Derived Class\n",
    "class Dog(Animal):\n",
    "    def __init__(self):\n",
    "        Animal.__init__(self) #created an instance of Animal class\n",
    "        print(\"Dog Created\")"
   ]
  },
  {
   "cell_type": "code",
   "execution_count": 24,
   "id": "8b4489c7-2d24-4e63-8072-672911f72d4f",
   "metadata": {},
   "outputs": [
    {
     "name": "stdout",
     "output_type": "stream",
     "text": [
      "Animal Created\n",
      "Dog Created\n"
     ]
    }
   ],
   "source": [
    "mydog = Dog()"
   ]
  },
  {
   "cell_type": "code",
   "execution_count": 26,
   "id": "da6f4134-b9b2-46fd-8c4e-41a0fe9fada5",
   "metadata": {},
   "outputs": [
    {
     "name": "stdout",
     "output_type": "stream",
     "text": [
      "I am an animal\n"
     ]
    }
   ],
   "source": [
    "mydog.get_animal()"
   ]
  },
  {
   "cell_type": "code",
   "execution_count": 28,
   "id": "0d130eb0-00b7-435a-aae0-610d129e4b14",
   "metadata": {},
   "outputs": [
    {
     "name": "stdout",
     "output_type": "stream",
     "text": [
      "I am eating\n"
     ]
    }
   ],
   "source": [
    "mydog.get_eating()"
   ]
  },
  {
   "cell_type": "code",
   "execution_count": null,
   "id": "02194d9b-ab96-4ed6-8582-b29e5fb47717",
   "metadata": {},
   "outputs": [],
   "source": []
  },
  {
   "cell_type": "code",
   "execution_count": null,
   "id": "667692c3-6ddf-40fb-a764-1edd0e680601",
   "metadata": {},
   "outputs": [],
   "source": []
  },
  {
   "cell_type": "code",
   "execution_count": null,
   "id": "1fe2f7e0-0d36-4e30-82d7-7fffbfc3b568",
   "metadata": {},
   "outputs": [],
   "source": []
  },
  {
   "cell_type": "code",
   "execution_count": null,
   "id": "701ec5fa-e809-4e6d-ac6a-17a9a94ca5b0",
   "metadata": {},
   "outputs": [],
   "source": []
  },
  {
   "cell_type": "code",
   "execution_count": 30,
   "id": "600d0533-b409-4801-b66b-92f275cd9a86",
   "metadata": {},
   "outputs": [],
   "source": [
    "#Derived class\n",
    "class Dog():\n",
    "    def __init__(self):\n",
    "         Animal.__init__(self)\n",
    "         print(\"I am a dog\")\n",
    "\n",
    "    def get_eating(self):  #overwriting base class' method\n",
    "        print(\"I am a dog and I am eating\")\n",
    "\n",
    "    def bark(self):\n",
    "        print(\"woof\")\n",
    "\n",
    "    "
   ]
  },
  {
   "cell_type": "code",
   "execution_count": null,
   "id": "95ebe072-ecc9-40ca-a3b8-7ce9992cd1aa",
   "metadata": {},
   "outputs": [],
   "source": []
  },
  {
   "cell_type": "code",
   "execution_count": null,
   "id": "fafc995b-a933-4848-a50e-f0c282e868a7",
   "metadata": {},
   "outputs": [],
   "source": []
  },
  {
   "cell_type": "markdown",
   "id": "8e980b3e-6919-4099-9826-9bcbbf4b7aea",
   "metadata": {},
   "source": [
    "**Polymorphism**"
   ]
  },
  {
   "cell_type": "code",
   "execution_count": 36,
   "id": "40984e27-6553-4788-a865-68bb37ef7b83",
   "metadata": {},
   "outputs": [],
   "source": [
    "class Dog():\n",
    "    def __init__(self,name):\n",
    "        self.name = name\n",
    "\n",
    "    def speak(self):\n",
    "        return self.name + \" says woof!\"\n",
    "\n"
   ]
  },
  {
   "cell_type": "code",
   "execution_count": 40,
   "id": "9657e583-a16d-41da-996d-a7cf14762d2e",
   "metadata": {},
   "outputs": [],
   "source": [
    "niko = Dog(\"Niko\")"
   ]
  },
  {
   "cell_type": "code",
   "execution_count": 46,
   "id": "39435dbf-0f6d-4954-b4f7-fddd1d62d2c2",
   "metadata": {},
   "outputs": [],
   "source": [
    "class Cat():\n",
    "    def __init__(self,name):\n",
    "        self.name = name\n",
    "\n",
    "    def speak(self):\n",
    "        return self.name + \" says woof!\""
   ]
  },
  {
   "cell_type": "code",
   "execution_count": 48,
   "id": "69b692c7-a41d-491a-83a9-219eb70e6864",
   "metadata": {},
   "outputs": [],
   "source": [
    "felix = Cat(\"Felix\")"
   ]
  },
  {
   "cell_type": "code",
   "execution_count": 50,
   "id": "984e6939-67fa-46c7-a66c-fa53012a0716",
   "metadata": {},
   "outputs": [
    {
     "data": {
      "text/plain": [
       "'Niko says woof!'"
      ]
     },
     "execution_count": 50,
     "metadata": {},
     "output_type": "execute_result"
    }
   ],
   "source": [
    "niko.speak()"
   ]
  },
  {
   "cell_type": "code",
   "execution_count": 52,
   "id": "14e71b33-0b98-4de4-90e8-e08d9213f107",
   "metadata": {},
   "outputs": [
    {
     "data": {
      "text/plain": [
       "'Felix says woof!'"
      ]
     },
     "execution_count": 52,
     "metadata": {},
     "output_type": "execute_result"
    }
   ],
   "source": [
    "felix.speak()"
   ]
  },
  {
   "cell_type": "code",
   "execution_count": null,
   "id": "1e96c316-3350-410b-8c6b-30945a3add28",
   "metadata": {},
   "outputs": [],
   "source": []
  },
  {
   "cell_type": "code",
   "execution_count": null,
   "id": "57b826c4-35ca-4f00-a4f3-7bbe4c4274bc",
   "metadata": {},
   "outputs": [],
   "source": []
  },
  {
   "cell_type": "code",
   "execution_count": 56,
   "id": "3eb5d671-82ba-4321-897f-80d8f5142628",
   "metadata": {},
   "outputs": [
    {
     "name": "stdout",
     "output_type": "stream",
     "text": [
      "<class '__main__.Dog'>\n",
      "Niko says woof!\n",
      "<class '__main__.Cat'>\n",
      "Felix says woof!\n"
     ]
    }
   ],
   "source": [
    "for pet in [niko, felix]:\n",
    "    print(type(pet))\n",
    "    print(pet.speak())"
   ]
  },
  {
   "cell_type": "code",
   "execution_count": 62,
   "id": "10546a66-86b9-4ae5-951d-02a1f6fc01fa",
   "metadata": {},
   "outputs": [],
   "source": [
    "def get_pet(pet):\n",
    "    print(pet.speak())"
   ]
  },
  {
   "cell_type": "code",
   "execution_count": 64,
   "id": "c0ba6317-af43-4632-9508-51c015d780ff",
   "metadata": {},
   "outputs": [
    {
     "name": "stdout",
     "output_type": "stream",
     "text": [
      "Niko says woof!\n"
     ]
    }
   ],
   "source": [
    "get_pet(niko)"
   ]
  },
  {
   "cell_type": "code",
   "execution_count": 66,
   "id": "677585d7-e2fb-446f-a110-294e7d5881cd",
   "metadata": {},
   "outputs": [
    {
     "name": "stdout",
     "output_type": "stream",
     "text": [
      "Felix says woof!\n"
     ]
    }
   ],
   "source": [
    "get_pet(felix)"
   ]
  },
  {
   "cell_type": "code",
   "execution_count": null,
   "id": "074e0b70-9f56-437f-acb8-f2f61f821048",
   "metadata": {},
   "outputs": [],
   "source": []
  },
  {
   "cell_type": "code",
   "execution_count": null,
   "id": "1a2da8c1-f174-436a-9150-bab7dd5a8390",
   "metadata": {},
   "outputs": [],
   "source": []
  },
  {
   "cell_type": "code",
   "execution_count": null,
   "id": "fff75e0e-c47f-4cb1-8cf7-4af699e2adcc",
   "metadata": {},
   "outputs": [],
   "source": []
  },
  {
   "cell_type": "code",
   "execution_count": 71,
   "id": "46123405-c369-40fa-89aa-4e59ba943638",
   "metadata": {},
   "outputs": [],
   "source": [
    "class Animal():\n",
    "    def __init__(self, name):\n",
    "        self.name = name\n",
    "\n",
    "    def speak(self):\n",
    "        raise NotIMplementedError(\"subclass must implement this abstract method\")\n",
    "        "
   ]
  },
  {
   "cell_type": "code",
   "execution_count": 73,
   "id": "d7528c47-5663-4e01-8bc6-f083c4602d2f",
   "metadata": {},
   "outputs": [],
   "source": [
    "class Dog(Animal):\n",
    "    def speak(self):\n",
    "        return self.name + \" says woof!\""
   ]
  },
  {
   "cell_type": "code",
   "execution_count": 75,
   "id": "a9a24324-dc3e-489a-987d-1c86421d234d",
   "metadata": {},
   "outputs": [],
   "source": [
    "class Cat(Animal):\n",
    "    def speak(self):\n",
    "        return self.name + \" says meow!\""
   ]
  },
  {
   "cell_type": "code",
   "execution_count": 79,
   "id": "62010cbc-5469-4763-9210-b47170d41ad2",
   "metadata": {},
   "outputs": [],
   "source": [
    "fido = Dog(\"Fido\")"
   ]
  },
  {
   "cell_type": "code",
   "execution_count": 81,
   "id": "043568d3-c6fa-499b-94c8-2851e10c2bc9",
   "metadata": {},
   "outputs": [],
   "source": [
    "feli = Cat(\"feli\")"
   ]
  },
  {
   "cell_type": "code",
   "execution_count": 83,
   "id": "712731ca-7edb-48d8-877e-3f7118f65ea4",
   "metadata": {},
   "outputs": [
    {
     "name": "stdout",
     "output_type": "stream",
     "text": [
      "Fido says woof!\n"
     ]
    }
   ],
   "source": [
    "print(fido.speak())"
   ]
  },
  {
   "cell_type": "code",
   "execution_count": 85,
   "id": "27b42a4b-6b03-4261-85bb-79eb570fbfd2",
   "metadata": {},
   "outputs": [
    {
     "name": "stdout",
     "output_type": "stream",
     "text": [
      "feli says meow!\n"
     ]
    }
   ],
   "source": [
    "print(feli.speak())"
   ]
  },
  {
   "cell_type": "code",
   "execution_count": null,
   "id": "9840efd3-9fd8-4f06-875d-15730a0a901d",
   "metadata": {},
   "outputs": [],
   "source": []
  }
 ],
 "metadata": {
  "kernelspec": {
   "display_name": "Python 3 (ipykernel)",
   "language": "python",
   "name": "python3"
  },
  "language_info": {
   "codemirror_mode": {
    "name": "ipython",
    "version": 3
   },
   "file_extension": ".py",
   "mimetype": "text/x-python",
   "name": "python",
   "nbconvert_exporter": "python",
   "pygments_lexer": "ipython3",
   "version": "3.12.3"
  }
 },
 "nbformat": 4,
 "nbformat_minor": 5
}
