{
 "cells": [
  {
   "cell_type": "code",
   "execution_count": 2,
   "id": "508e2b81-ba73-4b8e-aeb8-dcd9ad35c5a6",
   "metadata": {},
   "outputs": [],
   "source": [
    "def create_cubes(n):\n",
    "    cubes = []\n",
    "    for num in range(n):\n",
    "        cubes.append(num ** 3)\n",
    "\n",
    "    return cubes"
   ]
  },
  {
   "cell_type": "code",
   "execution_count": 4,
   "id": "278133d0-1e0c-49f1-a179-05f39e42b697",
   "metadata": {},
   "outputs": [
    {
     "data": {
      "text/plain": [
       "[0, 1, 8, 27, 64, 125, 216, 343, 512, 729]"
      ]
     },
     "execution_count": 4,
     "metadata": {},
     "output_type": "execute_result"
    }
   ],
   "source": [
    "create_cubes(10)"
   ]
  },
  {
   "cell_type": "code",
   "execution_count": 8,
   "id": "576c6787-ccf3-44aa-8e3a-9ba795fcd539",
   "metadata": {},
   "outputs": [
    {
     "name": "stdout",
     "output_type": "stream",
     "text": [
      "0\n",
      "1\n",
      "8\n",
      "27\n",
      "64\n",
      "125\n",
      "216\n",
      "343\n",
      "512\n",
      "729\n"
     ]
    }
   ],
   "source": [
    "for x in create_cubes(10):\n",
    "    print(x)"
   ]
  },
  {
   "cell_type": "code",
   "execution_count": null,
   "id": "aed75cc4-9713-4e5b-9a7a-1082f423c26c",
   "metadata": {},
   "outputs": [],
   "source": []
  },
  {
   "cell_type": "code",
   "execution_count": null,
   "id": "09ece85b-4373-49ba-a7f8-05b8f484be60",
   "metadata": {},
   "outputs": [],
   "source": []
  },
  {
   "cell_type": "code",
   "execution_count": 12,
   "id": "bb90b1ed-edaa-4c14-9b17-b11284e32c60",
   "metadata": {},
   "outputs": [],
   "source": [
    "def create_cubes(n):\n",
    "    cubes = []\n",
    "    for num in range(n):\n",
    "        yield(num ** 3)"
   ]
  },
  {
   "cell_type": "code",
   "execution_count": 14,
   "id": "fa739f15-0711-4bb1-8e51-a895fb624a75",
   "metadata": {},
   "outputs": [
    {
     "data": {
      "text/plain": [
       "<generator object create_cubes at 0x000002A01C59CC70>"
      ]
     },
     "execution_count": 14,
     "metadata": {},
     "output_type": "execute_result"
    }
   ],
   "source": [
    "create_cubes(10)"
   ]
  },
  {
   "cell_type": "code",
   "execution_count": 16,
   "id": "9c36adbb-10c2-46a3-b06e-de47201c00d0",
   "metadata": {},
   "outputs": [
    {
     "data": {
      "text/plain": [
       "[0, 1, 8, 27, 64, 125, 216, 343, 512, 729]"
      ]
     },
     "execution_count": 16,
     "metadata": {},
     "output_type": "execute_result"
    }
   ],
   "source": [
    "list(create_cubes(10))"
   ]
  },
  {
   "cell_type": "code",
   "execution_count": null,
   "id": "9220d089-0b3a-41ac-9708-f60d0f7f284d",
   "metadata": {},
   "outputs": [],
   "source": []
  },
  {
   "cell_type": "code",
   "execution_count": null,
   "id": "83306b24-f394-4a7e-9bc5-02b1163f44f0",
   "metadata": {},
   "outputs": [],
   "source": []
  },
  {
   "cell_type": "code",
   "execution_count": 20,
   "id": "2af34b17-2365-4975-8ffb-804f868db22f",
   "metadata": {},
   "outputs": [],
   "source": [
    "def get_fibon(n):\n",
    "    a = 1\n",
    "    b = 1\n",
    "    for i in range(n):\n",
    "        yield a\n",
    "        a,b = b, a+b"
   ]
  },
  {
   "cell_type": "code",
   "execution_count": 22,
   "id": "4ee2fb1f-6af9-4ef1-a9b3-aea5714356ac",
   "metadata": {},
   "outputs": [
    {
     "data": {
      "text/plain": [
       "<generator object get_fibon at 0x000002A01C56AC00>"
      ]
     },
     "execution_count": 22,
     "metadata": {},
     "output_type": "execute_result"
    }
   ],
   "source": [
    "get_fibon(10)"
   ]
  },
  {
   "cell_type": "code",
   "execution_count": 26,
   "id": "05a82794-2f74-4bb6-851b-9e77cc2fb16a",
   "metadata": {},
   "outputs": [
    {
     "data": {
      "text/plain": [
       "[1, 1, 2, 3, 5, 8, 13, 21, 34, 55]"
      ]
     },
     "execution_count": 26,
     "metadata": {},
     "output_type": "execute_result"
    }
   ],
   "source": [
    "list(get_fibon(10))"
   ]
  },
  {
   "cell_type": "code",
   "execution_count": 28,
   "id": "dc3f5aeb-fcda-4e7a-af36-a7db2e0a65a1",
   "metadata": {},
   "outputs": [
    {
     "name": "stdout",
     "output_type": "stream",
     "text": [
      "1\n",
      "1\n",
      "2\n",
      "3\n",
      "5\n",
      "8\n",
      "13\n",
      "21\n",
      "34\n",
      "55\n"
     ]
    }
   ],
   "source": [
    "for num in get_fibon(10):\n",
    "    print(num)"
   ]
  },
  {
   "cell_type": "code",
   "execution_count": null,
   "id": "33206eaf-268d-4284-bc35-a737195ad288",
   "metadata": {},
   "outputs": [],
   "source": []
  },
  {
   "cell_type": "markdown",
   "id": "416ba5d6-6203-43fb-bbc6-92ad3c5b43e6",
   "metadata": {},
   "source": [
    "**next()**"
   ]
  },
  {
   "cell_type": "code",
   "execution_count": 32,
   "id": "ccefaf28-0425-43f3-9c47-50bf90b1e540",
   "metadata": {},
   "outputs": [],
   "source": [
    "def simple_gen():\n",
    "    for num in range(3):\n",
    "        yield num"
   ]
  },
  {
   "cell_type": "code",
   "execution_count": 34,
   "id": "8b77657d-84ec-4811-a4a7-1e3f2a02c838",
   "metadata": {},
   "outputs": [
    {
     "name": "stdout",
     "output_type": "stream",
     "text": [
      "0\n",
      "1\n",
      "2\n"
     ]
    }
   ],
   "source": [
    "for number in simple_gen():\n",
    "    print(number)"
   ]
  },
  {
   "cell_type": "code",
   "execution_count": 36,
   "id": "a3a69322-1e57-479c-957c-8166ff8425e9",
   "metadata": {},
   "outputs": [],
   "source": [
    "g = simple_gen"
   ]
  },
  {
   "cell_type": "code",
   "execution_count": 38,
   "id": "486a70c3-2b36-4e56-bc05-8ac376328930",
   "metadata": {},
   "outputs": [
    {
     "data": {
      "text/plain": [
       "<function __main__.simple_gen()>"
      ]
     },
     "execution_count": 38,
     "metadata": {},
     "output_type": "execute_result"
    }
   ],
   "source": [
    "g"
   ]
  },
  {
   "cell_type": "code",
   "execution_count": 40,
   "id": "4d404fd6-e137-4c58-a13e-05ca9aaabc58",
   "metadata": {},
   "outputs": [],
   "source": [
    "g = simple_gen()"
   ]
  },
  {
   "cell_type": "code",
   "execution_count": 42,
   "id": "c09bbe7a-d171-4618-b517-e8e90d074f0f",
   "metadata": {},
   "outputs": [
    {
     "data": {
      "text/plain": [
       "<generator object simple_gen at 0x000002A01C5065C0>"
      ]
     },
     "execution_count": 42,
     "metadata": {},
     "output_type": "execute_result"
    }
   ],
   "source": [
    "g"
   ]
  },
  {
   "cell_type": "code",
   "execution_count": 44,
   "id": "f8f11016-dd4b-4272-b017-db2589322f9c",
   "metadata": {},
   "outputs": [
    {
     "name": "stdout",
     "output_type": "stream",
     "text": [
      "0\n"
     ]
    }
   ],
   "source": [
    "print(next(g))"
   ]
  },
  {
   "cell_type": "code",
   "execution_count": 46,
   "id": "8e7b1682-38a2-48e5-a30c-08c3adadc8c6",
   "metadata": {},
   "outputs": [
    {
     "name": "stdout",
     "output_type": "stream",
     "text": [
      "1\n"
     ]
    }
   ],
   "source": [
    "print(next(g))"
   ]
  },
  {
   "cell_type": "code",
   "execution_count": 48,
   "id": "423e4ed3-829f-4039-9fde-35459801bd90",
   "metadata": {},
   "outputs": [
    {
     "name": "stdout",
     "output_type": "stream",
     "text": [
      "2\n"
     ]
    }
   ],
   "source": [
    "print(next(g))"
   ]
  },
  {
   "cell_type": "code",
   "execution_count": 50,
   "id": "1c4f3a2b-d949-4033-abb7-593cfd350503",
   "metadata": {},
   "outputs": [
    {
     "ename": "StopIteration",
     "evalue": "",
     "output_type": "error",
     "traceback": [
      "\u001b[1;31m---------------------------------------------------------------------------\u001b[0m",
      "\u001b[1;31mStopIteration\u001b[0m                             Traceback (most recent call last)",
      "Cell \u001b[1;32mIn[50], line 1\u001b[0m\n\u001b[1;32m----> 1\u001b[0m \u001b[38;5;28mprint\u001b[39m(\u001b[38;5;28;43mnext\u001b[39;49m\u001b[43m(\u001b[49m\u001b[43mg\u001b[49m\u001b[43m)\u001b[49m)\n",
      "\u001b[1;31mStopIteration\u001b[0m: "
     ]
    }
   ],
   "source": [
    "print(next(g))"
   ]
  },
  {
   "cell_type": "code",
   "execution_count": null,
   "id": "7bd17d25-1c5b-4411-8b75-5f77e4f167dd",
   "metadata": {},
   "outputs": [],
   "source": []
  },
  {
   "cell_type": "markdown",
   "id": "c0e325a2-7790-4c5c-92f6-0884b91f330c",
   "metadata": {},
   "source": [
    "**iter()**"
   ]
  },
  {
   "cell_type": "code",
   "execution_count": 54,
   "id": "0b4d7cf2-8b9d-4d4e-b6bb-6b22b257b9d8",
   "metadata": {},
   "outputs": [],
   "source": [
    "s = 'hello'\n"
   ]
  },
  {
   "cell_type": "code",
   "execution_count": 56,
   "id": "e03685d6-2bca-4860-8fc3-c35862fc6d8c",
   "metadata": {},
   "outputs": [
    {
     "name": "stdout",
     "output_type": "stream",
     "text": [
      "h\n",
      "e\n",
      "l\n",
      "l\n",
      "o\n"
     ]
    }
   ],
   "source": [
    "for letter in s:\n",
    "    print(letter)"
   ]
  },
  {
   "cell_type": "code",
   "execution_count": 60,
   "id": "1fe37f8e-3591-4362-b389-ae0cadbbb262",
   "metadata": {},
   "outputs": [
    {
     "ename": "TypeError",
     "evalue": "'str' object is not an iterator",
     "output_type": "error",
     "traceback": [
      "\u001b[1;31m---------------------------------------------------------------------------\u001b[0m",
      "\u001b[1;31mTypeError\u001b[0m                                 Traceback (most recent call last)",
      "Cell \u001b[1;32mIn[60], line 1\u001b[0m\n\u001b[1;32m----> 1\u001b[0m \u001b[38;5;28;43mnext\u001b[39;49m\u001b[43m(\u001b[49m\u001b[43ms\u001b[49m\u001b[43m)\u001b[49m\n",
      "\u001b[1;31mTypeError\u001b[0m: 'str' object is not an iterator"
     ]
    }
   ],
   "source": [
    "next(s)"
   ]
  },
  {
   "cell_type": "markdown",
   "id": "c746e874-35f6-4951-aa74-451efbdc948f",
   "metadata": {},
   "source": [
    "**To turn the string into a generator**"
   ]
  },
  {
   "cell_type": "code",
   "execution_count": 63,
   "id": "be2a12f4-e291-4ba3-be77-e9e85cfd5f64",
   "metadata": {},
   "outputs": [],
   "source": [
    "s_iter = iter(s)"
   ]
  },
  {
   "cell_type": "code",
   "execution_count": 67,
   "id": "2544f564-b9f1-4119-be39-d1e29a66ac8a",
   "metadata": {},
   "outputs": [
    {
     "data": {
      "text/plain": [
       "'h'"
      ]
     },
     "execution_count": 67,
     "metadata": {},
     "output_type": "execute_result"
    }
   ],
   "source": [
    "next(s_iter)"
   ]
  },
  {
   "cell_type": "code",
   "execution_count": 69,
   "id": "d8d4de71-52bb-4c14-bc45-948699effed2",
   "metadata": {},
   "outputs": [
    {
     "data": {
      "text/plain": [
       "'e'"
      ]
     },
     "execution_count": 69,
     "metadata": {},
     "output_type": "execute_result"
    }
   ],
   "source": [
    "next(s_iter)"
   ]
  },
  {
   "cell_type": "code",
   "execution_count": null,
   "id": "c5b5b13c-b89c-4e33-afe7-63500e911d4d",
   "metadata": {},
   "outputs": [],
   "source": []
  }
 ],
 "metadata": {
  "kernelspec": {
   "display_name": "Python 3 (ipykernel)",
   "language": "python",
   "name": "python3"
  },
  "language_info": {
   "codemirror_mode": {
    "name": "ipython",
    "version": 3
   },
   "file_extension": ".py",
   "mimetype": "text/x-python",
   "name": "python",
   "nbconvert_exporter": "python",
   "pygments_lexer": "ipython3",
   "version": "3.12.3"
  }
 },
 "nbformat": 4,
 "nbformat_minor": 5
}
