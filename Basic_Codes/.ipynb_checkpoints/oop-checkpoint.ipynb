{
 "cells": [
  {
   "cell_type": "code",
   "execution_count": 1,
   "id": "6386e0ed-4e4b-4627-bc4c-6c51c0995adb",
   "metadata": {},
   "outputs": [],
   "source": [
    "mylist = [1,2,3,4]"
   ]
  },
  {
   "cell_type": "code",
   "execution_count": 3,
   "id": "d384705a-2bf8-419e-8127-a6a0da1376ff",
   "metadata": {},
   "outputs": [],
   "source": [
    "myset = set()"
   ]
  },
  {
   "cell_type": "code",
   "execution_count": 5,
   "id": "bdf69b38-0390-41da-9ff7-b38760ae798b",
   "metadata": {},
   "outputs": [
    {
     "data": {
      "text/plain": [
       "[1, 2, 3, 4]"
      ]
     },
     "execution_count": 5,
     "metadata": {},
     "output_type": "execute_result"
    }
   ],
   "source": [
    "mylist"
   ]
  },
  {
   "cell_type": "code",
   "execution_count": 7,
   "id": "e783358f-8ce8-4f28-88cc-7826f4a530d6",
   "metadata": {},
   "outputs": [
    {
     "data": {
      "text/plain": [
       "list"
      ]
     },
     "execution_count": 7,
     "metadata": {},
     "output_type": "execute_result"
    }
   ],
   "source": [
    "type(mylist)"
   ]
  },
  {
   "cell_type": "code",
   "execution_count": 11,
   "id": "20502882-c4f9-4097-9a08-cae7feef5a98",
   "metadata": {},
   "outputs": [
    {
     "data": {
      "text/plain": [
       "set"
      ]
     },
     "execution_count": 11,
     "metadata": {},
     "output_type": "execute_result"
    }
   ],
   "source": [
    "type(myset)"
   ]
  },
  {
   "cell_type": "code",
   "execution_count": 13,
   "id": "5853b8f3-4b4d-4056-aa64-277deb2eed99",
   "metadata": {},
   "outputs": [],
   "source": [
    "class Sample():\n",
    "    pass"
   ]
  },
  {
   "cell_type": "code",
   "execution_count": 15,
   "id": "7d1e406f-bfac-440f-b686-d5e6358bb43a",
   "metadata": {},
   "outputs": [],
   "source": [
    "my_sample = Sample()"
   ]
  },
  {
   "cell_type": "code",
   "execution_count": 17,
   "id": "80dcdf17-2993-48b8-a87a-80cf9fdc2730",
   "metadata": {},
   "outputs": [
    {
     "data": {
      "text/plain": [
       "__main__.Sample"
      ]
     },
     "execution_count": 17,
     "metadata": {},
     "output_type": "execute_result"
    }
   ],
   "source": [
    "type(my_sample)"
   ]
  },
  {
   "cell_type": "code",
   "execution_count": 37,
   "id": "e2d22a9a-b74f-452f-b37f-d66a3eb405c0",
   "metadata": {},
   "outputs": [],
   "source": [
    "class Dog():\n",
    "    def __init__(self,breed):  #method\n",
    "        self.breed = breed   #Attribute->characteristic of an object\n",
    "        #We take in the argument and assign it with self.attribute"
   ]
  },
  {
   "cell_type": "code",
   "execution_count": 33,
   "id": "4f850ddb-e2e2-4101-b060-5aa02c2abab6",
   "metadata": {},
   "outputs": [],
   "source": [
    "my_dog = Dog(breed = \"Lab\")"
   ]
  },
  {
   "cell_type": "code",
   "execution_count": 35,
   "id": "52f381d9-5a2a-4cb7-9176-68e9185145a5",
   "metadata": {},
   "outputs": [
    {
     "data": {
      "text/plain": [
       "__main__.Dog"
      ]
     },
     "execution_count": 35,
     "metadata": {},
     "output_type": "execute_result"
    }
   ],
   "source": [
    "type(my_dog)"
   ]
  },
  {
   "cell_type": "code",
   "execution_count": 39,
   "id": "f3b42f14-5c10-45d4-a601-75c9e0894fd5",
   "metadata": {},
   "outputs": [
    {
     "data": {
      "text/plain": [
       "'Lab'"
      ]
     },
     "execution_count": 39,
     "metadata": {},
     "output_type": "execute_result"
    }
   ],
   "source": [
    "my_dog.breed"
   ]
  },
  {
   "cell_type": "code",
   "execution_count": 41,
   "id": "aba3b1db-f57b-4b70-814d-118d560eeb89",
   "metadata": {},
   "outputs": [],
   "source": [
    "class Dog1():\n",
    "    def __init__(self,mybreed):\n",
    "        self.myattribute = mybreed"
   ]
  },
  {
   "cell_type": "code",
   "execution_count": 43,
   "id": "a52e704b-1857-4e2e-9432-a82842b77ad9",
   "metadata": {},
   "outputs": [],
   "source": [
    "my_dog1 = Dog1(mybreed = \"Huskie\")"
   ]
  },
  {
   "cell_type": "code",
   "execution_count": 45,
   "id": "24625b17-7030-4531-9544-c1607e73172f",
   "metadata": {},
   "outputs": [
    {
     "data": {
      "text/plain": [
       "'Huskie'"
      ]
     },
     "execution_count": 45,
     "metadata": {},
     "output_type": "execute_result"
    }
   ],
   "source": [
    "my_dog1.myattribute"
   ]
  },
  {
   "cell_type": "code",
   "execution_count": 47,
   "id": "de4227b1-83a4-4529-8ea4-89f1b6fa966f",
   "metadata": {},
   "outputs": [
    {
     "data": {
      "text/plain": [
       "__main__.Dog1"
      ]
     },
     "execution_count": 47,
     "metadata": {},
     "output_type": "execute_result"
    }
   ],
   "source": [
    "type(my_dog1)"
   ]
  },
  {
   "cell_type": "code",
   "execution_count": 55,
   "id": "7b75c551-e365-4111-840d-200f66263ad5",
   "metadata": {},
   "outputs": [],
   "source": [
    "class Dog2():\n",
    "    #class object attribute is same for all instances of a class\n",
    "    species = \"mammal\"\n",
    "    def __init__(self,mybreed):\n",
    "        self.mybreed = mybreed"
   ]
  },
  {
   "cell_type": "code",
   "execution_count": 57,
   "id": "ce7d8cb8-3c4e-4d99-8caf-7dc0aeab10c7",
   "metadata": {},
   "outputs": [],
   "source": [
    "mydog2 = Dog2(mybreed = \"lab\")\n"
   ]
  },
  {
   "cell_type": "code",
   "execution_count": 60,
   "id": "fe36535f-d2cb-481e-aed8-b91568594982",
   "metadata": {},
   "outputs": [
    {
     "data": {
      "text/plain": [
       "'mammal'"
      ]
     },
     "execution_count": 60,
     "metadata": {},
     "output_type": "execute_result"
    }
   ],
   "source": [
    "mydog2.species"
   ]
  },
  {
   "cell_type": "code",
   "execution_count": 109,
   "id": "46141a8a-54c7-43ef-9dc1-5ec1e7150ad2",
   "metadata": {},
   "outputs": [],
   "source": [
    "class Dog3():\n",
    "    species = 'mammal'\n",
    "    def __init__(self, breed, name):\n",
    "        self.breed = breed\n",
    "        self.name = name\n",
    "\n",
    "    #Operations/Actions --> methods\n",
    "    def bark(self):  \n",
    "        print(f\"WOOF! My name is {self.name}\")"
   ]
  },
  {
   "cell_type": "code",
   "execution_count": 95,
   "id": "b85115fd-c432-4193-a012-4e5e5f666983",
   "metadata": {},
   "outputs": [],
   "source": [
    "mydog3 = Dog3(\"Lab\",\"idk\")"
   ]
  },
  {
   "cell_type": "code",
   "execution_count": 97,
   "id": "1dcbd78e-5f65-40c4-88c0-d773bd5a187a",
   "metadata": {},
   "outputs": [
    {
     "data": {
      "text/plain": [
       "'idk'"
      ]
     },
     "execution_count": 97,
     "metadata": {},
     "output_type": "execute_result"
    }
   ],
   "source": [
    "mydog3.name"
   ]
  },
  {
   "cell_type": "code",
   "execution_count": 99,
   "id": "018e25dc-dc87-4296-b623-dcd0563dd062",
   "metadata": {},
   "outputs": [
    {
     "data": {
      "text/plain": [
       "__main__.Dog3"
      ]
     },
     "execution_count": 99,
     "metadata": {},
     "output_type": "execute_result"
    }
   ],
   "source": [
    "type(mydog3)"
   ]
  },
  {
   "cell_type": "code",
   "execution_count": 101,
   "id": "4f5c81cb-58a5-4bd8-9266-01230149f832",
   "metadata": {},
   "outputs": [
    {
     "name": "stdout",
     "output_type": "stream",
     "text": [
      "WOOF! My name is idk\n"
     ]
    }
   ],
   "source": [
    "mydog3.bark()"
   ]
  },
  {
   "cell_type": "code",
   "execution_count": null,
   "id": "170c6ea9-c26e-4688-83c9-b0c93e9508e7",
   "metadata": {},
   "outputs": [],
   "source": []
  },
  {
   "cell_type": "code",
   "execution_count": 103,
   "id": "838d53ec-603b-40f1-b6c7-8f5a7d842ae7",
   "metadata": {},
   "outputs": [],
   "source": [
    "class Dog4():\n",
    "    species = 'mammal'\n",
    "    def __init__(self, breed, name):\n",
    "        self.breed = breed\n",
    "        self.name = name\n",
    "\n",
    "    def bark(self,age):\n",
    "        print(f\"WOOF! My name is {self.name} and I am {age} years old\")"
   ]
  },
  {
   "cell_type": "code",
   "execution_count": 105,
   "id": "f4bc1d64-6514-4b14-841b-33c7f183195f",
   "metadata": {},
   "outputs": [],
   "source": [
    "mydog4 = Dog4(\"lab\",'idk')"
   ]
  },
  {
   "cell_type": "code",
   "execution_count": 107,
   "id": "e127ce67-7243-4346-a86f-34426d7aaabd",
   "metadata": {},
   "outputs": [
    {
     "name": "stdout",
     "output_type": "stream",
     "text": [
      "WOOF! My name is idk and I am 3 years old\n"
     ]
    }
   ],
   "source": [
    "mydog4.bark(3)"
   ]
  },
  {
   "cell_type": "code",
   "execution_count": null,
   "id": "bbfbf80d-8726-4de0-9722-d7c183ebdf6c",
   "metadata": {},
   "outputs": [],
   "source": []
  },
  {
   "cell_type": "code",
   "execution_count": null,
   "id": "568d53ff-4185-4ebf-8a01-31ac83a45fd0",
   "metadata": {},
   "outputs": [],
   "source": []
  },
  {
   "cell_type": "code",
   "execution_count": null,
   "id": "f5aabeb3-f123-43aa-83ba-2b1cc8c16618",
   "metadata": {},
   "outputs": [],
   "source": []
  },
  {
   "cell_type": "code",
   "execution_count": 114,
   "id": "3074fba5-e3da-4950-a767-80d6b13335d4",
   "metadata": {},
   "outputs": [],
   "source": [
    "class Circle():\n",
    "    pi = 3.14 # class object attribute\n",
    "    def __init__(self,radius = 1):\n",
    "        self.radius = radius\n",
    "        self.area = radius*radius*self.pi  #self.pi can also be written as Circle.pi\n",
    "\n",
    "    def get_circumference(self):\n",
    "        return (2*self.pi*self.radius) #self.pi can also be written as Circle.pi"
   ]
  },
  {
   "cell_type": "code",
   "execution_count": 116,
   "id": "b3176265-9366-4826-8eb2-64f8461d89bd",
   "metadata": {},
   "outputs": [],
   "source": [
    "mycircle = Circle(10)"
   ]
  },
  {
   "cell_type": "code",
   "execution_count": 118,
   "id": "eefef4af-327a-43f2-b1f2-2d65fa0bb92a",
   "metadata": {},
   "outputs": [
    {
     "data": {
      "text/plain": [
       "3.14"
      ]
     },
     "execution_count": 118,
     "metadata": {},
     "output_type": "execute_result"
    }
   ],
   "source": [
    "mycircle.pi"
   ]
  },
  {
   "cell_type": "code",
   "execution_count": 120,
   "id": "fa8e407a-26d3-4e80-876c-2c82f18aab7e",
   "metadata": {},
   "outputs": [
    {
     "data": {
      "text/plain": [
       "10"
      ]
     },
     "execution_count": 120,
     "metadata": {},
     "output_type": "execute_result"
    }
   ],
   "source": [
    "mycircle.radius"
   ]
  },
  {
   "cell_type": "code",
   "execution_count": 122,
   "id": "9d7cf419-03aa-42f3-85a5-4425f0b8e8e6",
   "metadata": {},
   "outputs": [
    {
     "data": {
      "text/plain": [
       "314.0"
      ]
     },
     "execution_count": 122,
     "metadata": {},
     "output_type": "execute_result"
    }
   ],
   "source": [
    "mycircle.area"
   ]
  },
  {
   "cell_type": "code",
   "execution_count": 126,
   "id": "df4766f1-eb6a-4c21-a523-776feb939ea7",
   "metadata": {},
   "outputs": [
    {
     "data": {
      "text/plain": [
       "62.800000000000004"
      ]
     },
     "execution_count": 126,
     "metadata": {},
     "output_type": "execute_result"
    }
   ],
   "source": [
    "mycircle.get_circumference()"
   ]
  },
  {
   "cell_type": "code",
   "execution_count": null,
   "id": "092b74cb-d825-4d83-a7be-eb1664dc0299",
   "metadata": {},
   "outputs": [],
   "source": []
  },
  {
   "cell_type": "code",
   "execution_count": null,
   "id": "b637fe5d-4104-4659-8040-7970753c075c",
   "metadata": {},
   "outputs": [],
   "source": []
  },
  {
   "cell_type": "code",
   "execution_count": null,
   "id": "da01e452-5c68-40f5-a3e9-7f581ea8967e",
   "metadata": {},
   "outputs": [],
   "source": []
  },
  {
   "cell_type": "markdown",
   "id": "9d878787-95ba-4803-af8b-f4c8d228f57c",
   "metadata": {},
   "source": [
    "**##Inheritance**"
   ]
  },
  {
   "cell_type": "code",
   "execution_count": 4,
   "id": "5172a384-4328-47bb-80d4-f9962c271b86",
   "metadata": {},
   "outputs": [],
   "source": [
    "class Animal():\n",
    "    def __init__(self):\n",
    "        print(\"Animal Created\")\n",
    "    "
   ]
  },
  {
   "cell_type": "code",
   "execution_count": 6,
   "id": "cb2d9d7a-24bd-4c5e-8d90-863246e7ce65",
   "metadata": {},
   "outputs": [
    {
     "name": "stdout",
     "output_type": "stream",
     "text": [
      "Animal Created\n"
     ]
    }
   ],
   "source": [
    "myanimal1 = Animal()"
   ]
  },
  {
   "cell_type": "code",
   "execution_count": 20,
   "id": "27ff34a1-9b45-4863-8aee-2a3fe777a93f",
   "metadata": {},
   "outputs": [],
   "source": [
    "#Base Class\n",
    "class Animal():\n",
    "    def __init__(self):\n",
    "        print(\"Animal Created\")\n",
    "\n",
    "    def get_animal(self):\n",
    "        print(\"I am an animal\")\n",
    "\n",
    "    def get_eating(self):\n",
    "        print(\"I am eating\")"
   ]
  },
  {
   "cell_type": "code",
   "execution_count": 10,
   "id": "5a3f0712-8a77-4580-95f3-e8414339398a",
   "metadata": {},
   "outputs": [
    {
     "name": "stdout",
     "output_type": "stream",
     "text": [
      "Animal Created\n"
     ]
    }
   ],
   "source": [
    "myanimal2 = Animal()"
   ]
  },
  {
   "cell_type": "code",
   "execution_count": 14,
   "id": "17428556-666a-4131-a16e-7e190e22dc2e",
   "metadata": {},
   "outputs": [
    {
     "name": "stdout",
     "output_type": "stream",
     "text": [
      "I am an animal\n"
     ]
    }
   ],
   "source": [
    "myanimal2.get_animal()"
   ]
  },
  {
   "cell_type": "code",
   "execution_count": 18,
   "id": "7045c700-eee0-4341-97df-14033a9ebedd",
   "metadata": {},
   "outputs": [
    {
     "name": "stdout",
     "output_type": "stream",
     "text": [
      "I am eating\n"
     ]
    }
   ],
   "source": [
    "myanimal2.get_eating()"
   ]
  },
  {
   "cell_type": "code",
   "execution_count": 22,
   "id": "19e3fe9d-2ab5-459f-aefa-976d6dc4238f",
   "metadata": {},
   "outputs": [],
   "source": [
    "#Derived Class\n",
    "class Dog(Animal):\n",
    "    def __init__(self):\n",
    "        Animal.__init__(self) #created an instance of Animal class\n",
    "        print(\"Dog Created\")"
   ]
  },
  {
   "cell_type": "code",
   "execution_count": 24,
   "id": "8b4489c7-2d24-4e63-8072-672911f72d4f",
   "metadata": {},
   "outputs": [
    {
     "name": "stdout",
     "output_type": "stream",
     "text": [
      "Animal Created\n",
      "Dog Created\n"
     ]
    }
   ],
   "source": [
    "mydog = Dog()"
   ]
  },
  {
   "cell_type": "code",
   "execution_count": 26,
   "id": "da6f4134-b9b2-46fd-8c4e-41a0fe9fada5",
   "metadata": {},
   "outputs": [
    {
     "name": "stdout",
     "output_type": "stream",
     "text": [
      "I am an animal\n"
     ]
    }
   ],
   "source": [
    "mydog.get_animal()"
   ]
  },
  {
   "cell_type": "code",
   "execution_count": 28,
   "id": "0d130eb0-00b7-435a-aae0-610d129e4b14",
   "metadata": {},
   "outputs": [
    {
     "name": "stdout",
     "output_type": "stream",
     "text": [
      "I am eating\n"
     ]
    }
   ],
   "source": [
    "mydog.get_eating()"
   ]
  },
  {
   "cell_type": "code",
   "execution_count": null,
   "id": "02194d9b-ab96-4ed6-8582-b29e5fb47717",
   "metadata": {},
   "outputs": [],
   "source": []
  },
  {
   "cell_type": "code",
   "execution_count": null,
   "id": "667692c3-6ddf-40fb-a764-1edd0e680601",
   "metadata": {},
   "outputs": [],
   "source": []
  },
  {
   "cell_type": "code",
   "execution_count": null,
   "id": "1fe2f7e0-0d36-4e30-82d7-7fffbfc3b568",
   "metadata": {},
   "outputs": [],
   "source": []
  },
  {
   "cell_type": "code",
   "execution_count": null,
   "id": "701ec5fa-e809-4e6d-ac6a-17a9a94ca5b0",
   "metadata": {},
   "outputs": [],
   "source": []
  },
  {
   "cell_type": "code",
   "execution_count": 30,
   "id": "600d0533-b409-4801-b66b-92f275cd9a86",
   "metadata": {},
   "outputs": [],
   "source": [
    "#Derived class\n",
    "class Dog():\n",
    "    def __init__(self):\n",
    "         Animal.__init__(self)\n",
    "         print(\"I am a dog\")\n",
    "\n",
    "    def get_eating(self):  #overwriting base class' method\n",
    "        print(\"I am a dog and I am eating\")\n",
    "\n",
    "    def bark(self):\n",
    "        print(\"woof\")\n",
    "\n",
    "    "
   ]
  },
  {
   "cell_type": "code",
   "execution_count": null,
   "id": "95ebe072-ecc9-40ca-a3b8-7ce9992cd1aa",
   "metadata": {},
   "outputs": [],
   "source": []
  },
  {
   "cell_type": "code",
   "execution_count": null,
   "id": "fafc995b-a933-4848-a50e-f0c282e868a7",
   "metadata": {},
   "outputs": [],
   "source": []
  },
  {
   "cell_type": "markdown",
   "id": "8e980b3e-6919-4099-9826-9bcbbf4b7aea",
   "metadata": {},
   "source": [
    "**Polymorphism**"
   ]
  },
  {
   "cell_type": "code",
   "execution_count": 36,
   "id": "40984e27-6553-4788-a865-68bb37ef7b83",
   "metadata": {},
   "outputs": [],
   "source": [
    "class Dog():\n",
    "    def __init__(self,name):\n",
    "        self.name = name\n",
    "\n",
    "    def speak(self):\n",
    "        return self.name + \" says woof!\"\n",
    "\n"
   ]
  },
  {
   "cell_type": "code",
   "execution_count": 40,
   "id": "9657e583-a16d-41da-996d-a7cf14762d2e",
   "metadata": {},
   "outputs": [],
   "source": [
    "niko = Dog(\"Niko\")"
   ]
  },
  {
   "cell_type": "code",
   "execution_count": 46,
   "id": "39435dbf-0f6d-4954-b4f7-fddd1d62d2c2",
   "metadata": {},
   "outputs": [],
   "source": [
    "class Cat():\n",
    "    def __init__(self,name):\n",
    "        self.name = name\n",
    "\n",
    "    def speak(self):\n",
    "        return self.name + \" says woof!\""
   ]
  },
  {
   "cell_type": "code",
   "execution_count": 48,
   "id": "69b692c7-a41d-491a-83a9-219eb70e6864",
   "metadata": {},
   "outputs": [],
   "source": [
    "felix = Cat(\"Felix\")"
   ]
  },
  {
   "cell_type": "code",
   "execution_count": 50,
   "id": "984e6939-67fa-46c7-a66c-fa53012a0716",
   "metadata": {},
   "outputs": [
    {
     "data": {
      "text/plain": [
       "'Niko says woof!'"
      ]
     },
     "execution_count": 50,
     "metadata": {},
     "output_type": "execute_result"
    }
   ],
   "source": [
    "niko.speak()"
   ]
  },
  {
   "cell_type": "code",
   "execution_count": 52,
   "id": "14e71b33-0b98-4de4-90e8-e08d9213f107",
   "metadata": {},
   "outputs": [
    {
     "data": {
      "text/plain": [
       "'Felix says woof!'"
      ]
     },
     "execution_count": 52,
     "metadata": {},
     "output_type": "execute_result"
    }
   ],
   "source": [
    "felix.speak()"
   ]
  },
  {
   "cell_type": "code",
   "execution_count": null,
   "id": "1e96c316-3350-410b-8c6b-30945a3add28",
   "metadata": {},
   "outputs": [],
   "source": []
  },
  {
   "cell_type": "code",
   "execution_count": null,
   "id": "57b826c4-35ca-4f00-a4f3-7bbe4c4274bc",
   "metadata": {},
   "outputs": [],
   "source": []
  },
  {
   "cell_type": "code",
   "execution_count": 56,
   "id": "3eb5d671-82ba-4321-897f-80d8f5142628",
   "metadata": {},
   "outputs": [
    {
     "name": "stdout",
     "output_type": "stream",
     "text": [
      "<class '__main__.Dog'>\n",
      "Niko says woof!\n",
      "<class '__main__.Cat'>\n",
      "Felix says woof!\n"
     ]
    }
   ],
   "source": [
    "for pet in [niko, felix]:\n",
    "    print(type(pet))\n",
    "    print(pet.speak())"
   ]
  },
  {
   "cell_type": "code",
   "execution_count": 62,
   "id": "10546a66-86b9-4ae5-951d-02a1f6fc01fa",
   "metadata": {},
   "outputs": [],
   "source": [
    "def get_pet(pet):\n",
    "    print(pet.speak())"
   ]
  },
  {
   "cell_type": "code",
   "execution_count": 64,
   "id": "c0ba6317-af43-4632-9508-51c015d780ff",
   "metadata": {},
   "outputs": [
    {
     "name": "stdout",
     "output_type": "stream",
     "text": [
      "Niko says woof!\n"
     ]
    }
   ],
   "source": [
    "get_pet(niko)"
   ]
  },
  {
   "cell_type": "code",
   "execution_count": 66,
   "id": "677585d7-e2fb-446f-a110-294e7d5881cd",
   "metadata": {},
   "outputs": [
    {
     "name": "stdout",
     "output_type": "stream",
     "text": [
      "Felix says woof!\n"
     ]
    }
   ],
   "source": [
    "get_pet(felix)"
   ]
  },
  {
   "cell_type": "code",
   "execution_count": null,
   "id": "074e0b70-9f56-437f-acb8-f2f61f821048",
   "metadata": {},
   "outputs": [],
   "source": []
  },
  {
   "cell_type": "code",
   "execution_count": null,
   "id": "1a2da8c1-f174-436a-9150-bab7dd5a8390",
   "metadata": {},
   "outputs": [],
   "source": []
  },
  {
   "cell_type": "code",
   "execution_count": null,
   "id": "fff75e0e-c47f-4cb1-8cf7-4af699e2adcc",
   "metadata": {},
   "outputs": [],
   "source": []
  },
  {
   "cell_type": "code",
   "execution_count": 71,
   "id": "46123405-c369-40fa-89aa-4e59ba943638",
   "metadata": {},
   "outputs": [],
   "source": [
    "class Animal():\n",
    "    def __init__(self, name):\n",
    "        self.name = name\n",
    "\n",
    "    def speak(self):\n",
    "        raise NotIMplementedError(\"subclass must implement this abstract method\")\n",
    "        "
   ]
  },
  {
   "cell_type": "code",
   "execution_count": 73,
   "id": "d7528c47-5663-4e01-8bc6-f083c4602d2f",
   "metadata": {},
   "outputs": [],
   "source": [
    "class Dog(Animal):\n",
    "    def speak(self):\n",
    "        return self.name + \" says woof!\""
   ]
  },
  {
   "cell_type": "code",
   "execution_count": 75,
   "id": "a9a24324-dc3e-489a-987d-1c86421d234d",
   "metadata": {},
   "outputs": [],
   "source": [
    "class Cat(Animal):\n",
    "    def speak(self):\n",
    "        return self.name + \" says meow!\""
   ]
  },
  {
   "cell_type": "code",
   "execution_count": 79,
   "id": "62010cbc-5469-4763-9210-b47170d41ad2",
   "metadata": {},
   "outputs": [],
   "source": [
    "fido = Dog(\"Fido\")"
   ]
  },
  {
   "cell_type": "code",
   "execution_count": 81,
   "id": "043568d3-c6fa-499b-94c8-2851e10c2bc9",
   "metadata": {},
   "outputs": [],
   "source": [
    "feli = Cat(\"feli\")"
   ]
  },
  {
   "cell_type": "code",
   "execution_count": 83,
   "id": "712731ca-7edb-48d8-877e-3f7118f65ea4",
   "metadata": {},
   "outputs": [
    {
     "name": "stdout",
     "output_type": "stream",
     "text": [
      "Fido says woof!\n"
     ]
    }
   ],
   "source": [
    "print(fido.speak())"
   ]
  },
  {
   "cell_type": "code",
   "execution_count": 85,
   "id": "27b42a4b-6b03-4261-85bb-79eb570fbfd2",
   "metadata": {},
   "outputs": [
    {
     "name": "stdout",
     "output_type": "stream",
     "text": [
      "feli says meow!\n"
     ]
    }
   ],
   "source": [
    "print(feli.speak())"
   ]
  },
  {
   "cell_type": "code",
   "execution_count": null,
   "id": "9840efd3-9fd8-4f06-875d-15730a0a901d",
   "metadata": {},
   "outputs": [],
   "source": []
  },
  {
   "cell_type": "code",
   "execution_count": null,
   "id": "bfcba4a5-8e8d-4a28-88d9-c317119a1508",
   "metadata": {},
   "outputs": [],
   "source": []
  },
  {
   "cell_type": "code",
   "execution_count": null,
   "id": "09a9da1d-b44f-4065-9229-f481f96c532b",
   "metadata": {},
   "outputs": [],
   "source": []
  },
  {
   "cell_type": "markdown",
   "id": "64d45467-853e-4cc8-8469-5dc1b797efbf",
   "metadata": {},
   "source": [
    "**Special Methods (Magic/Dunder)**"
   ]
  },
  {
   "cell_type": "code",
   "execution_count": 5,
   "id": "2abde80b-e387-41a0-9f43-c55bac6e2901",
   "metadata": {},
   "outputs": [],
   "source": [
    "class Book():\n",
    "    def __init__(self):\n",
    "        pass"
   ]
  },
  {
   "cell_type": "code",
   "execution_count": 7,
   "id": "a137eaf2-dbc3-4ab3-84d1-4c57c41f7896",
   "metadata": {},
   "outputs": [],
   "source": [
    "b = Book()"
   ]
  },
  {
   "cell_type": "code",
   "execution_count": 9,
   "id": "2695cd78-230f-4c78-a5f6-1b22a3451ebc",
   "metadata": {},
   "outputs": [
    {
     "name": "stdout",
     "output_type": "stream",
     "text": [
      "<__main__.Book object at 0x0000013F5CB8EE40>\n"
     ]
    }
   ],
   "source": [
    "print(b)"
   ]
  },
  {
   "cell_type": "code",
   "execution_count": 11,
   "id": "974c02a2-8d3e-4686-912f-09f4820100ac",
   "metadata": {},
   "outputs": [
    {
     "ename": "TypeError",
     "evalue": "object of type 'Book' has no len()",
     "output_type": "error",
     "traceback": [
      "\u001b[1;31m---------------------------------------------------------------------------\u001b[0m",
      "\u001b[1;31mTypeError\u001b[0m                                 Traceback (most recent call last)",
      "Cell \u001b[1;32mIn[11], line 1\u001b[0m\n\u001b[1;32m----> 1\u001b[0m \u001b[38;5;28;43mlen\u001b[39;49m\u001b[43m(\u001b[49m\u001b[43mb\u001b[49m\u001b[43m)\u001b[49m\n",
      "\u001b[1;31mTypeError\u001b[0m: object of type 'Book' has no len()"
     ]
    }
   ],
   "source": [
    "len(b)"
   ]
  },
  {
   "cell_type": "code",
   "execution_count": 13,
   "id": "ab531b51-9aff-4617-adf8-a8a801d4fa5e",
   "metadata": {},
   "outputs": [
    {
     "data": {
      "text/plain": [
       "'<__main__.Book object at 0x0000013F5CB8EE40>'"
      ]
     },
     "execution_count": 13,
     "metadata": {},
     "output_type": "execute_result"
    }
   ],
   "source": [
    "str(b)"
   ]
  },
  {
   "cell_type": "code",
   "execution_count": null,
   "id": "8ff03d5c-a67c-44cd-ba17-08fe8de89706",
   "metadata": {},
   "outputs": [],
   "source": []
  },
  {
   "cell_type": "code",
   "execution_count": 16,
   "id": "57f28e03-9fe4-4c22-bee8-f2e7345baa2b",
   "metadata": {},
   "outputs": [],
   "source": [
    "class Book():\n",
    "    def __init__(self, title, author, pages):\n",
    "        self.title = title\n",
    "        self.author = author\n",
    "        self.pages = pages\n",
    "\n",
    "    def __str__(self):\n",
    "        return f\"{self.title} is written by {self.author}\"\n",
    "\n",
    "    def __len__(self):\n",
    "        return self.pages\n",
    "\n",
    "    def __del__(self):\n",
    "        print(\"The book instance has been deleted\")\n",
    "\n",
    "    "
   ]
  },
  {
   "cell_type": "code",
   "execution_count": 20,
   "id": "97bea5e8-55b1-46f7-a4e7-60eb03657ec8",
   "metadata": {},
   "outputs": [],
   "source": [
    "b = Book(\"ABC\", \"unknown\", 200)"
   ]
  },
  {
   "cell_type": "code",
   "execution_count": 22,
   "id": "6bdbaf82-bfc0-4ee7-92b2-b92bcb649c69",
   "metadata": {},
   "outputs": [
    {
     "name": "stdout",
     "output_type": "stream",
     "text": [
      "ABC is written by unknown\n"
     ]
    }
   ],
   "source": [
    "print(b)"
   ]
  },
  {
   "cell_type": "code",
   "execution_count": 24,
   "id": "7fdc7262-cff7-4a77-9c79-5b627e74fa65",
   "metadata": {},
   "outputs": [
    {
     "data": {
      "text/plain": [
       "'ABC is written by unknown'"
      ]
     },
     "execution_count": 24,
     "metadata": {},
     "output_type": "execute_result"
    }
   ],
   "source": [
    "str(b)"
   ]
  },
  {
   "cell_type": "code",
   "execution_count": 26,
   "id": "9cfcf82a-1376-47f7-9eb5-dd9fffa5539b",
   "metadata": {},
   "outputs": [
    {
     "data": {
      "text/plain": [
       "200"
      ]
     },
     "execution_count": 26,
     "metadata": {},
     "output_type": "execute_result"
    }
   ],
   "source": [
    "len(b)"
   ]
  },
  {
   "cell_type": "code",
   "execution_count": 30,
   "id": "df23257b-414a-460e-b9c1-c8b2d69d1dbe",
   "metadata": {},
   "outputs": [
    {
     "name": "stdout",
     "output_type": "stream",
     "text": [
      "The book instance has been deleted\n"
     ]
    }
   ],
   "source": [
    "del b"
   ]
  },
  {
   "cell_type": "code",
   "execution_count": null,
   "id": "e8c539a2-dcc3-4207-86cc-f02a40eba54b",
   "metadata": {},
   "outputs": [],
   "source": []
  },
  {
   "cell_type": "code",
   "execution_count": null,
   "id": "592ebc6c-87bf-4545-b45a-4789dbca6cb1",
   "metadata": {},
   "outputs": [],
   "source": []
  },
  {
   "cell_type": "code",
   "execution_count": null,
   "id": "bf6ecc2f-e8f8-496c-9b92-dd70daf5b989",
   "metadata": {},
   "outputs": [],
   "source": []
  },
  {
   "cell_type": "code",
   "execution_count": 37,
   "id": "1248dac7-ea86-4ad6-a6e9-5897786dc87a",
   "metadata": {},
   "outputs": [],
   "source": [
    "import math"
   ]
  },
  {
   "cell_type": "markdown",
   "id": "849eac70-7c2b-4368-abc1-d4dd3853eee5",
   "metadata": {},
   "source": [
    "**Homework**"
   ]
  },
  {
   "cell_type": "code",
   "execution_count": 54,
   "id": "ecce248f-15c1-4fbf-a937-7680fcab5d4c",
   "metadata": {},
   "outputs": [],
   "source": [
    "class Line():\n",
    "    def __init__(self, coord1, coord2):\n",
    "        self.coord1 = coord1\n",
    "        self.coord2 = coord2\n",
    "\n",
    "    def distance(self):\n",
    "        return math.sqrt(((self.coord1[0]-self.coord2[0])**2 )+ ((self.coord1[1] - self.coord2[1])**2))\n",
    "\n",
    "    def slope(self):\n",
    "        return (self.coord2[1] - self.coord1[1]) / (self.coord2[0] - self.coord1[0])\n",
    "        "
   ]
  },
  {
   "cell_type": "code",
   "execution_count": 56,
   "id": "3fa9e601-72c1-4324-8f3e-b3b0e97ef7c7",
   "metadata": {},
   "outputs": [],
   "source": [
    "line1 = Line((1,2), (3,4))"
   ]
  },
  {
   "cell_type": "code",
   "execution_count": 60,
   "id": "31e1f47c-bdb8-4e1a-84d2-d8a51fcb6fca",
   "metadata": {},
   "outputs": [
    {
     "data": {
      "text/plain": [
       "2.8284271247461903"
      ]
     },
     "execution_count": 60,
     "metadata": {},
     "output_type": "execute_result"
    }
   ],
   "source": [
    "line1.distance()"
   ]
  },
  {
   "cell_type": "code",
   "execution_count": 62,
   "id": "08e10130-5bc7-43c8-917d-f275a65b1f71",
   "metadata": {},
   "outputs": [
    {
     "data": {
      "text/plain": [
       "1.0"
      ]
     },
     "execution_count": 62,
     "metadata": {},
     "output_type": "execute_result"
    }
   ],
   "source": [
    "line1.slope()"
   ]
  },
  {
   "cell_type": "code",
   "execution_count": null,
   "id": "18817038-bfc7-4978-8aad-d5bc5c8325c1",
   "metadata": {},
   "outputs": [],
   "source": []
  },
  {
   "cell_type": "code",
   "execution_count": null,
   "id": "77d680c8-a4b6-4ed0-b9d1-4ca6aa4a8509",
   "metadata": {},
   "outputs": [],
   "source": []
  },
  {
   "cell_type": "code",
   "execution_count": 66,
   "id": "384a8942-d832-4b6f-b088-c467edd81247",
   "metadata": {},
   "outputs": [],
   "source": [
    "class Cylinder():\n",
    "    pi = 3.14\n",
    "    def __init__(self, height, radius):\n",
    "        self.height = height\n",
    "        self.radius = radius\n",
    "\n",
    "    def volume(self):\n",
    "        return Cylinder.pi * (self.radius ** 2) * self.height\n",
    "\n",
    "    def surface_area(self):\n",
    "        return 2 * Cylinder.pi * self.radius * self.height\n",
    "        "
   ]
  },
  {
   "cell_type": "code",
   "execution_count": 68,
   "id": "27a85dc3-73ad-4b14-8890-cf0763933c02",
   "metadata": {},
   "outputs": [],
   "source": [
    "cylinder1 = Cylinder(5,2)"
   ]
  },
  {
   "cell_type": "code",
   "execution_count": 70,
   "id": "7d44076b-3b4f-48f3-8f16-d97713a42505",
   "metadata": {},
   "outputs": [
    {
     "data": {
      "text/plain": [
       "62.800000000000004"
      ]
     },
     "execution_count": 70,
     "metadata": {},
     "output_type": "execute_result"
    }
   ],
   "source": [
    "cylinder1.volume()"
   ]
  },
  {
   "cell_type": "code",
   "execution_count": 72,
   "id": "07e44a71-877b-488d-a2b3-8922f6ce0559",
   "metadata": {},
   "outputs": [
    {
     "data": {
      "text/plain": [
       "62.800000000000004"
      ]
     },
     "execution_count": 72,
     "metadata": {},
     "output_type": "execute_result"
    }
   ],
   "source": [
    "cylinder1.surface_area()\n"
   ]
  },
  {
   "cell_type": "code",
   "execution_count": null,
   "id": "9ec24069-932d-4693-8b0c-38a7432d8a93",
   "metadata": {},
   "outputs": [],
   "source": []
  },
  {
   "cell_type": "code",
   "execution_count": null,
   "id": "48ad321b-af10-4323-bb8b-8b8995d57c24",
   "metadata": {},
   "outputs": [],
   "source": []
  },
  {
   "cell_type": "markdown",
   "id": "b884fcbc-faa6-4eaa-95be-fb6e4a0d293c",
   "metadata": {},
   "source": [
    "**Challenge**"
   ]
  },
  {
   "cell_type": "code",
   "execution_count": 79,
   "id": "e3119ac5-4f68-4dba-a0ba-cb5937b7f333",
   "metadata": {},
   "outputs": [],
   "source": [
    "class BankAccount():\n",
    "    def __init__(self, owner, balance):\n",
    "        self.owner = owner\n",
    "        self.balance = balance\n",
    "\n",
    "    def deposit(self, value):\n",
    "        self.balance = self.balance + value\n",
    "        print(\"Deposit Accepted\")\n",
    "\n",
    "    def withdraw(self, value):\n",
    "        if value > self.balance:\n",
    "            print(\"Funds Unavailable\")\n",
    "\n",
    "        else:\n",
    "            self.balance = self.balance - value\n",
    "            print(\"Withdrawal Accepted\")\n",
    "\n",
    "    def __str__(self):\n",
    "        return f\"Owner is {self.owner} and Account balance is {self.balance}\"\n",
    "\n"
   ]
  },
  {
   "cell_type": "code",
   "execution_count": 81,
   "id": "161c21c7-1eaa-4e40-8d70-f50f5d2f48c4",
   "metadata": {},
   "outputs": [],
   "source": [
    "ba1 = BankAccount(\"unknown\", 500)"
   ]
  },
  {
   "cell_type": "code",
   "execution_count": 83,
   "id": "02da75f2-e6a8-4fde-ad76-bfe4239ecd40",
   "metadata": {},
   "outputs": [
    {
     "name": "stdout",
     "output_type": "stream",
     "text": [
      "Owner is unknown and Account balance is 500\n"
     ]
    }
   ],
   "source": [
    "print(ba1)"
   ]
  },
  {
   "cell_type": "code",
   "execution_count": 85,
   "id": "49a677e7-f4f5-4e5e-af93-87f13311aa8a",
   "metadata": {},
   "outputs": [
    {
     "name": "stdout",
     "output_type": "stream",
     "text": [
      "Deposit Accepted\n"
     ]
    }
   ],
   "source": [
    "ba1.deposit(500)"
   ]
  },
  {
   "cell_type": "code",
   "execution_count": 87,
   "id": "5819085d-41b0-4159-8f48-0d6fd1992271",
   "metadata": {},
   "outputs": [
    {
     "name": "stdout",
     "output_type": "stream",
     "text": [
      "Withdrawal Accepted\n"
     ]
    }
   ],
   "source": [
    "ba1.withdraw(200)"
   ]
  },
  {
   "cell_type": "code",
   "execution_count": 89,
   "id": "c77baee3-b4ea-4138-9b6f-f72d869a2429",
   "metadata": {},
   "outputs": [
    {
     "name": "stdout",
     "output_type": "stream",
     "text": [
      "Funds Unavailable\n"
     ]
    }
   ],
   "source": [
    "ba1.withdraw(900)"
   ]
  },
  {
   "cell_type": "code",
   "execution_count": null,
   "id": "3535ccd2-4ae5-4066-b7c7-3f4e6d24f9ac",
   "metadata": {},
   "outputs": [],
   "source": []
  }
 ],
 "metadata": {
  "kernelspec": {
   "display_name": "Python 3 (ipykernel)",
   "language": "python",
   "name": "python3"
  },
  "language_info": {
   "codemirror_mode": {
    "name": "ipython",
    "version": 3
   },
   "file_extension": ".py",
   "mimetype": "text/x-python",
   "name": "python",
   "nbconvert_exporter": "python",
   "pygments_lexer": "ipython3",
   "version": "3.12.3"
  }
 },
 "nbformat": 4,
 "nbformat_minor": 5
}
