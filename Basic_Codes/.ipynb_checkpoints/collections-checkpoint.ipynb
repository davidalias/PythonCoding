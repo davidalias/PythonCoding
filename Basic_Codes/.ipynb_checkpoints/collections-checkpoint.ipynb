{
 "cells": [
  {
   "cell_type": "code",
   "execution_count": 1,
   "id": "1d86bd1d-f2a3-4468-9247-0425c7d5a427",
   "metadata": {},
   "outputs": [],
   "source": [
    "from collections import Counter"
   ]
  },
  {
   "cell_type": "code",
   "execution_count": 2,
   "id": "b3e889b6-3cdc-4897-b1bc-9bd42b42e9cc",
   "metadata": {},
   "outputs": [],
   "source": [
    "mylist = [1,1,1,1,2,2,2,3,3]"
   ]
  },
  {
   "cell_type": "code",
   "execution_count": 3,
   "id": "b3bc728d-2afb-404a-8a96-34955ff92967",
   "metadata": {},
   "outputs": [
    {
     "data": {
      "text/plain": [
       "Counter({1: 4, 2: 3, 3: 2})"
      ]
     },
     "execution_count": 3,
     "metadata": {},
     "output_type": "execute_result"
    }
   ],
   "source": [
    "Counter(mylist)"
   ]
  },
  {
   "cell_type": "code",
   "execution_count": 4,
   "id": "4c70bc10-c630-432d-bc93-ec24228e54a2",
   "metadata": {},
   "outputs": [],
   "source": [
    "mylist = ['a', 'a', 1, 1]\n"
   ]
  },
  {
   "cell_type": "code",
   "execution_count": 5,
   "id": "fdaa8326-ea92-4866-be67-3679795285c8",
   "metadata": {},
   "outputs": [
    {
     "data": {
      "text/plain": [
       "Counter({'a': 2, 1: 2})"
      ]
     },
     "execution_count": 5,
     "metadata": {},
     "output_type": "execute_result"
    }
   ],
   "source": [
    "Counter(mylist)"
   ]
  },
  {
   "cell_type": "code",
   "execution_count": 7,
   "id": "73034d05-8b89-47cc-9942-4463578e5ddb",
   "metadata": {},
   "outputs": [
    {
     "data": {
      "text/plain": [
       "Counter({'h': 5, 'a': 2, 'f': 2, 'e': 2, 'j': 1})"
      ]
     },
     "execution_count": 7,
     "metadata": {},
     "output_type": "execute_result"
    }
   ],
   "source": [
    "Counter(\"aahhhffeehjh\")"
   ]
  },
  {
   "cell_type": "code",
   "execution_count": 8,
   "id": "20b4b75f-5325-4b66-83dc-3660335c2364",
   "metadata": {},
   "outputs": [],
   "source": [
    "strr = \"How many times does each word show up with different word\""
   ]
  },
  {
   "cell_type": "code",
   "execution_count": 9,
   "id": "9992ea61-6c1f-4da8-aacf-14668f3c911e",
   "metadata": {},
   "outputs": [
    {
     "data": {
      "text/plain": [
       "['How',\n",
       " 'many',\n",
       " 'times',\n",
       " 'does',\n",
       " 'each',\n",
       " 'word',\n",
       " 'show',\n",
       " 'up',\n",
       " 'with',\n",
       " 'different',\n",
       " 'word']"
      ]
     },
     "execution_count": 9,
     "metadata": {},
     "output_type": "execute_result"
    }
   ],
   "source": [
    "strr.split()"
   ]
  },
  {
   "cell_type": "code",
   "execution_count": 11,
   "id": "59c32112-742e-4030-8d7b-7edd273bfb74",
   "metadata": {},
   "outputs": [
    {
     "data": {
      "text/plain": [
       "Counter({'word': 2,\n",
       "         'how': 1,\n",
       "         'many': 1,\n",
       "         'times': 1,\n",
       "         'does': 1,\n",
       "         'each': 1,\n",
       "         'show': 1,\n",
       "         'up': 1,\n",
       "         'with': 1,\n",
       "         'different': 1})"
      ]
     },
     "execution_count": 11,
     "metadata": {},
     "output_type": "execute_result"
    }
   ],
   "source": [
    "Counter(strr.lower().split())"
   ]
  },
  {
   "cell_type": "code",
   "execution_count": 12,
   "id": "3926dd10-25d8-4660-8dbe-5186d31acf42",
   "metadata": {},
   "outputs": [],
   "source": [
    "letters = 'aaabbbcccddddddd'"
   ]
  },
  {
   "cell_type": "code",
   "execution_count": 14,
   "id": "19c1c91d-90f7-49c7-808b-effa2611c378",
   "metadata": {},
   "outputs": [],
   "source": [
    "c = Counter(letters)"
   ]
  },
  {
   "cell_type": "code",
   "execution_count": 15,
   "id": "7ff11dbe-8db5-48d1-9e49-ce7ea3dcf472",
   "metadata": {},
   "outputs": [
    {
     "data": {
      "text/plain": [
       "Counter({'d': 7, 'a': 3, 'b': 3, 'c': 3})"
      ]
     },
     "execution_count": 15,
     "metadata": {},
     "output_type": "execute_result"
    }
   ],
   "source": [
    "c"
   ]
  },
  {
   "cell_type": "code",
   "execution_count": 16,
   "id": "733365ea-eca1-4e5a-8722-91863c70b26f",
   "metadata": {},
   "outputs": [
    {
     "data": {
      "text/plain": [
       "collections.Counter"
      ]
     },
     "execution_count": 16,
     "metadata": {},
     "output_type": "execute_result"
    }
   ],
   "source": [
    "type(c)"
   ]
  },
  {
   "cell_type": "code",
   "execution_count": 17,
   "id": "1fac3b2a-0a6e-4ea7-aa3c-7e3af0117007",
   "metadata": {},
   "outputs": [
    {
     "data": {
      "text/plain": [
       "[('d', 7), ('a', 3), ('b', 3), ('c', 3)]"
      ]
     },
     "execution_count": 17,
     "metadata": {},
     "output_type": "execute_result"
    }
   ],
   "source": [
    "c.most_common()"
   ]
  },
  {
   "cell_type": "code",
   "execution_count": 18,
   "id": "8e612ee6-076b-4629-bb5e-bb5f68a01e2a",
   "metadata": {},
   "outputs": [
    {
     "data": {
      "text/plain": [
       "[('d', 7), ('a', 3), ('b', 3)]"
      ]
     },
     "execution_count": 18,
     "metadata": {},
     "output_type": "execute_result"
    }
   ],
   "source": [
    "c.most_common(3)"
   ]
  },
  {
   "cell_type": "code",
   "execution_count": null,
   "id": "f67bec15-ff4e-4c9c-911c-220a46b67fe6",
   "metadata": {},
   "outputs": [],
   "source": []
  },
  {
   "cell_type": "code",
   "execution_count": null,
   "id": "87d01374-837f-41bb-9426-f8019684ec45",
   "metadata": {},
   "outputs": [],
   "source": []
  },
  {
   "cell_type": "markdown",
   "id": "02d92dcb-a57a-481e-b94e-101fec7a7190",
   "metadata": {},
   "source": [
    "**defaultdict**"
   ]
  },
  {
   "cell_type": "code",
   "execution_count": 19,
   "id": "aeeaf0d1-a455-41cd-9139-57d6598e12b9",
   "metadata": {},
   "outputs": [],
   "source": [
    "from collections import defaultdict"
   ]
  },
  {
   "cell_type": "code",
   "execution_count": 27,
   "id": "a1ae21b1-edd7-4eae-8719-481c98e84f11",
   "metadata": {},
   "outputs": [],
   "source": [
    "d = {'a':10}\n",
    "\n"
   ]
  },
  {
   "cell_type": "code",
   "execution_count": 28,
   "id": "290dca0c-87a5-45a1-8b4b-041b56137a9d",
   "metadata": {},
   "outputs": [
    {
     "data": {
      "text/plain": [
       "{'a': 10}"
      ]
     },
     "execution_count": 28,
     "metadata": {},
     "output_type": "execute_result"
    }
   ],
   "source": [
    "d"
   ]
  },
  {
   "cell_type": "code",
   "execution_count": 22,
   "id": "3d0e92ff-0c5a-4207-b41b-09f19b0016a6",
   "metadata": {},
   "outputs": [
    {
     "ename": "KeyError",
     "evalue": "'wrong'",
     "output_type": "error",
     "traceback": [
      "\u001b[1;31m---------------------------------------------------------------------------\u001b[0m",
      "\u001b[1;31mKeyError\u001b[0m                                  Traceback (most recent call last)",
      "Cell \u001b[1;32mIn[22], line 1\u001b[0m\n\u001b[1;32m----> 1\u001b[0m d[\u001b[38;5;124m'\u001b[39m\u001b[38;5;124mwrong\u001b[39m\u001b[38;5;124m'\u001b[39m]\n",
      "\u001b[1;31mKeyError\u001b[0m: 'wrong'"
     ]
    }
   ],
   "source": [
    "d['wrong']"
   ]
  },
  {
   "cell_type": "code",
   "execution_count": 30,
   "id": "b232f6a9-9341-417d-aef2-303082ae3c69",
   "metadata": {},
   "outputs": [],
   "source": [
    "d['correct'] = 10"
   ]
  },
  {
   "cell_type": "code",
   "execution_count": 29,
   "id": "7baa7a96-b5c6-4ead-8219-f816f5ba54f1",
   "metadata": {},
   "outputs": [
    {
     "data": {
      "text/plain": [
       "dict"
      ]
     },
     "execution_count": 29,
     "metadata": {},
     "output_type": "execute_result"
    }
   ],
   "source": [
    "type(d)"
   ]
  },
  {
   "cell_type": "code",
   "execution_count": 31,
   "id": "f7d7660d-3f1e-46dd-b681-4a78b264bd95",
   "metadata": {},
   "outputs": [],
   "source": [
    "d = defaultdict[lambda: 0]"
   ]
  },
  {
   "cell_type": "code",
   "execution_count": 32,
   "id": "2fc026b7-8700-42c3-a2d8-da20dedd9457",
   "metadata": {},
   "outputs": [
    {
     "ename": "TypeError",
     "evalue": "collections.defaultdict[__main__.<lambda>] is not a generic class",
     "output_type": "error",
     "traceback": [
      "\u001b[1;31m---------------------------------------------------------------------------\u001b[0m",
      "\u001b[1;31mTypeError\u001b[0m                                 Traceback (most recent call last)",
      "Cell \u001b[1;32mIn[32], line 1\u001b[0m\n\u001b[1;32m----> 1\u001b[0m d[\u001b[38;5;124m'\u001b[39m\u001b[38;5;124mwrongkey\u001b[39m\u001b[38;5;124m'\u001b[39m]\n",
      "\u001b[1;31mTypeError\u001b[0m: collections.defaultdict[__main__.<lambda>] is not a generic class"
     ]
    }
   ],
   "source": [
    "d['wrongkey']"
   ]
  },
  {
   "cell_type": "code",
   "execution_count": null,
   "id": "8e8bb4fa-16c3-47af-8910-7af90451be78",
   "metadata": {},
   "outputs": [],
   "source": []
  }
 ],
 "metadata": {
  "kernelspec": {
   "display_name": "Python 3 (ipykernel)",
   "language": "python",
   "name": "python3"
  },
  "language_info": {
   "codemirror_mode": {
    "name": "ipython",
    "version": 3
   },
   "file_extension": ".py",
   "mimetype": "text/x-python",
   "name": "python",
   "nbconvert_exporter": "python",
   "pygments_lexer": "ipython3",
   "version": "3.13.5"
  }
 },
 "nbformat": 4,
 "nbformat_minor": 5
}
