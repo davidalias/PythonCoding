{
 "cells": [
  {
   "cell_type": "markdown",
   "id": "6db8f356-7e82-4029-9bae-8fdb540ee0b3",
   "metadata": {},
   "source": [
    "**Python has decorators that allow you to tack on extra functionality to an already existing function. They use @ operator and are placed on top of the original function**"
   ]
  },
  {
   "cell_type": "code",
   "execution_count": 1,
   "id": "e17a5619-2fe4-4c97-8ecb-ac732b56fab7",
   "metadata": {},
   "outputs": [],
   "source": [
    "def hello():\n",
    "    print(\"Hello\")"
   ]
  },
  {
   "cell_type": "code",
   "execution_count": 3,
   "id": "7bd91fe2-884d-42dd-b9b3-2b34e8f8a320",
   "metadata": {},
   "outputs": [
    {
     "data": {
      "text/plain": [
       "<function __main__.hello()>"
      ]
     },
     "execution_count": 3,
     "metadata": {},
     "output_type": "execute_result"
    }
   ],
   "source": [
    "hello"
   ]
  },
  {
   "cell_type": "code",
   "execution_count": 5,
   "id": "5408b263-93f2-4f74-92cb-4508fe146f7f",
   "metadata": {},
   "outputs": [
    {
     "name": "stdout",
     "output_type": "stream",
     "text": [
      "Hello\n"
     ]
    }
   ],
   "source": [
    "hello()"
   ]
  },
  {
   "cell_type": "code",
   "execution_count": 7,
   "id": "7e818525-dcd0-45d9-baca-5c2cf26fe8b2",
   "metadata": {},
   "outputs": [],
   "source": [
    "greet = hello"
   ]
  },
  {
   "cell_type": "code",
   "execution_count": 9,
   "id": "3a832dac-8cf4-4bd2-9e83-ce3722c5527d",
   "metadata": {},
   "outputs": [
    {
     "name": "stdout",
     "output_type": "stream",
     "text": [
      "Hello\n"
     ]
    }
   ],
   "source": [
    "greet()"
   ]
  },
  {
   "cell_type": "code",
   "execution_count": 11,
   "id": "9c40dec4-8d51-499a-92e2-81ac35f7c6e7",
   "metadata": {},
   "outputs": [
    {
     "name": "stdout",
     "output_type": "stream",
     "text": [
      "Hello\n"
     ]
    }
   ],
   "source": [
    "hello()\n"
   ]
  },
  {
   "cell_type": "code",
   "execution_count": 13,
   "id": "c8a5f5df-aa11-415a-8e7c-614eec329857",
   "metadata": {},
   "outputs": [],
   "source": [
    "del hello"
   ]
  },
  {
   "cell_type": "code",
   "execution_count": 15,
   "id": "b93a4dab-ee9e-4f91-a27e-7b6f700585d7",
   "metadata": {},
   "outputs": [
    {
     "ename": "NameError",
     "evalue": "name 'hello' is not defined",
     "output_type": "error",
     "traceback": [
      "\u001b[1;31m---------------------------------------------------------------------------\u001b[0m",
      "\u001b[1;31mNameError\u001b[0m                                 Traceback (most recent call last)",
      "Cell \u001b[1;32mIn[15], line 1\u001b[0m\n\u001b[1;32m----> 1\u001b[0m \u001b[43mhello\u001b[49m()\n",
      "\u001b[1;31mNameError\u001b[0m: name 'hello' is not defined"
     ]
    }
   ],
   "source": [
    "hello()"
   ]
  },
  {
   "cell_type": "code",
   "execution_count": 17,
   "id": "bac1a845-371d-4144-b6c7-496566d78dc9",
   "metadata": {},
   "outputs": [
    {
     "name": "stdout",
     "output_type": "stream",
     "text": [
      "Hello\n"
     ]
    }
   ],
   "source": [
    "greet()"
   ]
  },
  {
   "cell_type": "code",
   "execution_count": 19,
   "id": "c5ca84b5-b57d-4e36-a728-8a1e0b21ebc1",
   "metadata": {},
   "outputs": [
    {
     "data": {
      "text/plain": [
       "<function __main__.hello()>"
      ]
     },
     "execution_count": 19,
     "metadata": {},
     "output_type": "execute_result"
    }
   ],
   "source": [
    "greet"
   ]
  },
  {
   "cell_type": "code",
   "execution_count": null,
   "id": "b071e0d2-ce3b-440d-bd4d-121377703c16",
   "metadata": {},
   "outputs": [],
   "source": []
  },
  {
   "cell_type": "code",
   "execution_count": null,
   "id": "aa9f8850-5406-4780-86bb-30b91a676b9c",
   "metadata": {},
   "outputs": [],
   "source": []
  },
  {
   "cell_type": "code",
   "execution_count": null,
   "id": "f4427c09-8f44-4d31-95a4-f213761581b9",
   "metadata": {},
   "outputs": [],
   "source": []
  },
  {
   "cell_type": "code",
   "execution_count": null,
   "id": "5ff31a73-17be-4c8f-b378-8bc21a085741",
   "metadata": {},
   "outputs": [],
   "source": []
  },
  {
   "cell_type": "code",
   "execution_count": 37,
   "id": "ff26de62-89f2-482b-8e41-eeb359f1b8ce",
   "metadata": {},
   "outputs": [],
   "source": [
    "def hello(name = \"Jose\"):\n",
    "    print(\"This is hello() function\")\n",
    "\n",
    "    def greet():\n",
    "        return \"\\tThis is greet func inside hello\"\n"
   ]
  },
  {
   "cell_type": "code",
   "execution_count": 39,
   "id": "294cfa58-c4c6-4ef1-aceb-7a869bbc902a",
   "metadata": {},
   "outputs": [
    {
     "name": "stdout",
     "output_type": "stream",
     "text": [
      "This is hello() function\n"
     ]
    }
   ],
   "source": [
    "hello()"
   ]
  },
  {
   "cell_type": "code",
   "execution_count": 47,
   "id": "d029898e-401f-46fa-bd5c-10cf3f97bb6f",
   "metadata": {},
   "outputs": [],
   "source": [
    "def hello(name = \"Jose\"):\n",
    "    print(\"This is hello() function\")\n",
    "\n",
    "    def greet():\n",
    "        return \"\\tThis is greet func inside hello\"\n",
    "\n",
    "    print(greet())   "
   ]
  },
  {
   "cell_type": "code",
   "execution_count": 49,
   "id": "25bd3c8f-ced3-4e34-b061-cdeb8debf205",
   "metadata": {},
   "outputs": [
    {
     "name": "stdout",
     "output_type": "stream",
     "text": [
      "This is hello() function\n",
      "\tThis is greet func inside hello\n"
     ]
    }
   ],
   "source": [
    "hello()"
   ]
  },
  {
   "cell_type": "code",
   "execution_count": null,
   "id": "10eefc4c-8878-437f-9ccc-96d91b0fc821",
   "metadata": {},
   "outputs": [],
   "source": []
  },
  {
   "cell_type": "code",
   "execution_count": 54,
   "id": "6e80cab0-2e30-42ab-a010-a5c2c449e368",
   "metadata": {},
   "outputs": [],
   "source": [
    "def hello(name = \"Jose\"):\n",
    "    print(\"This is hello() function\")\n",
    "\n",
    "    def greet():\n",
    "        return \"\\tThis is greet func inside hello\"\n",
    "\n",
    "    def welcome():\n",
    "        return \"\\tThis is welcome func inside hello\"\n",
    "\n",
    "    if name == 'Jose':\n",
    "        return greet\n",
    "\n",
    "    else:\n",
    "        return welcome"
   ]
  },
  {
   "cell_type": "code",
   "execution_count": 56,
   "id": "e451e08e-7686-41b7-92be-3ac9bd96fe21",
   "metadata": {},
   "outputs": [
    {
     "name": "stdout",
     "output_type": "stream",
     "text": [
      "This is hello() function\n"
     ]
    }
   ],
   "source": [
    "my_new_func = hello(\"Jose\")"
   ]
  },
  {
   "cell_type": "code",
   "execution_count": 60,
   "id": "23ebd48e-8177-49a6-b7c0-99bc2b0b59e0",
   "metadata": {},
   "outputs": [
    {
     "data": {
      "text/plain": [
       "'\\tThis is greet func inside hello'"
      ]
     },
     "execution_count": 60,
     "metadata": {},
     "output_type": "execute_result"
    }
   ],
   "source": [
    "my_new_func()"
   ]
  },
  {
   "cell_type": "code",
   "execution_count": 64,
   "id": "f8976721-407d-4c72-8327-817d04e74ef3",
   "metadata": {},
   "outputs": [
    {
     "name": "stdout",
     "output_type": "stream",
     "text": [
      "\tThis is greet func inside hello\n"
     ]
    }
   ],
   "source": [
    "print(my_new_func())"
   ]
  },
  {
   "cell_type": "code",
   "execution_count": 62,
   "id": "2a5d3959-697d-47f2-a6cc-4537f15f7a4a",
   "metadata": {},
   "outputs": [
    {
     "data": {
      "text/plain": [
       "<function __main__.hello.<locals>.greet()>"
      ]
     },
     "execution_count": 62,
     "metadata": {},
     "output_type": "execute_result"
    }
   ],
   "source": [
    "my_new_func"
   ]
  },
  {
   "cell_type": "code",
   "execution_count": null,
   "id": "6808c80d-fa15-4f88-a57a-1fc5fa8549c4",
   "metadata": {},
   "outputs": [],
   "source": []
  },
  {
   "cell_type": "code",
   "execution_count": null,
   "id": "5a202eea-5471-43c4-a741-db8c0e02d20c",
   "metadata": {},
   "outputs": [],
   "source": []
  },
  {
   "cell_type": "code",
   "execution_count": 3,
   "id": "d0d7d9bc-cbf7-46d1-8e9e-dbbe89d125df",
   "metadata": {},
   "outputs": [],
   "source": [
    "def cool():\n",
    "    def super_cool():\n",
    "        return \"I am very cool\"\n",
    "\n",
    "    return super_cool"
   ]
  },
  {
   "cell_type": "code",
   "execution_count": 5,
   "id": "13d4e406-dc96-4fa9-aba2-c27f023fec0d",
   "metadata": {},
   "outputs": [],
   "source": [
    "my_func = cool()"
   ]
  },
  {
   "cell_type": "code",
   "execution_count": 7,
   "id": "d0c7394a-9922-46f3-b8bc-2ab7bbc49f31",
   "metadata": {},
   "outputs": [
    {
     "data": {
      "text/plain": [
       "'I am very cool'"
      ]
     },
     "execution_count": 7,
     "metadata": {},
     "output_type": "execute_result"
    }
   ],
   "source": [
    "my_func()"
   ]
  },
  {
   "cell_type": "code",
   "execution_count": null,
   "id": "f318b387-9c95-4f0b-8731-96120a1fb71e",
   "metadata": {},
   "outputs": [],
   "source": []
  },
  {
   "cell_type": "code",
   "execution_count": null,
   "id": "81f87dd0-7510-45d2-bbe4-c4fd29188ef8",
   "metadata": {},
   "outputs": [],
   "source": []
  },
  {
   "cell_type": "markdown",
   "id": "e371a9e4-09ee-445a-9300-ec8c19b0301f",
   "metadata": {},
   "source": [
    "**Passing a function as an argument**"
   ]
  },
  {
   "cell_type": "code",
   "execution_count": 12,
   "id": "406edfaf-1830-4a8b-a4fa-8a034800a875",
   "metadata": {},
   "outputs": [],
   "source": [
    "def hello():\n",
    "    return \"Hi John\""
   ]
  },
  {
   "cell_type": "code",
   "execution_count": 14,
   "id": "3dc67dff-d909-453a-a83f-fd6bb81b8954",
   "metadata": {},
   "outputs": [],
   "source": [
    "def some_func(func):\n",
    "    print(\"Other code runs here\")\n",
    "    print(func())"
   ]
  },
  {
   "cell_type": "code",
   "execution_count": 19,
   "id": "c9aa107f-8469-4896-8e39-192c22c57b2e",
   "metadata": {},
   "outputs": [
    {
     "data": {
      "text/plain": [
       "'Hi John'"
      ]
     },
     "execution_count": 19,
     "metadata": {},
     "output_type": "execute_result"
    }
   ],
   "source": [
    "hello()"
   ]
  },
  {
   "cell_type": "code",
   "execution_count": 23,
   "id": "881893a3-dd68-4c00-8889-0efa56d3fbca",
   "metadata": {},
   "outputs": [
    {
     "name": "stdout",
     "output_type": "stream",
     "text": [
      "Other code runs here\n",
      "Hi John\n"
     ]
    }
   ],
   "source": [
    "some_func(hello)"
   ]
  },
  {
   "cell_type": "code",
   "execution_count": null,
   "id": "2fd43a1a-2d37-42bc-8456-475f3490fa13",
   "metadata": {},
   "outputs": [],
   "source": []
  },
  {
   "cell_type": "code",
   "execution_count": null,
   "id": "ebf2c19e-b51e-4638-97f1-f70409ec5210",
   "metadata": {},
   "outputs": [],
   "source": []
  },
  {
   "cell_type": "code",
   "execution_count": 29,
   "id": "fd687c4c-f529-4bec-ba36-c6422c7aaac1",
   "metadata": {},
   "outputs": [],
   "source": [
    "def new_decorator(original_func):\n",
    "\n",
    "    def wrap_func():\n",
    "        print(\"some extra code before the original function\")\n",
    "\n",
    "        original_func()\n",
    "\n",
    "        print(\"some extra code after the original function\")\n",
    "\n",
    "    return wrap_func"
   ]
  },
  {
   "cell_type": "code",
   "execution_count": 31,
   "id": "dc445e50-0ff0-44a1-b6ca-a1d38e6a7faa",
   "metadata": {},
   "outputs": [],
   "source": [
    "def func_needs_decorator():\n",
    "    print(\"I want to be decorated\")"
   ]
  },
  {
   "cell_type": "code",
   "execution_count": 33,
   "id": "998a7f2d-eee9-4059-aad6-4e92797a9756",
   "metadata": {},
   "outputs": [
    {
     "name": "stdout",
     "output_type": "stream",
     "text": [
      "I want to be decorated\n"
     ]
    }
   ],
   "source": [
    "func_needs_decorator()"
   ]
  },
  {
   "cell_type": "code",
   "execution_count": 35,
   "id": "3e8eb502-6007-4e3b-be85-7d8e70af1b0e",
   "metadata": {},
   "outputs": [],
   "source": [
    "decorated_func = new_decorator(func_needs_decorator)"
   ]
  },
  {
   "cell_type": "code",
   "execution_count": 37,
   "id": "5c9d3dce-b54c-4cd3-ad2d-7642e4555e6f",
   "metadata": {},
   "outputs": [
    {
     "name": "stdout",
     "output_type": "stream",
     "text": [
      "some extra code before the original function\n",
      "I want to be decorated\n",
      "some extra code after the original function\n"
     ]
    }
   ],
   "source": [
    "decorated_func()"
   ]
  },
  {
   "cell_type": "code",
   "execution_count": null,
   "id": "68642e3c-9f9d-485f-a885-d325f529ae6e",
   "metadata": {},
   "outputs": [],
   "source": []
  },
  {
   "cell_type": "code",
   "execution_count": null,
   "id": "d922884e-197f-4d34-bf96-6bf53a3eddaf",
   "metadata": {},
   "outputs": [],
   "source": []
  },
  {
   "cell_type": "code",
   "execution_count": 41,
   "id": "478b1d9a-2170-4007-bd01-2db8ff8f7f22",
   "metadata": {},
   "outputs": [],
   "source": [
    "@new_decorator\n",
    "def func_needs_decorator():\n",
    "    print(\"I want to be decorated\")"
   ]
  },
  {
   "cell_type": "code",
   "execution_count": 43,
   "id": "3407cd74-998a-4843-90c8-93f64e344153",
   "metadata": {},
   "outputs": [
    {
     "name": "stdout",
     "output_type": "stream",
     "text": [
      "some extra code before the original function\n",
      "I want to be decorated\n",
      "some extra code after the original function\n"
     ]
    }
   ],
   "source": [
    "func_needs_decorator()"
   ]
  },
  {
   "cell_type": "code",
   "execution_count": null,
   "id": "fd6d171b-8003-4844-9c81-1d6cbdabaacd",
   "metadata": {},
   "outputs": [],
   "source": []
  }
 ],
 "metadata": {
  "kernelspec": {
   "display_name": "Python 3 (ipykernel)",
   "language": "python",
   "name": "python3"
  },
  "language_info": {
   "codemirror_mode": {
    "name": "ipython",
    "version": 3
   },
   "file_extension": ".py",
   "mimetype": "text/x-python",
   "name": "python",
   "nbconvert_exporter": "python",
   "pygments_lexer": "ipython3",
   "version": "3.12.3"
  }
 },
 "nbformat": 4,
 "nbformat_minor": 5
}
