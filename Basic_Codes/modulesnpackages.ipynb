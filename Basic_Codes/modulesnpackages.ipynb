{
 "cells": [
  {
   "cell_type": "markdown",
   "id": "8341b108-da4d-4e18-b2cd-acc63616b0bc",
   "metadata": {},
   "source": [
    "**Modules are just .py scripts that you call in another .py script**"
   ]
  },
  {
   "cell_type": "markdown",
   "id": "f318af43-8a7f-4244-84b5-dc39f3461e68",
   "metadata": {},
   "source": [
    "**Packages are a collection of modules**"
   ]
  },
  {
   "cell_type": "markdown",
   "id": "a956759c-bd00-4ef5-8cbb-d7f490608700",
   "metadata": {},
   "source": [
    "**To create a package, the folder should have '__init__.py' file inside. No need to add anything in it**"
   ]
  },
  {
   "cell_type": "code",
   "execution_count": null,
   "id": "21885f39-47fa-46e6-b586-1c1cee0e2dee",
   "metadata": {},
   "outputs": [],
   "source": []
  }
 ],
 "metadata": {
  "kernelspec": {
   "display_name": "Python 3 (ipykernel)",
   "language": "python",
   "name": "python3"
  },
  "language_info": {
   "codemirror_mode": {
    "name": "ipython",
    "version": 3
   },
   "file_extension": ".py",
   "mimetype": "text/x-python",
   "name": "python",
   "nbconvert_exporter": "python",
   "pygments_lexer": "ipython3",
   "version": "3.12.3"
  }
 },
 "nbformat": 4,
 "nbformat_minor": 5
}
