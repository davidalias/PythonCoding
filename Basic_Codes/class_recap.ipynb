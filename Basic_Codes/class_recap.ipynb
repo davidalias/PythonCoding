{
 "cells": [
  {
   "cell_type": "markdown",
   "id": "b6a081bd",
   "metadata": {},
   "source": [
    "super()"
   ]
  },
  {
   "cell_type": "code",
   "execution_count": 1,
   "id": "44b49f42",
   "metadata": {},
   "outputs": [
    {
     "name": "stdout",
     "output_type": "stream",
     "text": [
      "Parent initialized\n",
      "Child initialized\n"
     ]
    }
   ],
   "source": [
    "class Parent:\n",
    "    def __init__(self):\n",
    "        print(\"Parent initialized\")\n",
    "\n",
    "class Child(Parent):\n",
    "    def __init__(self):\n",
    "        super().__init__()  # Calls Parent's __init__\n",
    "        print(\"Child initialized\")\n",
    "\n",
    "c = Child()"
   ]
  },
  {
   "cell_type": "markdown",
   "id": "25ffd6fd",
   "metadata": {},
   "source": [
    "@staticmethod"
   ]
  },
  {
   "cell_type": "code",
   "execution_count": 2,
   "id": "da031571",
   "metadata": {},
   "outputs": [],
   "source": [
    "class MathUtils:\n",
    "    @staticmethod\n",
    "    def add(a, b):\n",
    "        return a + b\n",
    "\n",
    "    @staticmethod\n",
    "    def multiply(a, b):\n",
    "        return a * b"
   ]
  },
  {
   "cell_type": "code",
   "execution_count": 3,
   "id": "197ab8ef",
   "metadata": {},
   "outputs": [
    {
     "name": "stdout",
     "output_type": "stream",
     "text": [
      "8\n",
      "8\n"
     ]
    }
   ],
   "source": [
    "# No need to create an instance of MathUtils\n",
    "result1 = MathUtils.add(5, 3)\n",
    "result2 = MathUtils.multiply(4, 2)\n",
    "\n",
    "print(result1)  # Output: 8\n",
    "print(result2)  # Output: 8"
   ]
  },
  {
   "cell_type": "markdown",
   "id": "c7021045",
   "metadata": {},
   "source": [
    "The @property decorator in Python is used to define getter methods that can be accessed like attributes, while still allowing you to include logic when retrieving their values. It’s part of Python’s descriptor protocol, and is commonly used to make class interfaces cleaner and more intuitive."
   ]
  },
  {
   "cell_type": "code",
   "execution_count": 5,
   "id": "71d723a3",
   "metadata": {},
   "outputs": [],
   "source": [
    "class Circle:\n",
    "    def __init__(self, radius):\n",
    "        self._radius = radius\n",
    "\n",
    "    @property\n",
    "    def area(self):\n",
    "        return self._radius* self._radius\n"
   ]
  },
  {
   "cell_type": "code",
   "execution_count": null,
   "id": "0997cdcf",
   "metadata": {},
   "outputs": [
    {
     "name": "stdout",
     "output_type": "stream",
     "text": [
      "25\n"
     ]
    }
   ],
   "source": [
    "\n",
    "c = Circle(5)\n",
    "print(c.area) #no paranthesis\n"
   ]
  },
  {
   "cell_type": "markdown",
   "id": "15e0b7e7",
   "metadata": {},
   "source": [
    "In Python, *args and **kwargs are used to pass a variable number of arguments to a function."
   ]
  },
  {
   "cell_type": "markdown",
   "id": "255848b4",
   "metadata": {},
   "source": [
    "**kwargs — Keyword Arguments\n",
    "\n",
    "**kwargs stands for \"keyword arguments\".\n",
    "It allows you to pass any number of named arguments (i.e., key-value pairs) to a function.\n",
    "Inside the function, kwargs is treated as a dictionary."
   ]
  },
  {
   "cell_type": "code",
   "execution_count": 7,
   "id": "f8957408",
   "metadata": {},
   "outputs": [
    {
     "name": "stdout",
     "output_type": "stream",
     "text": [
      "name: A\n",
      "role: engineer\n",
      "location: delhi\n"
     ]
    }
   ],
   "source": [
    "def greet(**kwargs):\n",
    "    for key, value in kwargs.items():\n",
    "        print(f\"{key}: {value}\")\n",
    "\n",
    "greet(name=\"A\", role=\"engineer\", location=\"delhi\")\n"
   ]
  },
  {
   "cell_type": "code",
   "execution_count": 8,
   "id": "a64375e8",
   "metadata": {},
   "outputs": [
    {
     "name": "stdout",
     "output_type": "stream",
     "text": [
      "Positional: (1, 2)\n",
      "Keyword: {'name': 'Alice', 'age': 30}\n"
     ]
    }
   ],
   "source": [
    "def demo_func(*args, **kwargs):\n",
    "    print(\"Positional:\", args)\n",
    "    print(\"Keyword:\", kwargs)\n",
    "\n",
    "demo_func(1, 2, name=\"Alice\", age=30)"
   ]
  },
  {
   "cell_type": "code",
   "execution_count": null,
   "id": "2adb1fe3",
   "metadata": {},
   "outputs": [],
   "source": []
  }
 ],
 "metadata": {
  "kernelspec": {
   "display_name": "base",
   "language": "python",
   "name": "python3"
  },
  "language_info": {
   "codemirror_mode": {
    "name": "ipython",
    "version": 3
   },
   "file_extension": ".py",
   "mimetype": "text/x-python",
   "name": "python",
   "nbconvert_exporter": "python",
   "pygments_lexer": "ipython3",
   "version": "3.13.5"
  }
 },
 "nbformat": 4,
 "nbformat_minor": 5
}
