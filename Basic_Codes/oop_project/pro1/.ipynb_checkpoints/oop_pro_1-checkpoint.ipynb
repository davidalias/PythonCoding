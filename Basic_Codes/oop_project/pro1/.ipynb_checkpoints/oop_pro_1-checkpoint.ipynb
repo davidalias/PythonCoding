{
 "cells": [
  {
   "cell_type": "code",
   "execution_count": 40,
   "id": "be8aff78-b072-4f83-a1ae-b3f1499c8566",
   "metadata": {},
   "outputs": [],
   "source": [
    "#CARD\n",
    "#SUIT, RANK, VALUE\n",
    "#global variables initialized on top is a good practice\n",
    "suits = ('hearts', 'diamonds', 'spades', 'clubs')\n",
    "\n",
    "ranks = ('Two', 'Three', 'Four', 'Five', 'Six', 'Seven', 'Eight', 'Nine', 'Ten', 'Jack', 'Queen', 'King', 'Ace')\n",
    "\n",
    "values = {'Two': 2, 'Three': 3, 'Four': 4, 'Five': 5, 'Six': 6, 'Seven': 7, \n",
    "          'Eight': 8, 'Nine': 9, 'Ten': 10, 'Jack': 11, 'Queen': 12, 'King': 13, 'Ace': 14}"
   ]
  },
  {
   "cell_type": "code",
   "execution_count": 19,
   "id": "53a0e67a-108f-4bdf-adcb-d4fae3de4989",
   "metadata": {},
   "outputs": [],
   "source": [
    "class Card:        #since no inheritance, Card() or Card can be used here\n",
    "    def __init__(self, suit, rank):\n",
    "        self.suit = suit\n",
    "        self.rank = rank\n",
    "        self.value = values[rank]\n",
    "\n",
    "    def __str__(self):\n",
    "        return self.rank + \" of \" + self.suit"
   ]
  },
  {
   "cell_type": "code",
   "execution_count": 21,
   "id": "31b0096d-033a-46cd-b5c9-654750c4f0b1",
   "metadata": {},
   "outputs": [],
   "source": [
    "two_hearts = Card(\"Hearts\", \"Two\")"
   ]
  },
  {
   "cell_type": "code",
   "execution_count": 23,
   "id": "4e0c51e3-9df0-4b5b-91e9-bbd1079d3d35",
   "metadata": {},
   "outputs": [
    {
     "data": {
      "text/plain": [
       "<__main__.Card at 0x20f093de7b0>"
      ]
     },
     "execution_count": 23,
     "metadata": {},
     "output_type": "execute_result"
    }
   ],
   "source": [
    "two_hearts"
   ]
  },
  {
   "cell_type": "code",
   "execution_count": 25,
   "id": "e4c10a6b-d9c0-4fea-98b8-148243e24ab5",
   "metadata": {},
   "outputs": [
    {
     "name": "stdout",
     "output_type": "stream",
     "text": [
      "Two of Hearts\n"
     ]
    }
   ],
   "source": [
    "print(two_hearts)"
   ]
  },
  {
   "cell_type": "code",
   "execution_count": 11,
   "id": "579ae02d-cf39-401a-a662-73a4f7381a06",
   "metadata": {},
   "outputs": [
    {
     "data": {
      "text/plain": [
       "'Hearts'"
      ]
     },
     "execution_count": 11,
     "metadata": {},
     "output_type": "execute_result"
    }
   ],
   "source": [
    "two_hearts.suit"
   ]
  },
  {
   "cell_type": "code",
   "execution_count": 13,
   "id": "b87a7e96-c353-4280-9a0a-671639381cf5",
   "metadata": {},
   "outputs": [
    {
     "data": {
      "text/plain": [
       "'Two'"
      ]
     },
     "execution_count": 13,
     "metadata": {},
     "output_type": "execute_result"
    }
   ],
   "source": [
    "two_hearts.rank"
   ]
  },
  {
   "cell_type": "code",
   "execution_count": 27,
   "id": "9e5c0ff3-7df5-4040-972d-77f7c6fae17e",
   "metadata": {},
   "outputs": [
    {
     "data": {
      "text/plain": [
       "2"
      ]
     },
     "execution_count": 27,
     "metadata": {},
     "output_type": "execute_result"
    }
   ],
   "source": [
    "two_hearts.value"
   ]
  },
  {
   "cell_type": "code",
   "execution_count": null,
   "id": "9e8843c6-4723-487b-ab3d-129f2c6b5a8a",
   "metadata": {},
   "outputs": [],
   "source": []
  },
  {
   "cell_type": "code",
   "execution_count": 30,
   "id": "fa60f14c-e9f8-4ef2-9a4b-b4b23fbdfe8b",
   "metadata": {},
   "outputs": [],
   "source": [
    "three_clubs = Card(\"Clubs\", \"Three\")"
   ]
  },
  {
   "cell_type": "code",
   "execution_count": 32,
   "id": "4c223c17-ab6d-4eda-b882-feb9b6c04cad",
   "metadata": {},
   "outputs": [
    {
     "data": {
      "text/plain": [
       "'Three'"
      ]
     },
     "execution_count": 32,
     "metadata": {},
     "output_type": "execute_result"
    }
   ],
   "source": [
    "three_clubs.rank"
   ]
  },
  {
   "cell_type": "code",
   "execution_count": 34,
   "id": "cde78c82-5ad6-4533-8537-6e8fa76cbf5c",
   "metadata": {},
   "outputs": [
    {
     "data": {
      "text/plain": [
       "'Clubs'"
      ]
     },
     "execution_count": 34,
     "metadata": {},
     "output_type": "execute_result"
    }
   ],
   "source": [
    "three_clubs.suit"
   ]
  },
  {
   "cell_type": "code",
   "execution_count": 36,
   "id": "e301d9ec-271a-49eb-830e-63c9eb10f86b",
   "metadata": {},
   "outputs": [
    {
     "data": {
      "text/plain": [
       "3"
      ]
     },
     "execution_count": 36,
     "metadata": {},
     "output_type": "execute_result"
    }
   ],
   "source": [
    "three_clubs.value"
   ]
  },
  {
   "cell_type": "code",
   "execution_count": 38,
   "id": "bb8c7db3-33af-4470-9b1f-23ff8f191bfe",
   "metadata": {},
   "outputs": [
    {
     "data": {
      "text/plain": [
       "False"
      ]
     },
     "execution_count": 38,
     "metadata": {},
     "output_type": "execute_result"
    }
   ],
   "source": [
    "three_clubs.value == two_hearts.value"
   ]
  },
  {
   "cell_type": "code",
   "execution_count": null,
   "id": "f923b729-3506-4680-92d9-a7409ef32de1",
   "metadata": {},
   "outputs": [],
   "source": []
  }
 ],
 "metadata": {
  "kernelspec": {
   "display_name": "Python 3 (ipykernel)",
   "language": "python",
   "name": "python3"
  },
  "language_info": {
   "codemirror_mode": {
    "name": "ipython",
    "version": 3
   },
   "file_extension": ".py",
   "mimetype": "text/x-python",
   "name": "python",
   "nbconvert_exporter": "python",
   "pygments_lexer": "ipython3",
   "version": "3.12.3"
  }
 },
 "nbformat": 4,
 "nbformat_minor": 5
}
