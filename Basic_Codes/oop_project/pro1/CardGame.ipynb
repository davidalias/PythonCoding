{
 "cells": [
  {
   "cell_type": "code",
   "execution_count": 1,
   "id": "be8aff78-b072-4f83-a1ae-b3f1499c8566",
   "metadata": {},
   "outputs": [],
   "source": [
    "import random\n",
    "\n",
    "#CARD\n",
    "#SUIT, RANK, VALUE\n",
    "#global variables initialized on top is a good practice\n",
    "suits = ('hearts', 'diamonds', 'spades', 'clubs')\n",
    "\n",
    "ranks = ('Two', 'Three', 'Four', 'Five', 'Six', 'Seven', 'Eight', 'Nine', 'Ten', 'Jack', 'Queen', 'King', 'Ace')\n",
    "\n",
    "values = {'Two': 2, 'Three': 3, 'Four': 4, 'Five': 5, 'Six': 6, 'Seven': 7, \n",
    "          'Eight': 8, 'Nine': 9, 'Ten': 10, 'Jack': 11, 'Queen': 12, 'King': 13, 'Ace': 14}"
   ]
  },
  {
   "cell_type": "code",
   "execution_count": 2,
   "id": "53a0e67a-108f-4bdf-adcb-d4fae3de4989",
   "metadata": {},
   "outputs": [],
   "source": [
    "class Card:        #since no inheritance, Card() or Card can be used here\n",
    "    def __init__(self, suit, rank):\n",
    "        self.suit = suit\n",
    "        self.rank = rank\n",
    "        self.value = values[rank]\n",
    "\n",
    "    def __str__(self):\n",
    "        return self.rank + \" of \" + self.suit"
   ]
  },
  {
   "cell_type": "code",
   "execution_count": 3,
   "id": "31b0096d-033a-46cd-b5c9-654750c4f0b1",
   "metadata": {},
   "outputs": [],
   "source": [
    "two_hearts = Card(\"Hearts\", \"Two\")"
   ]
  },
  {
   "cell_type": "code",
   "execution_count": 4,
   "id": "4e0c51e3-9df0-4b5b-91e9-bbd1079d3d35",
   "metadata": {},
   "outputs": [
    {
     "data": {
      "text/plain": [
       "<__main__.Card at 0x265a10d0920>"
      ]
     },
     "execution_count": 4,
     "metadata": {},
     "output_type": "execute_result"
    }
   ],
   "source": [
    "two_hearts"
   ]
  },
  {
   "cell_type": "code",
   "execution_count": 5,
   "id": "e4c10a6b-d9c0-4fea-98b8-148243e24ab5",
   "metadata": {},
   "outputs": [
    {
     "name": "stdout",
     "output_type": "stream",
     "text": [
      "Two of Hearts\n"
     ]
    }
   ],
   "source": [
    "print(two_hearts)"
   ]
  },
  {
   "cell_type": "code",
   "execution_count": 6,
   "id": "579ae02d-cf39-401a-a662-73a4f7381a06",
   "metadata": {},
   "outputs": [
    {
     "data": {
      "text/plain": [
       "'Hearts'"
      ]
     },
     "execution_count": 6,
     "metadata": {},
     "output_type": "execute_result"
    }
   ],
   "source": [
    "two_hearts.suit"
   ]
  },
  {
   "cell_type": "code",
   "execution_count": 7,
   "id": "b87a7e96-c353-4280-9a0a-671639381cf5",
   "metadata": {},
   "outputs": [
    {
     "data": {
      "text/plain": [
       "'Two'"
      ]
     },
     "execution_count": 7,
     "metadata": {},
     "output_type": "execute_result"
    }
   ],
   "source": [
    "two_hearts.rank"
   ]
  },
  {
   "cell_type": "code",
   "execution_count": 8,
   "id": "9e5c0ff3-7df5-4040-972d-77f7c6fae17e",
   "metadata": {},
   "outputs": [
    {
     "data": {
      "text/plain": [
       "2"
      ]
     },
     "execution_count": 8,
     "metadata": {},
     "output_type": "execute_result"
    }
   ],
   "source": [
    "two_hearts.value"
   ]
  },
  {
   "cell_type": "code",
   "execution_count": null,
   "id": "9e8843c6-4723-487b-ab3d-129f2c6b5a8a",
   "metadata": {},
   "outputs": [],
   "source": []
  },
  {
   "cell_type": "code",
   "execution_count": 9,
   "id": "fa60f14c-e9f8-4ef2-9a4b-b4b23fbdfe8b",
   "metadata": {},
   "outputs": [],
   "source": [
    "three_clubs = Card(\"Clubs\", \"Three\")"
   ]
  },
  {
   "cell_type": "code",
   "execution_count": 10,
   "id": "4c223c17-ab6d-4eda-b882-feb9b6c04cad",
   "metadata": {},
   "outputs": [
    {
     "data": {
      "text/plain": [
       "'Three'"
      ]
     },
     "execution_count": 10,
     "metadata": {},
     "output_type": "execute_result"
    }
   ],
   "source": [
    "three_clubs.rank"
   ]
  },
  {
   "cell_type": "code",
   "execution_count": 11,
   "id": "cde78c82-5ad6-4533-8537-6e8fa76cbf5c",
   "metadata": {},
   "outputs": [
    {
     "data": {
      "text/plain": [
       "'Clubs'"
      ]
     },
     "execution_count": 11,
     "metadata": {},
     "output_type": "execute_result"
    }
   ],
   "source": [
    "three_clubs.suit"
   ]
  },
  {
   "cell_type": "code",
   "execution_count": 12,
   "id": "e301d9ec-271a-49eb-830e-63c9eb10f86b",
   "metadata": {},
   "outputs": [
    {
     "data": {
      "text/plain": [
       "3"
      ]
     },
     "execution_count": 12,
     "metadata": {},
     "output_type": "execute_result"
    }
   ],
   "source": [
    "three_clubs.value"
   ]
  },
  {
   "cell_type": "code",
   "execution_count": 13,
   "id": "bb8c7db3-33af-4470-9b1f-23ff8f191bfe",
   "metadata": {},
   "outputs": [
    {
     "data": {
      "text/plain": [
       "False"
      ]
     },
     "execution_count": 13,
     "metadata": {},
     "output_type": "execute_result"
    }
   ],
   "source": [
    "three_clubs.value == two_hearts.value"
   ]
  },
  {
   "cell_type": "code",
   "execution_count": null,
   "id": "f923b729-3506-4680-92d9-a7409ef32de1",
   "metadata": {},
   "outputs": [],
   "source": []
  },
  {
   "cell_type": "code",
   "execution_count": null,
   "id": "93b9a831-f684-459b-857c-ff764013f232",
   "metadata": {},
   "outputs": [],
   "source": []
  },
  {
   "cell_type": "markdown",
   "id": "a80d14f0-1601-44f6-8f5c-d88a27676c1e",
   "metadata": {},
   "source": [
    "**Deck Creation**"
   ]
  },
  {
   "cell_type": "code",
   "execution_count": 15,
   "id": "fe5ee79b-1975-4dc8-b2a8-8f7da642670a",
   "metadata": {},
   "outputs": [],
   "source": [
    "class Deck:\n",
    "    def __init__(self):\n",
    "        \n",
    "        self.all_cards = [] #store 52 cards\n",
    "        \n",
    "        for suit in suits:\n",
    "            for rank in ranks:\n",
    "                \n",
    "                created_card = Card(suit, rank) #Card Creation\n",
    "                \n",
    "                self.all_cards.append(created_card)\n",
    "\n",
    "    def shuffle_cards(self):  #shuffle 52 cards\n",
    "        random.shuffle(self.all_cards)\n",
    "\n",
    "    def deal_one(self):    #Pop one card\n",
    "        return self.all_cards.pop()"
   ]
  },
  {
   "cell_type": "code",
   "execution_count": 16,
   "id": "137c990e-3d5e-4514-b05a-263b12db1490",
   "metadata": {},
   "outputs": [],
   "source": [
    "cards_deck = Deck()"
   ]
  },
  {
   "cell_type": "code",
   "execution_count": 17,
   "id": "31104eab-a36a-484a-b3f1-66435968ebfe",
   "metadata": {},
   "outputs": [
    {
     "name": "stdout",
     "output_type": "stream",
     "text": [
      "Two of hearts\n"
     ]
    }
   ],
   "source": [
    "print(cards_deck.all_cards[0])"
   ]
  },
  {
   "cell_type": "code",
   "execution_count": 18,
   "id": "cc12a64a-ce65-4db7-8758-1872d9972af8",
   "metadata": {},
   "outputs": [
    {
     "name": "stdout",
     "output_type": "stream",
     "text": [
      "Two of hearts\n",
      "Three of hearts\n",
      "Four of hearts\n",
      "Five of hearts\n",
      "Six of hearts\n",
      "Seven of hearts\n",
      "Eight of hearts\n",
      "Nine of hearts\n",
      "Ten of hearts\n",
      "Jack of hearts\n",
      "Queen of hearts\n",
      "King of hearts\n",
      "Ace of hearts\n",
      "Two of diamonds\n",
      "Three of diamonds\n",
      "Four of diamonds\n",
      "Five of diamonds\n",
      "Six of diamonds\n",
      "Seven of diamonds\n",
      "Eight of diamonds\n",
      "Nine of diamonds\n",
      "Ten of diamonds\n",
      "Jack of diamonds\n",
      "Queen of diamonds\n",
      "King of diamonds\n",
      "Ace of diamonds\n",
      "Two of spades\n",
      "Three of spades\n",
      "Four of spades\n",
      "Five of spades\n",
      "Six of spades\n",
      "Seven of spades\n",
      "Eight of spades\n",
      "Nine of spades\n",
      "Ten of spades\n",
      "Jack of spades\n",
      "Queen of spades\n",
      "King of spades\n",
      "Ace of spades\n",
      "Two of clubs\n",
      "Three of clubs\n",
      "Four of clubs\n",
      "Five of clubs\n",
      "Six of clubs\n",
      "Seven of clubs\n",
      "Eight of clubs\n",
      "Nine of clubs\n",
      "Ten of clubs\n",
      "Jack of clubs\n",
      "Queen of clubs\n",
      "King of clubs\n",
      "Ace of clubs\n"
     ]
    }
   ],
   "source": [
    "for card_object in cards_deck.all_cards:\n",
    "    print(card_object)"
   ]
  },
  {
   "cell_type": "code",
   "execution_count": 19,
   "id": "0104500a-d265-4aa8-b9d1-b2164c1148d5",
   "metadata": {},
   "outputs": [],
   "source": [
    "cards_deck.shuffle_cards()"
   ]
  },
  {
   "cell_type": "code",
   "execution_count": 20,
   "id": "9f6884fa-f0fc-47d5-886a-7b4beffd5246",
   "metadata": {},
   "outputs": [
    {
     "name": "stdout",
     "output_type": "stream",
     "text": [
      "Two of clubs\n"
     ]
    }
   ],
   "source": [
    "print(cards_deck.all_cards[0])"
   ]
  },
  {
   "cell_type": "code",
   "execution_count": 21,
   "id": "7b076fc2-7d3b-4369-9e55-4ee901d46e8c",
   "metadata": {},
   "outputs": [],
   "source": [
    "card_popped = cards_deck.deal_one()"
   ]
  },
  {
   "cell_type": "code",
   "execution_count": 22,
   "id": "6cdf787f-ac14-4e5e-aab9-34f8b4bdf2f8",
   "metadata": {},
   "outputs": [
    {
     "name": "stdout",
     "output_type": "stream",
     "text": [
      "Two of spades\n"
     ]
    }
   ],
   "source": [
    "print(card_popped)"
   ]
  },
  {
   "cell_type": "code",
   "execution_count": 23,
   "id": "f709727b-dca5-4c81-aaac-04840390c526",
   "metadata": {},
   "outputs": [
    {
     "data": {
      "text/plain": [
       "51"
      ]
     },
     "execution_count": 23,
     "metadata": {},
     "output_type": "execute_result"
    }
   ],
   "source": [
    "len(cards_deck.all_cards)"
   ]
  },
  {
   "cell_type": "code",
   "execution_count": null,
   "id": "feb954a3-0ce9-41b1-8886-1c2af507a362",
   "metadata": {},
   "outputs": [],
   "source": []
  }
 ],
 "metadata": {
  "kernelspec": {
   "display_name": "Python 3 (ipykernel)",
   "language": "python",
   "name": "python3"
  },
  "language_info": {
   "codemirror_mode": {
    "name": "ipython",
    "version": 3
   },
   "file_extension": ".py",
   "mimetype": "text/x-python",
   "name": "python",
   "nbconvert_exporter": "python",
   "pygments_lexer": "ipython3",
   "version": "3.12.3"
  }
 },
 "nbformat": 4,
 "nbformat_minor": 5
}
