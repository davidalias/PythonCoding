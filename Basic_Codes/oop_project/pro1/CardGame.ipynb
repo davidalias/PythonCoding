{
 "cells": [
  {
   "cell_type": "code",
   "execution_count": 3,
   "id": "be8aff78-b072-4f83-a1ae-b3f1499c8566",
   "metadata": {},
   "outputs": [],
   "source": [
    "import random\n",
    "\n",
    "#CARD\n",
    "#SUIT, RANK, VALUE\n",
    "#global variables initialized on top is a good practice\n",
    "suits = ('hearts', 'diamonds', 'spades', 'clubs')\n",
    "\n",
    "ranks = ('Two', 'Three', 'Four', 'Five', 'Six', 'Seven', 'Eight', 'Nine', 'Ten', 'Jack', 'Queen', 'King', 'Ace')\n",
    "\n",
    "values = {'Two': 2, 'Three': 3, 'Four': 4, 'Five': 5, 'Six': 6, 'Seven': 7, \n",
    "          'Eight': 8, 'Nine': 9, 'Ten': 10, 'Jack': 11, 'Queen': 12, 'King': 13, 'Ace': 14}"
   ]
  },
  {
   "cell_type": "code",
   "execution_count": 4,
   "id": "53a0e67a-108f-4bdf-adcb-d4fae3de4989",
   "metadata": {},
   "outputs": [],
   "source": [
    "class Card:        #since no inheritance, Card() or Card can be used here\n",
    "    def __init__(self, suit, rank):\n",
    "        self.suit = suit\n",
    "        self.rank = rank\n",
    "        self.value = values[rank]\n",
    "\n",
    "    def __str__(self):\n",
    "        return self.rank + \" of \" + self.suit"
   ]
  },
  {
   "cell_type": "code",
   "execution_count": 5,
   "id": "31b0096d-033a-46cd-b5c9-654750c4f0b1",
   "metadata": {},
   "outputs": [],
   "source": [
    "two_hearts = Card(\"Hearts\", \"Two\")"
   ]
  },
  {
   "cell_type": "code",
   "execution_count": 6,
   "id": "4e0c51e3-9df0-4b5b-91e9-bbd1079d3d35",
   "metadata": {},
   "outputs": [
    {
     "data": {
      "text/plain": [
       "<__main__.Card at 0x1e9aafa6360>"
      ]
     },
     "execution_count": 6,
     "metadata": {},
     "output_type": "execute_result"
    }
   ],
   "source": [
    "two_hearts"
   ]
  },
  {
   "cell_type": "code",
   "execution_count": 7,
   "id": "e4c10a6b-d9c0-4fea-98b8-148243e24ab5",
   "metadata": {},
   "outputs": [
    {
     "name": "stdout",
     "output_type": "stream",
     "text": [
      "Two of Hearts\n"
     ]
    }
   ],
   "source": [
    "print(two_hearts)"
   ]
  },
  {
   "cell_type": "code",
   "execution_count": 8,
   "id": "579ae02d-cf39-401a-a662-73a4f7381a06",
   "metadata": {},
   "outputs": [
    {
     "data": {
      "text/plain": [
       "'Hearts'"
      ]
     },
     "execution_count": 8,
     "metadata": {},
     "output_type": "execute_result"
    }
   ],
   "source": [
    "two_hearts.suit"
   ]
  },
  {
   "cell_type": "code",
   "execution_count": 9,
   "id": "b87a7e96-c353-4280-9a0a-671639381cf5",
   "metadata": {},
   "outputs": [
    {
     "data": {
      "text/plain": [
       "'Two'"
      ]
     },
     "execution_count": 9,
     "metadata": {},
     "output_type": "execute_result"
    }
   ],
   "source": [
    "two_hearts.rank"
   ]
  },
  {
   "cell_type": "code",
   "execution_count": 10,
   "id": "9e5c0ff3-7df5-4040-972d-77f7c6fae17e",
   "metadata": {},
   "outputs": [
    {
     "data": {
      "text/plain": [
       "2"
      ]
     },
     "execution_count": 10,
     "metadata": {},
     "output_type": "execute_result"
    }
   ],
   "source": [
    "two_hearts.value"
   ]
  },
  {
   "cell_type": "code",
   "execution_count": null,
   "id": "9e8843c6-4723-487b-ab3d-129f2c6b5a8a",
   "metadata": {},
   "outputs": [],
   "source": []
  },
  {
   "cell_type": "code",
   "execution_count": 11,
   "id": "fa60f14c-e9f8-4ef2-9a4b-b4b23fbdfe8b",
   "metadata": {},
   "outputs": [],
   "source": [
    "three_clubs = Card(\"Clubs\", \"Three\")"
   ]
  },
  {
   "cell_type": "code",
   "execution_count": 12,
   "id": "4c223c17-ab6d-4eda-b882-feb9b6c04cad",
   "metadata": {},
   "outputs": [
    {
     "data": {
      "text/plain": [
       "'Three'"
      ]
     },
     "execution_count": 12,
     "metadata": {},
     "output_type": "execute_result"
    }
   ],
   "source": [
    "three_clubs.rank"
   ]
  },
  {
   "cell_type": "code",
   "execution_count": 13,
   "id": "cde78c82-5ad6-4533-8537-6e8fa76cbf5c",
   "metadata": {},
   "outputs": [
    {
     "data": {
      "text/plain": [
       "'Clubs'"
      ]
     },
     "execution_count": 13,
     "metadata": {},
     "output_type": "execute_result"
    }
   ],
   "source": [
    "three_clubs.suit"
   ]
  },
  {
   "cell_type": "code",
   "execution_count": 14,
   "id": "e301d9ec-271a-49eb-830e-63c9eb10f86b",
   "metadata": {},
   "outputs": [
    {
     "data": {
      "text/plain": [
       "3"
      ]
     },
     "execution_count": 14,
     "metadata": {},
     "output_type": "execute_result"
    }
   ],
   "source": [
    "three_clubs.value"
   ]
  },
  {
   "cell_type": "code",
   "execution_count": 15,
   "id": "bb8c7db3-33af-4470-9b1f-23ff8f191bfe",
   "metadata": {},
   "outputs": [
    {
     "data": {
      "text/plain": [
       "False"
      ]
     },
     "execution_count": 15,
     "metadata": {},
     "output_type": "execute_result"
    }
   ],
   "source": [
    "three_clubs.value == two_hearts.value"
   ]
  },
  {
   "cell_type": "code",
   "execution_count": null,
   "id": "f923b729-3506-4680-92d9-a7409ef32de1",
   "metadata": {},
   "outputs": [],
   "source": []
  },
  {
   "cell_type": "code",
   "execution_count": null,
   "id": "93b9a831-f684-459b-857c-ff764013f232",
   "metadata": {},
   "outputs": [],
   "source": []
  },
  {
   "cell_type": "markdown",
   "id": "a80d14f0-1601-44f6-8f5c-d88a27676c1e",
   "metadata": {},
   "source": [
    "**Deck Creation**"
   ]
  },
  {
   "cell_type": "code",
   "execution_count": 17,
   "id": "fe5ee79b-1975-4dc8-b2a8-8f7da642670a",
   "metadata": {},
   "outputs": [],
   "source": [
    "class Deck:\n",
    "    def __init__(self):\n",
    "        \n",
    "        self.all_cards = [] #store 52 cards\n",
    "        \n",
    "        for suit in suits:\n",
    "            for rank in ranks:\n",
    "                \n",
    "                created_card = Card(suit, rank) #Card Creation\n",
    "                \n",
    "                self.all_cards.append(created_card)\n",
    "\n",
    "    def shuffle_cards(self):  #shuffle 52 cards\n",
    "        random.shuffle(self.all_cards)\n",
    "\n",
    "    def deal_one(self):    #Pop one card\n",
    "        return self.all_cards.pop()"
   ]
  },
  {
   "cell_type": "code",
   "execution_count": 18,
   "id": "137c990e-3d5e-4514-b05a-263b12db1490",
   "metadata": {},
   "outputs": [],
   "source": [
    "cards_deck = Deck()"
   ]
  },
  {
   "cell_type": "code",
   "execution_count": 19,
   "id": "31104eab-a36a-484a-b3f1-66435968ebfe",
   "metadata": {},
   "outputs": [
    {
     "name": "stdout",
     "output_type": "stream",
     "text": [
      "Two of hearts\n"
     ]
    }
   ],
   "source": [
    "print(cards_deck.all_cards[0])"
   ]
  },
  {
   "cell_type": "code",
   "execution_count": 20,
   "id": "cc12a64a-ce65-4db7-8758-1872d9972af8",
   "metadata": {},
   "outputs": [
    {
     "name": "stdout",
     "output_type": "stream",
     "text": [
      "Two of hearts\n",
      "Three of hearts\n",
      "Four of hearts\n",
      "Five of hearts\n",
      "Six of hearts\n",
      "Seven of hearts\n",
      "Eight of hearts\n",
      "Nine of hearts\n",
      "Ten of hearts\n",
      "Jack of hearts\n",
      "Queen of hearts\n",
      "King of hearts\n",
      "Ace of hearts\n",
      "Two of diamonds\n",
      "Three of diamonds\n",
      "Four of diamonds\n",
      "Five of diamonds\n",
      "Six of diamonds\n",
      "Seven of diamonds\n",
      "Eight of diamonds\n",
      "Nine of diamonds\n",
      "Ten of diamonds\n",
      "Jack of diamonds\n",
      "Queen of diamonds\n",
      "King of diamonds\n",
      "Ace of diamonds\n",
      "Two of spades\n",
      "Three of spades\n",
      "Four of spades\n",
      "Five of spades\n",
      "Six of spades\n",
      "Seven of spades\n",
      "Eight of spades\n",
      "Nine of spades\n",
      "Ten of spades\n",
      "Jack of spades\n",
      "Queen of spades\n",
      "King of spades\n",
      "Ace of spades\n",
      "Two of clubs\n",
      "Three of clubs\n",
      "Four of clubs\n",
      "Five of clubs\n",
      "Six of clubs\n",
      "Seven of clubs\n",
      "Eight of clubs\n",
      "Nine of clubs\n",
      "Ten of clubs\n",
      "Jack of clubs\n",
      "Queen of clubs\n",
      "King of clubs\n",
      "Ace of clubs\n"
     ]
    }
   ],
   "source": [
    "for card_object in cards_deck.all_cards:\n",
    "    print(card_object)"
   ]
  },
  {
   "cell_type": "code",
   "execution_count": 21,
   "id": "0104500a-d265-4aa8-b9d1-b2164c1148d5",
   "metadata": {},
   "outputs": [],
   "source": [
    "cards_deck.shuffle_cards()"
   ]
  },
  {
   "cell_type": "code",
   "execution_count": 22,
   "id": "9f6884fa-f0fc-47d5-886a-7b4beffd5246",
   "metadata": {},
   "outputs": [
    {
     "name": "stdout",
     "output_type": "stream",
     "text": [
      "Six of spades\n"
     ]
    }
   ],
   "source": [
    "print(cards_deck.all_cards[0])"
   ]
  },
  {
   "cell_type": "code",
   "execution_count": 23,
   "id": "7b076fc2-7d3b-4369-9e55-4ee901d46e8c",
   "metadata": {},
   "outputs": [],
   "source": [
    "card_popped = cards_deck.deal_one()"
   ]
  },
  {
   "cell_type": "code",
   "execution_count": 24,
   "id": "6cdf787f-ac14-4e5e-aab9-34f8b4bdf2f8",
   "metadata": {},
   "outputs": [
    {
     "name": "stdout",
     "output_type": "stream",
     "text": [
      "Six of clubs\n"
     ]
    }
   ],
   "source": [
    "print(card_popped)"
   ]
  },
  {
   "cell_type": "code",
   "execution_count": 25,
   "id": "f709727b-dca5-4c81-aaac-04840390c526",
   "metadata": {},
   "outputs": [
    {
     "data": {
      "text/plain": [
       "51"
      ]
     },
     "execution_count": 25,
     "metadata": {},
     "output_type": "execute_result"
    }
   ],
   "source": [
    "len(cards_deck.all_cards)"
   ]
  },
  {
   "cell_type": "code",
   "execution_count": null,
   "id": "a0144269-571a-4796-9e2d-a61ce72e84cf",
   "metadata": {},
   "outputs": [],
   "source": []
  },
  {
   "cell_type": "code",
   "execution_count": null,
   "id": "c3e6a6a0-edca-4422-8074-fb2d4edc415f",
   "metadata": {},
   "outputs": [],
   "source": []
  },
  {
   "cell_type": "code",
   "execution_count": null,
   "id": "4c7e6395-7100-4132-aa8d-60145631fbb0",
   "metadata": {},
   "outputs": [],
   "source": []
  },
  {
   "cell_type": "markdown",
   "id": "bdd2bd95-5646-4c20-8a0d-b1159c59be86",
   "metadata": {},
   "source": [
    "**Player Card**"
   ]
  },
  {
   "cell_type": "code",
   "execution_count": 27,
   "id": "feb954a3-0ce9-41b1-8886-1c2af507a362",
   "metadata": {},
   "outputs": [],
   "source": [
    "class Player:\n",
    "    def __init__(self, name):\n",
    "        self.name = name\n",
    "        self.all_cards = []\n",
    "\n",
    "    def remove_one(self):\n",
    "        return self.all_cards.pop(0)\n",
    "\n",
    "    def add_cards(self, new_cards):\n",
    "        if type(new_cards) == type([]):\n",
    "            self.all_cards.extend(new_cards)\n",
    "\n",
    "        else:\n",
    "            self.all_cards.append(new_cards)\n",
    "\n",
    "    def __str__(self):\n",
    "        return f\"{self.name} has {len(self.all_cards)} cards\""
   ]
  },
  {
   "cell_type": "code",
   "execution_count": 28,
   "id": "1e8ff6e7-068f-4c32-8a3f-03e27c84693e",
   "metadata": {},
   "outputs": [],
   "source": [
    "new_player = Player(\"John\")"
   ]
  },
  {
   "cell_type": "code",
   "execution_count": 29,
   "id": "43231580-be00-4308-9f23-0f0caac65030",
   "metadata": {},
   "outputs": [
    {
     "name": "stdout",
     "output_type": "stream",
     "text": [
      "John has 0 cards\n"
     ]
    }
   ],
   "source": [
    "print(new_player)"
   ]
  },
  {
   "cell_type": "code",
   "execution_count": 30,
   "id": "fd14d557-1c76-484a-8284-88aecf6b519f",
   "metadata": {},
   "outputs": [],
   "source": [
    "new_player.add_cards(two_hearts)"
   ]
  },
  {
   "cell_type": "code",
   "execution_count": 31,
   "id": "2ea880e3-1f1e-4611-8137-3f803aec11e2",
   "metadata": {},
   "outputs": [
    {
     "name": "stdout",
     "output_type": "stream",
     "text": [
      "John has 1 cards\n"
     ]
    }
   ],
   "source": [
    "print(new_player)"
   ]
  },
  {
   "cell_type": "code",
   "execution_count": 32,
   "id": "ec7fff00-c949-41b5-985a-9418058a20b9",
   "metadata": {},
   "outputs": [],
   "source": [
    "new_player.add_cards([two_hearts, two_hearts, two_hearts])"
   ]
  },
  {
   "cell_type": "code",
   "execution_count": 33,
   "id": "eb0c26b3-48b4-45ad-8a9e-4b31e3f74560",
   "metadata": {},
   "outputs": [
    {
     "name": "stdout",
     "output_type": "stream",
     "text": [
      "John has 4 cards\n"
     ]
    }
   ],
   "source": [
    "print(new_player)"
   ]
  },
  {
   "cell_type": "code",
   "execution_count": 34,
   "id": "40a165a5-987f-4322-bb09-0d398092b26d",
   "metadata": {},
   "outputs": [
    {
     "data": {
      "text/plain": [
       "<__main__.Card at 0x1e9aafa6360>"
      ]
     },
     "execution_count": 34,
     "metadata": {},
     "output_type": "execute_result"
    }
   ],
   "source": [
    "new_player.remove_one()"
   ]
  },
  {
   "cell_type": "code",
   "execution_count": 35,
   "id": "d87d5591-6814-46d7-88e9-ff432bc730d2",
   "metadata": {},
   "outputs": [
    {
     "name": "stdout",
     "output_type": "stream",
     "text": [
      "John has 3 cards\n"
     ]
    }
   ],
   "source": [
    "print(new_player)"
   ]
  },
  {
   "cell_type": "code",
   "execution_count": null,
   "id": "cb26b29e-2f93-467b-96d9-55295eb890f2",
   "metadata": {},
   "outputs": [],
   "source": []
  },
  {
   "cell_type": "markdown",
   "id": "c5dc06ee-5f21-4351-b79a-28776466bcc4",
   "metadata": {},
   "source": [
    "**GAME**"
   ]
  },
  {
   "cell_type": "code",
   "execution_count": 37,
   "id": "b4f159e5-a983-4b3d-85a2-21d0fbc7f906",
   "metadata": {},
   "outputs": [],
   "source": [
    "player_one = Player(\"One\")\n",
    "player_two = Player(\"Two\")\n",
    "\n",
    "new_deck = Deck()\n",
    "new_deck.shuffle_cards()\n",
    "\n",
    "for x in range(26):\n",
    "    player_one.add_cards(new_deck.deal_one())\n",
    "    player_two.add_cards(new_deck.deal_one())"
   ]
  },
  {
   "cell_type": "code",
   "execution_count": 79,
   "id": "783847a5-f0c6-4502-89d7-ed71070c813a",
   "metadata": {},
   "outputs": [
    {
     "data": {
      "text/plain": [
       "26"
      ]
     },
     "execution_count": 79,
     "metadata": {},
     "output_type": "execute_result"
    }
   ],
   "source": [
    "len(player_one.all_cards)"
   ]
  },
  {
   "cell_type": "code",
   "execution_count": 81,
   "id": "2c90675e-b5ae-4624-8f0a-0ad9a948b33d",
   "metadata": {},
   "outputs": [
    {
     "name": "stdout",
     "output_type": "stream",
     "text": [
      "King of hearts\n"
     ]
    }
   ],
   "source": [
    "print(player_one.all_cards[0])"
   ]
  },
  {
   "cell_type": "code",
   "execution_count": 83,
   "id": "22893c7c-daff-41f7-8981-bdfde3cedc52",
   "metadata": {},
   "outputs": [],
   "source": [
    "game_on =True"
   ]
  },
  {
   "cell_type": "code",
   "execution_count": null,
   "id": "a6f58067-be53-474c-a662-1ae8f4fa4fe8",
   "metadata": {},
   "outputs": [],
   "source": [
    "#while game on\n",
    "round_num = 0\n",
    "\n",
    "while game_on:\n",
    "    round_num += 1\n",
    "    print(f\"Round {record_num}\")\n",
    "\n",
    "    if len(player_one.all_cards) == 0:\n",
    "        print(\"Player one out of cards, Player two Wins!\")\n",
    "        game_on = False\n",
    "        break\n",
    "\n",
    "    if len(player_one.all_cards) == 0:\n",
    "        print(\"Player one out of cards, Player two Wins!\")\n",
    "        game_on = False\n",
    "        break\n",
    "\n",
    "    #Start a new round\n",
    "    player_one_cards = []\n",
    "    player_one_cards.append(player_one.remove_one())\n",
    "\n",
    "    player_two_cards = []\n",
    "    player_two_cards.append(player_two.remove_one())\n",
    "\n"
   ]
  }
 ],
 "metadata": {
  "kernelspec": {
   "display_name": "Python 3 (ipykernel)",
   "language": "python",
   "name": "python3"
  },
  "language_info": {
   "codemirror_mode": {
    "name": "ipython",
    "version": 3
   },
   "file_extension": ".py",
   "mimetype": "text/x-python",
   "name": "python",
   "nbconvert_exporter": "python",
   "pygments_lexer": "ipython3",
   "version": "3.12.3"
  }
 },
 "nbformat": 4,
 "nbformat_minor": 5
}
