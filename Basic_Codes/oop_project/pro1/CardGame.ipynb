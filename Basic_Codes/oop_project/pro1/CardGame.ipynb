{
 "cells": [
  {
   "cell_type": "code",
   "execution_count": 2,
   "id": "be8aff78-b072-4f83-a1ae-b3f1499c8566",
   "metadata": {},
   "outputs": [],
   "source": [
    "import random\n",
    "\n",
    "#CARD\n",
    "#SUIT, RANK, VALUE\n",
    "#global variables initialized on top is a good practice\n",
    "suits = ('hearts', 'diamonds', 'spades', 'clubs')\n",
    "\n",
    "ranks = ('Two', 'Three', 'Four', 'Five', 'Six', 'Seven', 'Eight', 'Nine', 'Ten', 'Jack', 'Queen', 'King', 'Ace')\n",
    "\n",
    "values = {'Two': 2, 'Three': 3, 'Four': 4, 'Five': 5, 'Six': 6, 'Seven': 7, \n",
    "          'Eight': 8, 'Nine': 9, 'Ten': 10, 'Jack': 11, 'Queen': 12, 'King': 13, 'Ace': 14}"
   ]
  },
  {
   "cell_type": "code",
   "execution_count": 3,
   "id": "53a0e67a-108f-4bdf-adcb-d4fae3de4989",
   "metadata": {},
   "outputs": [],
   "source": [
    "class Card:        #since no inheritance, Card() or Card can be used here\n",
    "    def __init__(self, suit, rank):\n",
    "        self.suit = suit\n",
    "        self.rank = rank\n",
    "        self.value = values[rank]\n",
    "\n",
    "    def __str__(self):\n",
    "        return self.rank + \" of \" + self.suit"
   ]
  },
  {
   "cell_type": "code",
   "execution_count": 4,
   "id": "31b0096d-033a-46cd-b5c9-654750c4f0b1",
   "metadata": {},
   "outputs": [],
   "source": [
    "two_hearts = Card(\"Hearts\", \"Two\")"
   ]
  },
  {
   "cell_type": "code",
   "execution_count": 5,
   "id": "4e0c51e3-9df0-4b5b-91e9-bbd1079d3d35",
   "metadata": {},
   "outputs": [
    {
     "data": {
      "text/plain": [
       "<__main__.Card at 0x1ef2e2495e0>"
      ]
     },
     "execution_count": 5,
     "metadata": {},
     "output_type": "execute_result"
    }
   ],
   "source": [
    "two_hearts"
   ]
  },
  {
   "cell_type": "code",
   "execution_count": 6,
   "id": "e4c10a6b-d9c0-4fea-98b8-148243e24ab5",
   "metadata": {},
   "outputs": [
    {
     "name": "stdout",
     "output_type": "stream",
     "text": [
      "Two of Hearts\n"
     ]
    }
   ],
   "source": [
    "print(two_hearts)"
   ]
  },
  {
   "cell_type": "code",
   "execution_count": 7,
   "id": "579ae02d-cf39-401a-a662-73a4f7381a06",
   "metadata": {},
   "outputs": [
    {
     "data": {
      "text/plain": [
       "'Hearts'"
      ]
     },
     "execution_count": 7,
     "metadata": {},
     "output_type": "execute_result"
    }
   ],
   "source": [
    "two_hearts.suit"
   ]
  },
  {
   "cell_type": "code",
   "execution_count": 8,
   "id": "b87a7e96-c353-4280-9a0a-671639381cf5",
   "metadata": {},
   "outputs": [
    {
     "data": {
      "text/plain": [
       "'Two'"
      ]
     },
     "execution_count": 8,
     "metadata": {},
     "output_type": "execute_result"
    }
   ],
   "source": [
    "two_hearts.rank"
   ]
  },
  {
   "cell_type": "code",
   "execution_count": 9,
   "id": "9e5c0ff3-7df5-4040-972d-77f7c6fae17e",
   "metadata": {},
   "outputs": [
    {
     "data": {
      "text/plain": [
       "2"
      ]
     },
     "execution_count": 9,
     "metadata": {},
     "output_type": "execute_result"
    }
   ],
   "source": [
    "two_hearts.value"
   ]
  },
  {
   "cell_type": "code",
   "execution_count": null,
   "id": "9e8843c6-4723-487b-ab3d-129f2c6b5a8a",
   "metadata": {},
   "outputs": [],
   "source": []
  },
  {
   "cell_type": "code",
   "execution_count": 10,
   "id": "fa60f14c-e9f8-4ef2-9a4b-b4b23fbdfe8b",
   "metadata": {},
   "outputs": [],
   "source": [
    "three_clubs = Card(\"Clubs\", \"Three\")"
   ]
  },
  {
   "cell_type": "code",
   "execution_count": 11,
   "id": "4c223c17-ab6d-4eda-b882-feb9b6c04cad",
   "metadata": {},
   "outputs": [
    {
     "data": {
      "text/plain": [
       "'Three'"
      ]
     },
     "execution_count": 11,
     "metadata": {},
     "output_type": "execute_result"
    }
   ],
   "source": [
    "three_clubs.rank"
   ]
  },
  {
   "cell_type": "code",
   "execution_count": 12,
   "id": "cde78c82-5ad6-4533-8537-6e8fa76cbf5c",
   "metadata": {},
   "outputs": [
    {
     "data": {
      "text/plain": [
       "'Clubs'"
      ]
     },
     "execution_count": 12,
     "metadata": {},
     "output_type": "execute_result"
    }
   ],
   "source": [
    "three_clubs.suit"
   ]
  },
  {
   "cell_type": "code",
   "execution_count": 13,
   "id": "e301d9ec-271a-49eb-830e-63c9eb10f86b",
   "metadata": {},
   "outputs": [
    {
     "data": {
      "text/plain": [
       "3"
      ]
     },
     "execution_count": 13,
     "metadata": {},
     "output_type": "execute_result"
    }
   ],
   "source": [
    "three_clubs.value"
   ]
  },
  {
   "cell_type": "code",
   "execution_count": 14,
   "id": "bb8c7db3-33af-4470-9b1f-23ff8f191bfe",
   "metadata": {},
   "outputs": [
    {
     "data": {
      "text/plain": [
       "False"
      ]
     },
     "execution_count": 14,
     "metadata": {},
     "output_type": "execute_result"
    }
   ],
   "source": [
    "three_clubs.value == two_hearts.value"
   ]
  },
  {
   "cell_type": "code",
   "execution_count": null,
   "id": "f923b729-3506-4680-92d9-a7409ef32de1",
   "metadata": {},
   "outputs": [],
   "source": []
  },
  {
   "cell_type": "code",
   "execution_count": null,
   "id": "93b9a831-f684-459b-857c-ff764013f232",
   "metadata": {},
   "outputs": [],
   "source": []
  },
  {
   "cell_type": "markdown",
   "id": "a80d14f0-1601-44f6-8f5c-d88a27676c1e",
   "metadata": {},
   "source": [
    "**Deck Creation**"
   ]
  },
  {
   "cell_type": "code",
   "execution_count": 16,
   "id": "fe5ee79b-1975-4dc8-b2a8-8f7da642670a",
   "metadata": {},
   "outputs": [],
   "source": [
    "class Deck:\n",
    "    def __init__(self):\n",
    "        \n",
    "        self.all_cards = [] #store 52 cards\n",
    "        \n",
    "        for suit in suits:\n",
    "            for rank in ranks:\n",
    "                \n",
    "                created_card = Card(suit, rank) #Card Creation\n",
    "                \n",
    "                self.all_cards.append(created_card)\n",
    "\n",
    "    def shuffle_cards(self):  #shuffle 52 cards\n",
    "        random.shuffle(self.all_cards)\n",
    "\n",
    "    def deal_one(self):    #Pop one card\n",
    "        return self.all_cards.pop()"
   ]
  },
  {
   "cell_type": "code",
   "execution_count": 17,
   "id": "137c990e-3d5e-4514-b05a-263b12db1490",
   "metadata": {},
   "outputs": [],
   "source": [
    "cards_deck = Deck()"
   ]
  },
  {
   "cell_type": "code",
   "execution_count": 18,
   "id": "31104eab-a36a-484a-b3f1-66435968ebfe",
   "metadata": {},
   "outputs": [
    {
     "name": "stdout",
     "output_type": "stream",
     "text": [
      "Two of hearts\n"
     ]
    }
   ],
   "source": [
    "print(cards_deck.all_cards[0])"
   ]
  },
  {
   "cell_type": "code",
   "execution_count": 19,
   "id": "cc12a64a-ce65-4db7-8758-1872d9972af8",
   "metadata": {},
   "outputs": [
    {
     "name": "stdout",
     "output_type": "stream",
     "text": [
      "Two of hearts\n",
      "Three of hearts\n",
      "Four of hearts\n",
      "Five of hearts\n",
      "Six of hearts\n",
      "Seven of hearts\n",
      "Eight of hearts\n",
      "Nine of hearts\n",
      "Ten of hearts\n",
      "Jack of hearts\n",
      "Queen of hearts\n",
      "King of hearts\n",
      "Ace of hearts\n",
      "Two of diamonds\n",
      "Three of diamonds\n",
      "Four of diamonds\n",
      "Five of diamonds\n",
      "Six of diamonds\n",
      "Seven of diamonds\n",
      "Eight of diamonds\n",
      "Nine of diamonds\n",
      "Ten of diamonds\n",
      "Jack of diamonds\n",
      "Queen of diamonds\n",
      "King of diamonds\n",
      "Ace of diamonds\n",
      "Two of spades\n",
      "Three of spades\n",
      "Four of spades\n",
      "Five of spades\n",
      "Six of spades\n",
      "Seven of spades\n",
      "Eight of spades\n",
      "Nine of spades\n",
      "Ten of spades\n",
      "Jack of spades\n",
      "Queen of spades\n",
      "King of spades\n",
      "Ace of spades\n",
      "Two of clubs\n",
      "Three of clubs\n",
      "Four of clubs\n",
      "Five of clubs\n",
      "Six of clubs\n",
      "Seven of clubs\n",
      "Eight of clubs\n",
      "Nine of clubs\n",
      "Ten of clubs\n",
      "Jack of clubs\n",
      "Queen of clubs\n",
      "King of clubs\n",
      "Ace of clubs\n"
     ]
    }
   ],
   "source": [
    "for card_object in cards_deck.all_cards:\n",
    "    print(card_object)"
   ]
  },
  {
   "cell_type": "code",
   "execution_count": 20,
   "id": "0104500a-d265-4aa8-b9d1-b2164c1148d5",
   "metadata": {},
   "outputs": [],
   "source": [
    "cards_deck.shuffle_cards()"
   ]
  },
  {
   "cell_type": "code",
   "execution_count": 21,
   "id": "9f6884fa-f0fc-47d5-886a-7b4beffd5246",
   "metadata": {},
   "outputs": [
    {
     "name": "stdout",
     "output_type": "stream",
     "text": [
      "Four of hearts\n"
     ]
    }
   ],
   "source": [
    "print(cards_deck.all_cards[0])"
   ]
  },
  {
   "cell_type": "code",
   "execution_count": 22,
   "id": "7b076fc2-7d3b-4369-9e55-4ee901d46e8c",
   "metadata": {},
   "outputs": [],
   "source": [
    "card_popped = cards_deck.deal_one()"
   ]
  },
  {
   "cell_type": "code",
   "execution_count": 23,
   "id": "6cdf787f-ac14-4e5e-aab9-34f8b4bdf2f8",
   "metadata": {},
   "outputs": [
    {
     "name": "stdout",
     "output_type": "stream",
     "text": [
      "Three of diamonds\n"
     ]
    }
   ],
   "source": [
    "print(card_popped)"
   ]
  },
  {
   "cell_type": "code",
   "execution_count": 24,
   "id": "f709727b-dca5-4c81-aaac-04840390c526",
   "metadata": {},
   "outputs": [
    {
     "data": {
      "text/plain": [
       "51"
      ]
     },
     "execution_count": 24,
     "metadata": {},
     "output_type": "execute_result"
    }
   ],
   "source": [
    "len(cards_deck.all_cards)"
   ]
  },
  {
   "cell_type": "code",
   "execution_count": null,
   "id": "a0144269-571a-4796-9e2d-a61ce72e84cf",
   "metadata": {},
   "outputs": [],
   "source": []
  },
  {
   "cell_type": "code",
   "execution_count": null,
   "id": "c3e6a6a0-edca-4422-8074-fb2d4edc415f",
   "metadata": {},
   "outputs": [],
   "source": []
  },
  {
   "cell_type": "code",
   "execution_count": null,
   "id": "4c7e6395-7100-4132-aa8d-60145631fbb0",
   "metadata": {},
   "outputs": [],
   "source": []
  },
  {
   "cell_type": "markdown",
   "id": "bdd2bd95-5646-4c20-8a0d-b1159c59be86",
   "metadata": {},
   "source": [
    "**Player Card**"
   ]
  },
  {
   "cell_type": "code",
   "execution_count": 26,
   "id": "feb954a3-0ce9-41b1-8886-1c2af507a362",
   "metadata": {},
   "outputs": [],
   "source": [
    "class Player:\n",
    "    def __init__(self, name):\n",
    "        self.name = name\n",
    "        self.all_cards = []\n",
    "\n",
    "    def remove_one(self):\n",
    "        return self.all_cards.pop(0)\n",
    "\n",
    "    def add_cards(self, new_cards):\n",
    "        if type(new_cards) == type([]):\n",
    "            self.all_cards.extend(new_cards)\n",
    "\n",
    "        else:\n",
    "            self.all_cards.append(new_cards)\n",
    "\n",
    "    def __str__(self):\n",
    "        return f\"{self.name} has {len(self.all_cards)} cards\""
   ]
  },
  {
   "cell_type": "code",
   "execution_count": 27,
   "id": "1e8ff6e7-068f-4c32-8a3f-03e27c84693e",
   "metadata": {},
   "outputs": [],
   "source": [
    "new_player = Player(\"John\")"
   ]
  },
  {
   "cell_type": "code",
   "execution_count": 28,
   "id": "43231580-be00-4308-9f23-0f0caac65030",
   "metadata": {},
   "outputs": [
    {
     "name": "stdout",
     "output_type": "stream",
     "text": [
      "John has 0 cards\n"
     ]
    }
   ],
   "source": [
    "print(new_player)"
   ]
  },
  {
   "cell_type": "code",
   "execution_count": 29,
   "id": "fd14d557-1c76-484a-8284-88aecf6b519f",
   "metadata": {},
   "outputs": [],
   "source": [
    "new_player.add_cards(two_hearts)"
   ]
  },
  {
   "cell_type": "code",
   "execution_count": 30,
   "id": "2ea880e3-1f1e-4611-8137-3f803aec11e2",
   "metadata": {},
   "outputs": [
    {
     "name": "stdout",
     "output_type": "stream",
     "text": [
      "John has 1 cards\n"
     ]
    }
   ],
   "source": [
    "print(new_player)"
   ]
  },
  {
   "cell_type": "code",
   "execution_count": 31,
   "id": "ec7fff00-c949-41b5-985a-9418058a20b9",
   "metadata": {},
   "outputs": [],
   "source": [
    "new_player.add_cards([two_hearts, two_hearts, two_hearts])"
   ]
  },
  {
   "cell_type": "code",
   "execution_count": 32,
   "id": "eb0c26b3-48b4-45ad-8a9e-4b31e3f74560",
   "metadata": {},
   "outputs": [
    {
     "name": "stdout",
     "output_type": "stream",
     "text": [
      "John has 4 cards\n"
     ]
    }
   ],
   "source": [
    "print(new_player)"
   ]
  },
  {
   "cell_type": "code",
   "execution_count": 33,
   "id": "40a165a5-987f-4322-bb09-0d398092b26d",
   "metadata": {},
   "outputs": [
    {
     "data": {
      "text/plain": [
       "<__main__.Card at 0x1ef2e2495e0>"
      ]
     },
     "execution_count": 33,
     "metadata": {},
     "output_type": "execute_result"
    }
   ],
   "source": [
    "new_player.remove_one()"
   ]
  },
  {
   "cell_type": "code",
   "execution_count": 34,
   "id": "d87d5591-6814-46d7-88e9-ff432bc730d2",
   "metadata": {},
   "outputs": [
    {
     "name": "stdout",
     "output_type": "stream",
     "text": [
      "John has 3 cards\n"
     ]
    }
   ],
   "source": [
    "print(new_player)"
   ]
  },
  {
   "cell_type": "code",
   "execution_count": null,
   "id": "cb26b29e-2f93-467b-96d9-55295eb890f2",
   "metadata": {},
   "outputs": [],
   "source": []
  },
  {
   "cell_type": "markdown",
   "id": "c5dc06ee-5f21-4351-b79a-28776466bcc4",
   "metadata": {},
   "source": [
    "**GAME**"
   ]
  },
  {
   "cell_type": "code",
   "execution_count": 95,
   "id": "b4f159e5-a983-4b3d-85a2-21d0fbc7f906",
   "metadata": {},
   "outputs": [],
   "source": [
    "player_one = Player(\"One\")\n",
    "player_two = Player(\"Two\")\n",
    "\n",
    "new_deck = Deck()\n",
    "new_deck.shuffle_cards()\n",
    "\n",
    "for x in range(26):\n",
    "    player_one.add_cards(new_deck.deal_one())\n",
    "    player_two.add_cards(new_deck.deal_one())"
   ]
  },
  {
   "cell_type": "code",
   "execution_count": 97,
   "id": "783847a5-f0c6-4502-89d7-ed71070c813a",
   "metadata": {},
   "outputs": [
    {
     "data": {
      "text/plain": [
       "26"
      ]
     },
     "execution_count": 97,
     "metadata": {},
     "output_type": "execute_result"
    }
   ],
   "source": [
    "len(player_one.all_cards)"
   ]
  },
  {
   "cell_type": "code",
   "execution_count": 99,
   "id": "2c90675e-b5ae-4624-8f0a-0ad9a948b33d",
   "metadata": {},
   "outputs": [
    {
     "name": "stdout",
     "output_type": "stream",
     "text": [
      "Jack of spades\n"
     ]
    }
   ],
   "source": [
    "print(player_one.all_cards[0])"
   ]
  },
  {
   "cell_type": "code",
   "execution_count": 101,
   "id": "22893c7c-daff-41f7-8981-bdfde3cedc52",
   "metadata": {},
   "outputs": [],
   "source": [
    "game_on =True"
   ]
  },
  {
   "cell_type": "code",
   "execution_count": 103,
   "id": "a6f58067-be53-474c-a662-1ae8f4fa4fe8",
   "metadata": {},
   "outputs": [
    {
     "name": "stdout",
     "output_type": "stream",
     "text": [
      "Round 1\n",
      "Round 2\n",
      "Round 3\n",
      "Round 4\n",
      "Round 5\n",
      "Round 6\n",
      "Round 7\n",
      "Round 8\n",
      "Round 9\n",
      "Round 10\n",
      "Round 11\n",
      "Round 12\n",
      "Round 13\n",
      "Round 14\n",
      "Round 15\n",
      "Round 16\n",
      "Round 17\n",
      "Round 18\n",
      "WAR!!\n",
      "Round 19\n",
      "Round 20\n",
      "Round 21\n",
      "Round 22\n",
      "Round 23\n",
      "Round 24\n",
      "Round 25\n",
      "Round 26\n",
      "Round 27\n",
      "Round 28\n",
      "Round 29\n",
      "Round 30\n",
      "Round 31\n",
      "Round 32\n",
      "Round 33\n",
      "Round 34\n",
      "Round 35\n",
      "Round 36\n",
      "Round 37\n",
      "Round 38\n",
      "Round 39\n",
      "Round 40\n",
      "Round 41\n",
      "Round 42\n",
      "Round 43\n",
      "Round 44\n",
      "Round 45\n",
      "Round 46\n",
      "Round 47\n",
      "Round 48\n",
      "Round 49\n",
      "Round 50\n",
      "Round 51\n",
      "Round 52\n",
      "Round 53\n",
      "Round 54\n",
      "Round 55\n",
      "Round 56\n",
      "Round 57\n",
      "Round 58\n",
      "Round 59\n",
      "Round 60\n",
      "WAR!!\n",
      "Round 61\n",
      "Round 62\n",
      "Round 63\n",
      "Round 64\n",
      "Round 65\n",
      "Round 66\n",
      "Round 67\n",
      "Round 68\n",
      "Round 69\n",
      "Round 70\n",
      "Round 71\n",
      "Round 72\n",
      "Round 73\n",
      "Round 74\n",
      "Round 75\n",
      "Round 76\n",
      "Round 77\n",
      "Round 78\n",
      "Round 79\n",
      "Round 80\n",
      "Round 81\n",
      "Round 82\n",
      "Round 83\n",
      "Round 84\n",
      "Round 85\n",
      "Round 86\n",
      "Round 87\n",
      "Round 88\n",
      "Round 89\n",
      "Round 90\n",
      "Round 91\n",
      "Round 92\n",
      "Round 93\n",
      "Round 94\n",
      "Round 95\n",
      "Round 96\n",
      "Round 97\n",
      "Round 98\n",
      "Round 99\n",
      "Round 100\n",
      "Round 101\n",
      "Round 102\n",
      "Round 103\n",
      "Round 104\n",
      "WAR!!\n",
      "Round 105\n",
      "Round 106\n",
      "WAR!!\n",
      "Round 107\n",
      "Round 108\n",
      "Round 109\n",
      "Round 110\n",
      "Round 111\n",
      "Round 112\n",
      "Round 113\n",
      "Round 114\n",
      "Round 115\n",
      "WAR!!\n",
      "Round 116\n",
      "Round 117\n",
      "Round 118\n",
      "Round 119\n",
      "Round 120\n",
      "Round 121\n",
      "Round 122\n",
      "Round 123\n",
      "Round 124\n",
      "Round 125\n",
      "Round 126\n",
      "Round 127\n",
      "Round 128\n",
      "Round 129\n",
      "Round 130\n",
      "Round 131\n",
      "Round 132\n",
      "Round 133\n",
      "Round 134\n",
      "Round 135\n",
      "Round 136\n",
      "Round 137\n",
      "Round 138\n",
      "Round 139\n",
      "Round 140\n",
      "Round 141\n",
      "WAR!!\n",
      "Round 142\n",
      "Round 143\n",
      "Round 144\n",
      "Round 145\n",
      "Round 146\n",
      "Round 147\n",
      "Round 148\n",
      "Round 149\n",
      "Round 150\n",
      "Round 151\n",
      "Round 152\n",
      "WAR!!\n",
      "Round 153\n",
      "Round 154\n",
      "Round 155\n",
      "Round 156\n",
      "Round 157\n",
      "Round 158\n",
      "WAR!!\n",
      "Round 159\n",
      "Round 160\n",
      "Round 161\n",
      "Round 162\n",
      "Round 163\n",
      "Round 164\n",
      "Round 165\n",
      "Round 166\n",
      "Round 167\n",
      "Round 168\n",
      "Round 169\n",
      "Round 170\n",
      "Round 171\n",
      "Round 172\n",
      "Round 173\n",
      "Round 174\n",
      "WAR!!\n",
      "Round 175\n",
      "Round 176\n",
      "Round 177\n",
      "Round 178\n",
      "Round 179\n",
      "Round 180\n",
      "Round 181\n",
      "Round 182\n",
      "Round 183\n",
      "Round 184\n",
      "Round 185\n",
      "Round 186\n",
      "Round 187\n",
      "WAR!!\n",
      "Round 188\n",
      "Round 189\n",
      "Round 190\n",
      "Round 191\n",
      "Round 192\n",
      "Round 193\n",
      "Round 194\n",
      "Round 195\n",
      "Round 196\n",
      "Round 197\n",
      "Round 198\n",
      "Round 199\n",
      "Round 200\n",
      "Round 201\n",
      "Round 202\n",
      "Round 203\n",
      "Round 204\n",
      "Round 205\n",
      "WAR!!\n",
      "Round 206\n",
      "Round 207\n",
      "Round 208\n",
      "Round 209\n",
      "Round 210\n",
      "Round 211\n",
      "Round 212\n",
      "Round 213\n",
      "Round 214\n",
      "Round 215\n",
      "Round 216\n",
      "Round 217\n",
      "Round 218\n",
      "Round 219\n",
      "Round 220\n",
      "Round 221\n",
      "Round 222\n",
      "Round 223\n",
      "Round 224\n",
      "WAR!!\n",
      "Round 225\n",
      "Round 226\n",
      "Round 227\n",
      "Round 228\n",
      "Round 229\n",
      "Round 230\n",
      "Round 231\n",
      "Round 232\n",
      "Round 233\n",
      "Round 234\n",
      "Round 235\n",
      "Round 236\n",
      "Round 237\n",
      "Round 238\n",
      "Round 239\n",
      "Round 240\n",
      "Round 241\n",
      "Round 242\n",
      "Round 243\n",
      "Round 244\n",
      "Round 245\n",
      "Round 246\n",
      "Round 247\n",
      "Round 248\n",
      "Round 249\n",
      "Round 250\n",
      "Round 251\n",
      "Round 252\n",
      "Round 253\n",
      "Round 254\n",
      "Round 255\n",
      "Round 256\n",
      "WAR!!\n",
      "Round 257\n",
      "Round 258\n",
      "Round 259\n",
      "WAR!!\n",
      "Player one unable to declare war. Player Two WINS!\n"
     ]
    }
   ],
   "source": [
    "#while game on\n",
    "round_num = 0\n",
    "\n",
    "while game_on:\n",
    "    round_num += 1\n",
    "    print(f\"Round {round_num}\")\n",
    "\n",
    "    if len(player_one.all_cards) == 0:\n",
    "        print(\"Player one out of cards, Player two Wins!\")\n",
    "        game_on = False\n",
    "        break\n",
    "\n",
    "    if len(player_one.all_cards) == 0:\n",
    "        print(\"Player one out of cards, Player two Wins!\")\n",
    "        game_on = False\n",
    "        break\n",
    "\n",
    "    #Start a new round\n",
    "    player_one_cards = []\n",
    "    player_one_cards.append(player_one.remove_one())\n",
    "\n",
    "    player_two_cards = []\n",
    "    player_two_cards.append(player_two.remove_one())\n",
    "\n",
    "\n",
    "    at_war = True\n",
    "\n",
    "    while at_war:\n",
    "        if player_one_cards[-1].value > player_two_cards[-1].value:\n",
    "            player_one.add_cards(player_one_cards)\n",
    "            player_one.add_cards(player_two_cards)\n",
    "\n",
    "            at_war = False\n",
    "\n",
    "        elif player_two_cards[-1].value > player_one_cards[-1].value:\n",
    "            player_two.add_cards(player_two_cards)\n",
    "            player_two.add_cards(player_one_cards)\n",
    "\n",
    "            at_war = False\n",
    "\n",
    "        else:\n",
    "            print(\"WAR!!\")\n",
    "\n",
    "            if len(player_one.all_cards) < 5:\n",
    "                print(\"Player one unable to declare war. Player Two WINS!\")\n",
    "                game_on = False\n",
    "                break\n",
    "\n",
    "            elif len(player_two.all_cards) < 5:\n",
    "                print(\"Player two unable to declare war. Player One WINS!\")\n",
    "                game_on = False\n",
    "                break\n",
    "\n",
    "            else:\n",
    "                for num in range(5):\n",
    "                    player_one_cards.append(player_one.remove_one())\n",
    "                    player_two_cards.append(player_two.remove_one())\n",
    "\n"
   ]
  },
  {
   "cell_type": "code",
   "execution_count": null,
   "id": "5ab3ac9f-38cc-4b1a-b155-286ac41c19ae",
   "metadata": {},
   "outputs": [],
   "source": []
  },
  {
   "cell_type": "code",
   "execution_count": null,
   "id": "3ac4de8b-73da-4727-a41c-24bcc3ba1e6e",
   "metadata": {},
   "outputs": [],
   "source": []
  }
 ],
 "metadata": {
  "kernelspec": {
   "display_name": "Python 3 (ipykernel)",
   "language": "python",
   "name": "python3"
  },
  "language_info": {
   "codemirror_mode": {
    "name": "ipython",
    "version": 3
   },
   "file_extension": ".py",
   "mimetype": "text/x-python",
   "name": "python",
   "nbconvert_exporter": "python",
   "pygments_lexer": "ipython3",
   "version": "3.12.3"
  }
 },
 "nbformat": 4,
 "nbformat_minor": 5
}
